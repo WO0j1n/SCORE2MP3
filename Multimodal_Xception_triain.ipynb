{
  "cells": [
    {
      "cell_type": "code",
      "execution_count": null,
      "metadata": {
        "colab": {
          "base_uri": "https://localhost:8080/"
        },
        "id": "NFLOvyTt3943",
        "outputId": "a411599c-79fb-4a64-d131-e5f8d53ff276"
      },
      "outputs": [
        {
          "output_type": "stream",
          "name": "stdout",
          "text": [
            "                filename  classID class    set         ground_truth\n",
            "0  A-1_German_Studio.wav        0   A-1  train  A-1_Sheet_Music.jpg\n",
            "1  B-1_German_Studio.wav        2   B-1  train  B-1_Sheet_Music.jpg\n",
            "2   C0_German_Studio.wav        3    C0  train   C0_Sheet_Music.jpg\n",
            "3   D0_German_Studio.wav        5    D0  train   D0_Sheet_Music.jpg\n",
            "4   E0_German_Studio.wav        7    E0  train   E0_Sheet_Music.jpg\n"
          ]
        }
      ],
      "source": [
        "import pandas as pd\n",
        "\n",
        "meta_path = \"/content/drive/MyDrive/MusicMNIST_Project/metadata/Annotations_Instruments_Split_Train.csv\"\n",
        "meta = pd.read_csv(meta_path)\n",
        "\n",
        "# 앞부분 확인\n",
        "print(meta.head())\n"
      ]
    },
    {
      "cell_type": "code",
      "execution_count": null,
      "metadata": {
        "id": "ds5tApYa6k_g"
      },
      "outputs": [],
      "source": [
        "\n",
        "BASE_PATH = \"/content/drive/MyDrive/MusicMNIST_Project\"\n",
        "TRAIN_AUDIO_DIR = f\"{BASE_PATH}/train\"\n",
        "IMAGE_DIR = f\"{BASE_PATH}/images\"\n",
        "CSV_PATH = f\"{BASE_PATH}/metadata/Annotations_Instruments_Split_Train.csv\"\n",
        "TEST_DIR = f'{BASE_PATH}/test'\n"
      ]
    },
    {
      "cell_type": "code",
      "source": [
        "!pip install librosa\n"
      ],
      "metadata": {
        "colab": {
          "base_uri": "https://localhost:8080/"
        },
        "id": "SI_kiNOgfI14",
        "outputId": "4c5531d9-3880-4af7-c7b7-72c07ee3307c"
      },
      "execution_count": null,
      "outputs": [
        {
          "output_type": "stream",
          "name": "stdout",
          "text": [
            "Requirement already satisfied: librosa in /usr/local/lib/python3.11/dist-packages (0.11.0)\n",
            "Requirement already satisfied: audioread>=2.1.9 in /usr/local/lib/python3.11/dist-packages (from librosa) (3.0.1)\n",
            "Requirement already satisfied: numba>=0.51.0 in /usr/local/lib/python3.11/dist-packages (from librosa) (0.60.0)\n",
            "Requirement already satisfied: numpy>=1.22.3 in /usr/local/lib/python3.11/dist-packages (from librosa) (2.0.2)\n",
            "Requirement already satisfied: scipy>=1.6.0 in /usr/local/lib/python3.11/dist-packages (from librosa) (1.15.3)\n",
            "Requirement already satisfied: scikit-learn>=1.1.0 in /usr/local/lib/python3.11/dist-packages (from librosa) (1.6.1)\n",
            "Requirement already satisfied: joblib>=1.0 in /usr/local/lib/python3.11/dist-packages (from librosa) (1.5.0)\n",
            "Requirement already satisfied: decorator>=4.3.0 in /usr/local/lib/python3.11/dist-packages (from librosa) (4.4.2)\n",
            "Requirement already satisfied: soundfile>=0.12.1 in /usr/local/lib/python3.11/dist-packages (from librosa) (0.13.1)\n",
            "Requirement already satisfied: pooch>=1.1 in /usr/local/lib/python3.11/dist-packages (from librosa) (1.8.2)\n",
            "Requirement already satisfied: soxr>=0.3.2 in /usr/local/lib/python3.11/dist-packages (from librosa) (0.5.0.post1)\n",
            "Requirement already satisfied: typing_extensions>=4.1.1 in /usr/local/lib/python3.11/dist-packages (from librosa) (4.13.2)\n",
            "Requirement already satisfied: lazy_loader>=0.1 in /usr/local/lib/python3.11/dist-packages (from librosa) (0.4)\n",
            "Requirement already satisfied: msgpack>=1.0 in /usr/local/lib/python3.11/dist-packages (from librosa) (1.1.0)\n",
            "Requirement already satisfied: packaging in /usr/local/lib/python3.11/dist-packages (from lazy_loader>=0.1->librosa) (24.2)\n",
            "Requirement already satisfied: llvmlite<0.44,>=0.43.0dev0 in /usr/local/lib/python3.11/dist-packages (from numba>=0.51.0->librosa) (0.43.0)\n",
            "Requirement already satisfied: platformdirs>=2.5.0 in /usr/local/lib/python3.11/dist-packages (from pooch>=1.1->librosa) (4.3.8)\n",
            "Requirement already satisfied: requests>=2.19.0 in /usr/local/lib/python3.11/dist-packages (from pooch>=1.1->librosa) (2.32.3)\n",
            "Requirement already satisfied: threadpoolctl>=3.1.0 in /usr/local/lib/python3.11/dist-packages (from scikit-learn>=1.1.0->librosa) (3.6.0)\n",
            "Requirement already satisfied: cffi>=1.0 in /usr/local/lib/python3.11/dist-packages (from soundfile>=0.12.1->librosa) (1.17.1)\n",
            "Requirement already satisfied: pycparser in /usr/local/lib/python3.11/dist-packages (from cffi>=1.0->soundfile>=0.12.1->librosa) (2.22)\n",
            "Requirement already satisfied: charset-normalizer<4,>=2 in /usr/local/lib/python3.11/dist-packages (from requests>=2.19.0->pooch>=1.1->librosa) (3.4.2)\n",
            "Requirement already satisfied: idna<4,>=2.5 in /usr/local/lib/python3.11/dist-packages (from requests>=2.19.0->pooch>=1.1->librosa) (3.10)\n",
            "Requirement already satisfied: urllib3<3,>=1.21.1 in /usr/local/lib/python3.11/dist-packages (from requests>=2.19.0->pooch>=1.1->librosa) (2.4.0)\n",
            "Requirement already satisfied: certifi>=2017.4.17 in /usr/local/lib/python3.11/dist-packages (from requests>=2.19.0->pooch>=1.1->librosa) (2025.4.26)\n"
          ]
        }
      ]
    },
    {
      "cell_type": "code",
      "source": [
        "import librosa\n",
        "import numpy as np\n",
        "\n",
        "def wav_to_mel(path, sr=22050, n_mels=128, duration=3):\n",
        "    y, _ = librosa.load(path, sr=sr, duration=duration)\n",
        "    mel = librosa.feature.melspectrogram(y=y, sr=sr, n_mels=n_mels)\n",
        "    mel_db = librosa.power_to_db(mel, ref=np.max)\n",
        "    mel_db = mel_db[..., :130]  # (128, 130)로 고정 (3초)\n",
        "    mel_db = np.expand_dims(mel_db, axis=-1)  # 채널 추가\n",
        "    return mel_db\n"
      ],
      "metadata": {
        "id": "VPttDjpJfSMx"
      },
      "execution_count": null,
      "outputs": []
    },
    {
      "cell_type": "code",
      "source": [
        "import tensorflow as tf\n",
        "class MultiModalDataset(tf.keras.utils.Sequence):\n",
        "    def __init__(self, df, image_dir, audio_dir, batch_size=32, input_size=(299, 299), num_classes=88):\n",
        "        self.df = df.reset_index(drop=True)\n",
        "        self.image_dir = image_dir\n",
        "        self.audio_dir = audio_dir\n",
        "        self.batch_size = batch_size\n",
        "        self.input_size = input_size\n",
        "        self.num_classes = num_classes\n",
        "\n",
        "    def __len__(self):\n",
        "        return len(self.df) // self.batch_size\n",
        "\n",
        "    def __getitem__(self, idx):\n",
        "        batch_df = self.df.iloc[idx * self.batch_size:(idx + 1) * self.batch_size]\n",
        "\n",
        "        image_batch = []\n",
        "        audio_batch = []\n",
        "        label_batch = []\n",
        "\n",
        "        for _, row in batch_df.iterrows():\n",
        "            # 이미지\n",
        "            image_path = os.path.join(self.image_dir, row['ground_truth'])\n",
        "            img = cv2.imread(image_path)\n",
        "            img = cv2.resize(img, self.input_size)\n",
        "            img = tf.keras.applications.xception.preprocess_input(img.astype('float32'))\n",
        "            image_batch.append(img)\n",
        "\n",
        "            # 오디오\n",
        "            audio_path = os.path.join(self.audio_dir, row['filename'])\n",
        "            mel = wav_to_mel(audio_path)\n",
        "            audio_batch.append(mel)\n",
        "\n",
        "            # 라벨\n",
        "            label_batch.append(np.array(row['label_cat']))\n",
        "\n",
        "        return [np.array(image_batch), np.array(audio_batch)], np.array(label_batch)\n"
      ],
      "metadata": {
        "id": "SyFTQKkzfTZM"
      },
      "execution_count": null,
      "outputs": []
    },
    {
      "cell_type": "code",
      "execution_count": null,
      "metadata": {
        "colab": {
          "base_uri": "https://localhost:8080/",
          "height": 420
        },
        "id": "Z8woAYsCze1Z",
        "outputId": "740bb83e-9a3f-433f-a12c-e793a65c689d"
      },
      "outputs": [
        {
          "output_type": "stream",
          "name": "stdout",
          "text": [
            "Downloading data from https://storage.googleapis.com/tensorflow/keras-applications/xception/xception_weights_tf_dim_ordering_tf_kernels_notop.h5\n",
            "\u001b[1m18620416/83683744\u001b[0m \u001b[32m━━━━\u001b[0m\u001b[37m━━━━━━━━━━━━━━━━\u001b[0m \u001b[1m6s\u001b[0m 0us/step"
          ]
        },
        {
          "output_type": "error",
          "ename": "KeyboardInterrupt",
          "evalue": "",
          "traceback": [
            "\u001b[0;31m---------------------------------------------------------------------------\u001b[0m",
            "\u001b[0;31mKeyboardInterrupt\u001b[0m                         Traceback (most recent call last)",
            "\u001b[0;32m<ipython-input-5-477787806acd>\u001b[0m in \u001b[0;36m<cell line: 0>\u001b[0;34m()\u001b[0m\n\u001b[1;32m      9\u001b[0m \u001b[0;31m# 🔹 이미지 입력 (Xception 구조 유지)\u001b[0m\u001b[0;34m\u001b[0m\u001b[0;34m\u001b[0m\u001b[0m\n\u001b[1;32m     10\u001b[0m \u001b[0mxception_input\u001b[0m \u001b[0;34m=\u001b[0m \u001b[0mInput\u001b[0m\u001b[0;34m(\u001b[0m\u001b[0mshape\u001b[0m\u001b[0;34m=\u001b[0m\u001b[0;34m(\u001b[0m\u001b[0;36m299\u001b[0m\u001b[0;34m,\u001b[0m \u001b[0;36m299\u001b[0m\u001b[0;34m,\u001b[0m \u001b[0;36m3\u001b[0m\u001b[0;34m)\u001b[0m\u001b[0;34m,\u001b[0m \u001b[0mname\u001b[0m\u001b[0;34m=\u001b[0m\u001b[0;34m'image_input'\u001b[0m\u001b[0;34m)\u001b[0m\u001b[0;34m\u001b[0m\u001b[0;34m\u001b[0m\u001b[0m\n\u001b[0;32m---> 11\u001b[0;31m \u001b[0mbase_model\u001b[0m \u001b[0;34m=\u001b[0m \u001b[0mXception\u001b[0m\u001b[0;34m(\u001b[0m\u001b[0mweights\u001b[0m\u001b[0;34m=\u001b[0m\u001b[0;34m'imagenet'\u001b[0m\u001b[0;34m,\u001b[0m \u001b[0minclude_top\u001b[0m\u001b[0;34m=\u001b[0m\u001b[0;32mFalse\u001b[0m\u001b[0;34m,\u001b[0m \u001b[0minput_tensor\u001b[0m\u001b[0;34m=\u001b[0m\u001b[0mxception_input\u001b[0m\u001b[0;34m)\u001b[0m\u001b[0;34m\u001b[0m\u001b[0;34m\u001b[0m\u001b[0m\n\u001b[0m\u001b[1;32m     12\u001b[0m \u001b[0;34m\u001b[0m\u001b[0m\n\u001b[1;32m     13\u001b[0m \u001b[0mx\u001b[0m \u001b[0;34m=\u001b[0m \u001b[0mbase_model\u001b[0m\u001b[0;34m.\u001b[0m\u001b[0moutput\u001b[0m\u001b[0;34m\u001b[0m\u001b[0;34m\u001b[0m\u001b[0m\n",
            "\u001b[0;32m/usr/local/lib/python3.11/dist-packages/keras/src/applications/xception.py\u001b[0m in \u001b[0;36mXception\u001b[0;34m(include_top, weights, input_tensor, input_shape, pooling, classes, classifier_activation, name)\u001b[0m\n\u001b[1;32m    323\u001b[0m             )\n\u001b[1;32m    324\u001b[0m         \u001b[0;32melse\u001b[0m\u001b[0;34m:\u001b[0m\u001b[0;34m\u001b[0m\u001b[0;34m\u001b[0m\u001b[0m\n\u001b[0;32m--> 325\u001b[0;31m             weights_path = file_utils.get_file(\n\u001b[0m\u001b[1;32m    326\u001b[0m                 \u001b[0;34m\"xception_weights_tf_dim_ordering_tf_kernels_notop.h5\"\u001b[0m\u001b[0;34m,\u001b[0m\u001b[0;34m\u001b[0m\u001b[0;34m\u001b[0m\u001b[0m\n\u001b[1;32m    327\u001b[0m                 \u001b[0mWEIGHTS_PATH_NO_TOP\u001b[0m\u001b[0;34m,\u001b[0m\u001b[0;34m\u001b[0m\u001b[0;34m\u001b[0m\u001b[0m\n",
            "\u001b[0;32m/usr/local/lib/python3.11/dist-packages/keras/src/utils/file_utils.py\u001b[0m in \u001b[0;36mget_file\u001b[0;34m(fname, origin, untar, md5_hash, file_hash, cache_subdir, hash_algorithm, extract, archive_format, cache_dir, force_download)\u001b[0m\n\u001b[1;32m    309\u001b[0m         \u001b[0;32mtry\u001b[0m\u001b[0;34m:\u001b[0m\u001b[0;34m\u001b[0m\u001b[0;34m\u001b[0m\u001b[0m\n\u001b[1;32m    310\u001b[0m             \u001b[0;32mtry\u001b[0m\u001b[0;34m:\u001b[0m\u001b[0;34m\u001b[0m\u001b[0;34m\u001b[0m\u001b[0m\n\u001b[0;32m--> 311\u001b[0;31m                 \u001b[0murlretrieve\u001b[0m\u001b[0;34m(\u001b[0m\u001b[0morigin\u001b[0m\u001b[0;34m,\u001b[0m \u001b[0mdownload_target\u001b[0m\u001b[0;34m,\u001b[0m \u001b[0mDLProgbar\u001b[0m\u001b[0;34m(\u001b[0m\u001b[0;34m)\u001b[0m\u001b[0;34m)\u001b[0m\u001b[0;34m\u001b[0m\u001b[0;34m\u001b[0m\u001b[0m\n\u001b[0m\u001b[1;32m    312\u001b[0m             \u001b[0;32mexcept\u001b[0m \u001b[0murllib\u001b[0m\u001b[0;34m.\u001b[0m\u001b[0merror\u001b[0m\u001b[0;34m.\u001b[0m\u001b[0mHTTPError\u001b[0m \u001b[0;32mas\u001b[0m \u001b[0me\u001b[0m\u001b[0;34m:\u001b[0m\u001b[0;34m\u001b[0m\u001b[0;34m\u001b[0m\u001b[0m\n\u001b[1;32m    313\u001b[0m                 \u001b[0;32mraise\u001b[0m \u001b[0mException\u001b[0m\u001b[0;34m(\u001b[0m\u001b[0merror_msg\u001b[0m\u001b[0;34m.\u001b[0m\u001b[0mformat\u001b[0m\u001b[0;34m(\u001b[0m\u001b[0morigin\u001b[0m\u001b[0;34m,\u001b[0m \u001b[0me\u001b[0m\u001b[0;34m.\u001b[0m\u001b[0mcode\u001b[0m\u001b[0;34m,\u001b[0m \u001b[0me\u001b[0m\u001b[0;34m.\u001b[0m\u001b[0mmsg\u001b[0m\u001b[0;34m)\u001b[0m\u001b[0;34m)\u001b[0m\u001b[0;34m\u001b[0m\u001b[0;34m\u001b[0m\u001b[0m\n",
            "\u001b[0;32m/usr/lib/python3.11/urllib/request.py\u001b[0m in \u001b[0;36murlretrieve\u001b[0;34m(url, filename, reporthook, data)\u001b[0m\n\u001b[1;32m    268\u001b[0m \u001b[0;34m\u001b[0m\u001b[0m\n\u001b[1;32m    269\u001b[0m             \u001b[0;32mwhile\u001b[0m \u001b[0;32mTrue\u001b[0m\u001b[0;34m:\u001b[0m\u001b[0;34m\u001b[0m\u001b[0;34m\u001b[0m\u001b[0m\n\u001b[0;32m--> 270\u001b[0;31m                 \u001b[0mblock\u001b[0m \u001b[0;34m=\u001b[0m \u001b[0mfp\u001b[0m\u001b[0;34m.\u001b[0m\u001b[0mread\u001b[0m\u001b[0;34m(\u001b[0m\u001b[0mbs\u001b[0m\u001b[0;34m)\u001b[0m\u001b[0;34m\u001b[0m\u001b[0;34m\u001b[0m\u001b[0m\n\u001b[0m\u001b[1;32m    271\u001b[0m                 \u001b[0;32mif\u001b[0m \u001b[0;32mnot\u001b[0m \u001b[0mblock\u001b[0m\u001b[0;34m:\u001b[0m\u001b[0;34m\u001b[0m\u001b[0;34m\u001b[0m\u001b[0m\n\u001b[1;32m    272\u001b[0m                     \u001b[0;32mbreak\u001b[0m\u001b[0;34m\u001b[0m\u001b[0;34m\u001b[0m\u001b[0m\n",
            "\u001b[0;32m/usr/lib/python3.11/http/client.py\u001b[0m in \u001b[0;36mread\u001b[0;34m(self, amt)\u001b[0m\n\u001b[1;32m    471\u001b[0m                 \u001b[0;31m# clip the read to the \"end of response\"\u001b[0m\u001b[0;34m\u001b[0m\u001b[0;34m\u001b[0m\u001b[0m\n\u001b[1;32m    472\u001b[0m                 \u001b[0mamt\u001b[0m \u001b[0;34m=\u001b[0m \u001b[0mself\u001b[0m\u001b[0;34m.\u001b[0m\u001b[0mlength\u001b[0m\u001b[0;34m\u001b[0m\u001b[0;34m\u001b[0m\u001b[0m\n\u001b[0;32m--> 473\u001b[0;31m             \u001b[0ms\u001b[0m \u001b[0;34m=\u001b[0m \u001b[0mself\u001b[0m\u001b[0;34m.\u001b[0m\u001b[0mfp\u001b[0m\u001b[0;34m.\u001b[0m\u001b[0mread\u001b[0m\u001b[0;34m(\u001b[0m\u001b[0mamt\u001b[0m\u001b[0;34m)\u001b[0m\u001b[0;34m\u001b[0m\u001b[0;34m\u001b[0m\u001b[0m\n\u001b[0m\u001b[1;32m    474\u001b[0m             \u001b[0;32mif\u001b[0m \u001b[0;32mnot\u001b[0m \u001b[0ms\u001b[0m \u001b[0;32mand\u001b[0m \u001b[0mamt\u001b[0m\u001b[0;34m:\u001b[0m\u001b[0;34m\u001b[0m\u001b[0;34m\u001b[0m\u001b[0m\n\u001b[1;32m    475\u001b[0m                 \u001b[0;31m# Ideally, we would raise IncompleteRead if the content-length\u001b[0m\u001b[0;34m\u001b[0m\u001b[0;34m\u001b[0m\u001b[0m\n",
            "\u001b[0;32m/usr/lib/python3.11/socket.py\u001b[0m in \u001b[0;36mreadinto\u001b[0;34m(self, b)\u001b[0m\n\u001b[1;32m    716\u001b[0m         \u001b[0;32mwhile\u001b[0m \u001b[0;32mTrue\u001b[0m\u001b[0;34m:\u001b[0m\u001b[0;34m\u001b[0m\u001b[0;34m\u001b[0m\u001b[0m\n\u001b[1;32m    717\u001b[0m             \u001b[0;32mtry\u001b[0m\u001b[0;34m:\u001b[0m\u001b[0;34m\u001b[0m\u001b[0;34m\u001b[0m\u001b[0m\n\u001b[0;32m--> 718\u001b[0;31m                 \u001b[0;32mreturn\u001b[0m \u001b[0mself\u001b[0m\u001b[0;34m.\u001b[0m\u001b[0m_sock\u001b[0m\u001b[0;34m.\u001b[0m\u001b[0mrecv_into\u001b[0m\u001b[0;34m(\u001b[0m\u001b[0mb\u001b[0m\u001b[0;34m)\u001b[0m\u001b[0;34m\u001b[0m\u001b[0;34m\u001b[0m\u001b[0m\n\u001b[0m\u001b[1;32m    719\u001b[0m             \u001b[0;32mexcept\u001b[0m \u001b[0mtimeout\u001b[0m\u001b[0;34m:\u001b[0m\u001b[0;34m\u001b[0m\u001b[0;34m\u001b[0m\u001b[0m\n\u001b[1;32m    720\u001b[0m                 \u001b[0mself\u001b[0m\u001b[0;34m.\u001b[0m\u001b[0m_timeout_occurred\u001b[0m \u001b[0;34m=\u001b[0m \u001b[0;32mTrue\u001b[0m\u001b[0;34m\u001b[0m\u001b[0;34m\u001b[0m\u001b[0m\n",
            "\u001b[0;32m/usr/lib/python3.11/ssl.py\u001b[0m in \u001b[0;36mrecv_into\u001b[0;34m(self, buffer, nbytes, flags)\u001b[0m\n\u001b[1;32m   1312\u001b[0m                   \u001b[0;34m\"non-zero flags not allowed in calls to recv_into() on %s\"\u001b[0m \u001b[0;34m%\u001b[0m\u001b[0;34m\u001b[0m\u001b[0;34m\u001b[0m\u001b[0m\n\u001b[1;32m   1313\u001b[0m                   self.__class__)\n\u001b[0;32m-> 1314\u001b[0;31m             \u001b[0;32mreturn\u001b[0m \u001b[0mself\u001b[0m\u001b[0;34m.\u001b[0m\u001b[0mread\u001b[0m\u001b[0;34m(\u001b[0m\u001b[0mnbytes\u001b[0m\u001b[0;34m,\u001b[0m \u001b[0mbuffer\u001b[0m\u001b[0;34m)\u001b[0m\u001b[0;34m\u001b[0m\u001b[0;34m\u001b[0m\u001b[0m\n\u001b[0m\u001b[1;32m   1315\u001b[0m         \u001b[0;32melse\u001b[0m\u001b[0;34m:\u001b[0m\u001b[0;34m\u001b[0m\u001b[0;34m\u001b[0m\u001b[0m\n\u001b[1;32m   1316\u001b[0m             \u001b[0;32mreturn\u001b[0m \u001b[0msuper\u001b[0m\u001b[0;34m(\u001b[0m\u001b[0;34m)\u001b[0m\u001b[0;34m.\u001b[0m\u001b[0mrecv_into\u001b[0m\u001b[0;34m(\u001b[0m\u001b[0mbuffer\u001b[0m\u001b[0;34m,\u001b[0m \u001b[0mnbytes\u001b[0m\u001b[0;34m,\u001b[0m \u001b[0mflags\u001b[0m\u001b[0;34m)\u001b[0m\u001b[0;34m\u001b[0m\u001b[0;34m\u001b[0m\u001b[0m\n",
            "\u001b[0;32m/usr/lib/python3.11/ssl.py\u001b[0m in \u001b[0;36mread\u001b[0;34m(self, len, buffer)\u001b[0m\n\u001b[1;32m   1164\u001b[0m         \u001b[0;32mtry\u001b[0m\u001b[0;34m:\u001b[0m\u001b[0;34m\u001b[0m\u001b[0;34m\u001b[0m\u001b[0m\n\u001b[1;32m   1165\u001b[0m             \u001b[0;32mif\u001b[0m \u001b[0mbuffer\u001b[0m \u001b[0;32mis\u001b[0m \u001b[0;32mnot\u001b[0m \u001b[0;32mNone\u001b[0m\u001b[0;34m:\u001b[0m\u001b[0;34m\u001b[0m\u001b[0;34m\u001b[0m\u001b[0m\n\u001b[0;32m-> 1166\u001b[0;31m                 \u001b[0;32mreturn\u001b[0m \u001b[0mself\u001b[0m\u001b[0;34m.\u001b[0m\u001b[0m_sslobj\u001b[0m\u001b[0;34m.\u001b[0m\u001b[0mread\u001b[0m\u001b[0;34m(\u001b[0m\u001b[0mlen\u001b[0m\u001b[0;34m,\u001b[0m \u001b[0mbuffer\u001b[0m\u001b[0;34m)\u001b[0m\u001b[0;34m\u001b[0m\u001b[0;34m\u001b[0m\u001b[0m\n\u001b[0m\u001b[1;32m   1167\u001b[0m             \u001b[0;32melse\u001b[0m\u001b[0;34m:\u001b[0m\u001b[0;34m\u001b[0m\u001b[0;34m\u001b[0m\u001b[0m\n\u001b[1;32m   1168\u001b[0m                 \u001b[0;32mreturn\u001b[0m \u001b[0mself\u001b[0m\u001b[0;34m.\u001b[0m\u001b[0m_sslobj\u001b[0m\u001b[0;34m.\u001b[0m\u001b[0mread\u001b[0m\u001b[0;34m(\u001b[0m\u001b[0mlen\u001b[0m\u001b[0;34m)\u001b[0m\u001b[0;34m\u001b[0m\u001b[0;34m\u001b[0m\u001b[0m\n",
            "\u001b[0;31mKeyboardInterrupt\u001b[0m: "
          ]
        }
      ],
      "source": [
        "import tensorflow as tf\n",
        "from tensorflow.keras.applications import Xception\n",
        "from tensorflow.keras.models import Model\n",
        "from tensorflow.keras.layers import (\n",
        "    Input, Dense, Dropout, GlobalAveragePooling2D,\n",
        "    Conv2D, MaxPooling2D, Flatten, Concatenate\n",
        ")\n",
        "\n",
        "# 🔹 이미지 입력 (Xception 구조 유지)\n",
        "xception_input = Input(shape=(299, 299, 3), name='image_input')\n",
        "base_model = Xception(weights='imagenet', include_top=False, input_tensor=xception_input)\n",
        "\n",
        "x = base_model.output\n",
        "x = GlobalAveragePooling2D()(x)\n",
        "x = Dense(256, activation='relu')(x)\n",
        "x = Dropout(0.2)(x)\n",
        "x = Dense(128, activation='relu')(x)\n",
        "x = Dropout(0.2)(x)\n",
        "image_feature = x  # softmax 전에 feature만 추출\n",
        "\n",
        "# 🔸 오디오 입력 (Mel spectrogram → CNN)\n",
        "audio_input = Input(shape=(128, 130, 1), name='audio_input')\n",
        "a = Conv2D(32, (3, 3), activation='relu')(audio_input)\n",
        "a = MaxPooling2D((2, 2))(a)\n",
        "a = Conv2D(64, (3, 3), activation='relu')(a)\n",
        "a = MaxPooling2D((2, 2))(a)\n",
        "a = Flatten()(a)\n",
        "a = Dense(128, activation='relu')(a)\n",
        "audio_feature = a\n",
        "\n",
        "# 🔗 이미지 + 오디오 feature 병합\n",
        "merged = Concatenate()([image_feature, audio_feature])\n",
        "merged = Dropout(0.3)(merged)\n",
        "merged = Dense(128, activation='relu')(merged)\n",
        "\n",
        "# 🎯 최종 출력: 88-class softmax\n",
        "output = Dense(88, activation='softmax', name='output')(merged)\n",
        "\n",
        "# 🧠 멀티모달 모델 구성\n",
        "multi_input_model = Model(inputs=[xception_input, audio_input], outputs=output)\n",
        "\n",
        "# 🔧 컴파일\n",
        "multi_input_model.compile(optimizer='adam', loss='categorical_crossentropy', metrics=['accuracy'])\n",
        "\n",
        "# 📌 모델 요약\n",
        "multi_input_model.summary()\n"
      ]
    },
    {
      "cell_type": "code",
      "source": [],
      "metadata": {
        "id": "t64rOVGPfc-e"
      },
      "execution_count": null,
      "outputs": []
    },
    {
      "cell_type": "code",
      "source": [
        "import pandas as pd\n",
        "from sklearn.preprocessing import LabelEncoder\n",
        "from tensorflow.keras.utils import to_categorical\n",
        "\n",
        "df = pd.read_csv(CSV_PATH)\n",
        "print(df.head())\n",
        "\n",
        "# 클래스 인코딩\n",
        "label_encoder = LabelEncoder()\n",
        "df['label'] = label_encoder.fit_transform(df['class'])  # 'note' 열은 계이름\n",
        "num_classes = len(label_encoder.classes_)\n",
        "df['label_cat'] = to_categorical(df['label'], num_classes=num_classes).tolist()\n"
      ],
      "metadata": {
        "colab": {
          "base_uri": "https://localhost:8080/"
        },
        "id": "zn8YCaUwcpst",
        "outputId": "7a81ebbf-12d9-41b2-bfa5-11827899f2d1"
      },
      "execution_count": null,
      "outputs": [
        {
          "output_type": "stream",
          "name": "stdout",
          "text": [
            "                filename  classID class    set         ground_truth\n",
            "0  A-1_German_Studio.wav        0   A-1  train  A-1_Sheet_Music.jpg\n",
            "1  B-1_German_Studio.wav        2   B-1  train  B-1_Sheet_Music.jpg\n",
            "2   C0_German_Studio.wav        3    C0  train   C0_Sheet_Music.jpg\n",
            "3   D0_German_Studio.wav        5    D0  train   D0_Sheet_Music.jpg\n",
            "4   E0_German_Studio.wav        7    E0  train   E0_Sheet_Music.jpg\n"
          ]
        }
      ]
    },
    {
      "cell_type": "code",
      "source": [
        "import cv2\n",
        "import numpy as np\n",
        "from tensorflow.keras.utils import Sequence\n",
        "import random\n",
        "import os\n",
        "import librosa\n",
        "import tensorflow as tf\n",
        "\n",
        "# Mel-spectrogram 변환 함수\n",
        "def wav_to_mel(path, sr=22050, n_mels=128, duration=3, fixed_frames=130):\n",
        "    y, _ = librosa.load(path, sr=sr, duration=duration)\n",
        "\n",
        "    mel = librosa.feature.melspectrogram(y=y, sr=sr, n_mels=n_mels)\n",
        "    mel_db = librosa.power_to_db(mel, ref=np.max)  # (128, variable)\n",
        "\n",
        "    # 시간축 길이 맞추기 (padding or truncating)\n",
        "    if mel_db.shape[1] < fixed_frames:\n",
        "        pad_width = fixed_frames - mel_db.shape[1]\n",
        "        mel_db = np.pad(mel_db, ((0,0), (0, pad_width)), mode='constant')\n",
        "    else:\n",
        "        mel_db = mel_db[:, :fixed_frames]\n",
        "\n",
        "    mel_db = mel_db[..., np.newaxis]  # (128, 130, 1)\n",
        "    return mel_db\n",
        "\n",
        "\n",
        "# 멀티모달 데이터셋 클래스\n",
        "class MultiModalDataset(Sequence):\n",
        "    def __init__(self, df, image_dir, audio_dir, batch_size=16, input_size=(299, 299), **kwargs):\n",
        "        super().__init__(**kwargs)\n",
        "        self.df = df.reset_index(drop=True)\n",
        "        self.image_dir = image_dir\n",
        "        self.audio_dir = audio_dir\n",
        "        self.batch_size = batch_size\n",
        "        self.input_size = input_size\n",
        "        self.indices = list(range(len(df)))\n",
        "\n",
        "    def __len__(self):\n",
        "        return len(self.indices) // self.batch_size\n",
        "\n",
        "    def __getitem__(self, idx):\n",
        "        batch_df = self.df.iloc[idx * self.batch_size:(idx + 1) * self.batch_size]\n",
        "\n",
        "        image_batch = []\n",
        "        audio_batch = []\n",
        "        label_batch = []\n",
        "\n",
        "        for _, row in batch_df.iterrows():\n",
        "            # 이미지 처리\n",
        "            img_path = os.path.join(self.image_dir, row['ground_truth'])\n",
        "            img = cv2.imread(img_path)\n",
        "            img = cv2.resize(img, self.input_size)\n",
        "            img = tf.keras.applications.xception.preprocess_input(img.astype('float32'))\n",
        "            image_batch.append(img)\n",
        "\n",
        "            # 오디오 처리\n",
        "            audio_path = os.path.join(self.audio_dir, row['filename'])\n",
        "            mel = wav_to_mel(audio_path)\n",
        "            audio_batch.append(mel)\n",
        "\n",
        "            # 라벨 처리\n",
        "            label_batch.append(np.array(row['label_cat']))\n",
        "\n",
        "        # 🧪 디버깅 출력\n",
        "        print(f\"[DEBUG] image_batch: {np.array(image_batch).shape}, audio_batch: {np.array(audio_batch).shape}, label_batch: {np.array(label_batch).shape}\")\n",
        "\n",
        "        return (\n",
        "            {\n",
        "                \"image_input\": np.array(image_batch),\n",
        "                \"audio_input\": np.array(audio_batch)\n",
        "            },\n",
        "            np.array(label_batch, dtype=np.float32)\n",
        "        )\n",
        "\n",
        "    def on_epoch_end(self):\n",
        "        random.shuffle(self.indices)\n"
      ],
      "metadata": {
        "id": "wyO5epzwc7Lh"
      },
      "execution_count": null,
      "outputs": []
    },
    {
      "cell_type": "code",
      "source": [
        "# ====== 1. 라이브러리 임포트 ======\n",
        "import os, cv2, librosa\n",
        "import numpy as np\n",
        "import pandas as pd\n",
        "import tensorflow as tf\n",
        "import matplotlib.pyplot as plt\n",
        "\n",
        "from sklearn.preprocessing import LabelEncoder\n",
        "from sklearn.model_selection import train_test_split\n",
        "from tensorflow.keras.utils import to_categorical, Sequence\n",
        "from tensorflow.keras.applications import Xception\n",
        "from tensorflow.keras.models import Model\n",
        "from tensorflow.keras.layers import Input, Dense, Dropout, GlobalAveragePooling2D, Conv2D, MaxPooling2D, Flatten, Concatenate\n",
        "\n",
        "# ====== 2. 경로 설정 ======\n",
        "BASE_PATH = \"/content/drive/MyDrive/MusicMNIST_Project\"\n",
        "IMAGE_DIR = f\"{BASE_PATH}/images\"\n",
        "AUDIO_DIR = f\"{BASE_PATH}/train\"\n",
        "CSV_PATH = f\"{BASE_PATH}/metadata/Annotations_Instruments_Split_Train.csv\"\n",
        "\n",
        "# ====== 3. 데이터 로딩 및 라벨 인코딩 ======\n",
        "df = pd.read_csv(CSV_PATH)\n",
        "label_encoder = LabelEncoder()\n",
        "df['label'] = label_encoder.fit_transform(df['class'])\n",
        "label_cat_array = to_categorical(df['label'], num_classes=88).astype(np.float32)\n",
        "df['label_idx'] = df.index\n",
        "\n",
        "# ====== 4. 오디오 → Mel 변환 함수 ======\n",
        "def wav_to_mel(path, sr=22050, n_mels=128, duration=3, fixed_frames=130):\n",
        "    y, _ = librosa.load(path, sr=sr, duration=duration)\n",
        "    mel = librosa.feature.melspectrogram(y=y, sr=sr, n_mels=n_mels)\n",
        "    mel_db = librosa.power_to_db(mel, ref=np.max)\n",
        "    if mel_db.shape[1] < fixed_frames:\n",
        "        pad_width = fixed_frames - mel_db.shape[1]\n",
        "        mel_db = np.pad(mel_db, ((0, 0), (0, pad_width)), mode='constant')\n",
        "    else:\n",
        "        mel_db = mel_db[:, :fixed_frames]\n",
        "    mel_db = mel_db[..., np.newaxis]\n",
        "    return mel_db\n",
        "\n",
        "# ====== 5. 멀티모달 데이터셋 클래스 ======\n",
        "class MultiModalDataset(Sequence):\n",
        "    def __init__(self, df, label_array, image_dir, audio_dir, batch_size=16, input_size=(299, 299), **kwargs):\n",
        "        super().__init__(**kwargs)\n",
        "        self.df = df.reset_index(drop=True)\n",
        "        self.labels = label_array\n",
        "        self.image_dir = image_dir\n",
        "        self.audio_dir = audio_dir\n",
        "        self.batch_size = batch_size\n",
        "        self.input_size = input_size\n",
        "        self.indices = list(range(len(df)))\n",
        "\n",
        "    def __len__(self):\n",
        "        return len(self.indices) // self.batch_size\n",
        "\n",
        "    def __getitem__(self, idx):\n",
        "        batch_df = self.df.iloc[idx * self.batch_size:(idx + 1) * self.batch_size]\n",
        "        image_batch, audio_batch, label_batch = [], [], []\n",
        "\n",
        "        for _, row in batch_df.iterrows():\n",
        "            # 이미지\n",
        "            img = cv2.imread(os.path.join(self.image_dir, row['ground_truth']))\n",
        "            img = cv2.resize(img, self.input_size)\n",
        "            img = tf.keras.applications.xception.preprocess_input(img.astype('float32'))\n",
        "            image_batch.append(img)\n",
        "\n",
        "            # 오디오\n",
        "            mel = wav_to_mel(os.path.join(self.audio_dir, row['filename']))\n",
        "            audio_batch.append(mel)\n",
        "\n",
        "            # 라벨\n",
        "            label_batch.append(self.labels[row['label_idx']])\n",
        "\n",
        "        return (\n",
        "            {\n",
        "                \"image_input\": np.array(image_batch, dtype=np.float32),\n",
        "                \"audio_input\": np.array(audio_batch, dtype=np.float32)\n",
        "            },\n",
        "            np.array(label_batch, dtype=np.float32)\n",
        "        )\n",
        "\n",
        "    def on_epoch_end(self):\n",
        "        np.random.shuffle(self.indices)\n",
        "\n",
        "# ====== 6. 모델 정의 (Xception + Audio CNN) ======\n",
        "image_input = Input(shape=(299, 299, 3), name='image_input')\n",
        "base_model = Xception(weights='imagenet', include_top=False, input_tensor=image_input)\n",
        "x = base_model.output\n",
        "x = GlobalAveragePooling2D()(x)\n",
        "x = Dense(256, activation='relu')(x)\n",
        "x = Dropout(0.2)(x)\n",
        "x = Dense(128, activation='relu')(x)\n",
        "x = Dropout(0.2)(x)\n",
        "image_feature = x\n",
        "\n",
        "audio_input = Input(shape=(128, 130, 1), name='audio_input')\n",
        "a = Conv2D(32, (3, 3), activation='relu')(audio_input)\n",
        "a = MaxPooling2D((2, 2))(a)\n",
        "a = Conv2D(64, (3, 3), activation='relu')(a)\n",
        "a = MaxPooling2D((2, 2))(a)\n",
        "a = Flatten()(a)\n",
        "a = Dense(128, activation='relu')(a)\n",
        "audio_feature = a\n",
        "\n",
        "merged = Concatenate()([image_feature, audio_feature])\n",
        "merged = Dropout(0.3)(merged)\n",
        "merged = Dense(128, activation='relu')(merged)\n",
        "output = Dense(88, activation='softmax', name='output')(merged)\n",
        "\n",
        "multi_input_model = Model(inputs=[image_input, audio_input], outputs=output)\n",
        "multi_input_model.compile(optimizer='adam', loss='categorical_crossentropy', metrics=['accuracy'])\n",
        "\n",
        "# ====== 7. 데이터셋 나누고 생성 ======\n",
        "train_df, val_df = train_test_split(df, test_size=0.2, stratify=df['label'], random_state=42)\n",
        "train_dataset = MultiModalDataset(train_df, label_cat_array, IMAGE_DIR, AUDIO_DIR, batch_size=8)\n",
        "val_dataset = MultiModalDataset(val_df, label_cat_array, IMAGE_DIR, AUDIO_DIR, batch_size=8)\n",
        "\n",
        "from tensorflow.keras.callbacks import EarlyStopping\n",
        "\n",
        "# ====== 8-1. 조기 종료 콜백 설정 ======\n",
        "early_stop = EarlyStopping(\n",
        "    monitor='val_loss',\n",
        "    patience=3,\n",
        "    restore_best_weights=True,\n",
        "    verbose=1\n",
        ")\n",
        "\n",
        "# ====== 8-2. 학습 시작 ======\n",
        "history = multi_input_model.fit(\n",
        "    train_dataset,\n",
        "    validation_data=val_dataset,\n",
        "    epochs=100,\n",
        "    callbacks=[early_stop],   # ✅ 콜백 반영\n",
        "    verbose=1\n",
        ")\n",
        "\n",
        "# ====== 9. 시각화 ======\n",
        "plt.figure(figsize=(12, 5))\n",
        "\n",
        "# Accuracy plot\n",
        "plt.subplot(1, 2, 1)\n",
        "plt.plot(history.history['accuracy'], label='Train Acc')\n",
        "plt.plot(history.history['val_accuracy'], label='Val Acc')\n",
        "plt.title('Accuracy over Epochs')\n",
        "plt.xlabel('Epoch')\n",
        "plt.ylabel('Accuracy')\n",
        "plt.legend()\n",
        "\n",
        "# Loss plot\n",
        "plt.subplot(1, 2, 2)\n",
        "plt.plot(history.history['loss'], label='Train Loss')\n",
        "plt.plot(history.history['val_loss'], label='Val Loss')\n",
        "plt.title('Loss over Epochs')\n",
        "plt.xlabel('Epoch')\n",
        "plt.ylabel('Loss')\n",
        "plt.legend()\n",
        "\n",
        "plt.tight_layout()\n",
        "plt.show()\n",
        "\n",
        "# ====== 10. 모델 저장 ======\n",
        "MODEL_SAVE_PATH = f\"{BASE_PATH}/saved_models/multimodal_xception_audio_model.h5\"\n",
        "\n",
        "# 디렉토리 없으면 생성\n",
        "os.makedirs(os.path.dirname(MODEL_SAVE_PATH), exist_ok=True)\n",
        "\n",
        "# 모델 저장\n",
        "multi_input_model.save(MODEL_SAVE_PATH)\n",
        "print(f\"✅ 모델이 다음 경로에 저장되었습니다: {MODEL_SAVE_PATH}\")\n"
      ],
      "metadata": {
        "colab": {
          "base_uri": "https://localhost:8080/",
          "height": 806
        },
        "id": "y0XseJnGdBDv",
        "outputId": "5319a26b-ebb0-4c9e-ebb3-892d841d7a41"
      },
      "execution_count": null,
      "outputs": [
        {
          "output_type": "stream",
          "name": "stdout",
          "text": [
            "Epoch 1/100\n",
            "\u001b[1m194/194\u001b[0m \u001b[32m━━━━━━━━━━━━━━━━━━━━\u001b[0m\u001b[37m\u001b[0m \u001b[1m1075s\u001b[0m 5s/step - accuracy: 0.0223 - loss: 9.1131 - val_accuracy: 0.0911 - val_loss: 4.0563\n",
            "Epoch 2/100\n",
            "\u001b[1m194/194\u001b[0m \u001b[32m━━━━━━━━━━━━━━━━━━━━\u001b[0m\u001b[37m\u001b[0m \u001b[1m77s\u001b[0m 399ms/step - accuracy: 0.2057 - loss: 3.5212 - val_accuracy: 0.0521 - val_loss: 31.6859\n",
            "Epoch 3/100\n",
            "\u001b[1m194/194\u001b[0m \u001b[32m━━━━━━━━━━━━━━━━━━━━\u001b[0m\u001b[37m\u001b[0m \u001b[1m83s\u001b[0m 403ms/step - accuracy: 0.5897 - loss: 1.5670 - val_accuracy: 0.7891 - val_loss: 0.8825\n",
            "Epoch 4/100\n",
            "\u001b[1m194/194\u001b[0m \u001b[32m━━━━━━━━━━━━━━━━━━━━\u001b[0m\u001b[37m\u001b[0m \u001b[1m69s\u001b[0m 356ms/step - accuracy: 0.7787 - loss: 0.7485 - val_accuracy: 0.9167 - val_loss: 0.2748\n",
            "Epoch 5/100\n",
            "\u001b[1m194/194\u001b[0m \u001b[32m━━━━━━━━━━━━━━━━━━━━\u001b[0m\u001b[37m\u001b[0m \u001b[1m68s\u001b[0m 351ms/step - accuracy: 0.8653 - loss: 0.4516 - val_accuracy: 0.8906 - val_loss: 0.4646\n",
            "Epoch 6/100\n",
            "\u001b[1m194/194\u001b[0m \u001b[32m━━━━━━━━━━━━━━━━━━━━\u001b[0m\u001b[37m\u001b[0m \u001b[1m82s\u001b[0m 350ms/step - accuracy: 0.9128 - loss: 0.2837 - val_accuracy: 0.9297 - val_loss: 0.2880\n",
            "Epoch 7/100\n",
            "\u001b[1m194/194\u001b[0m \u001b[32m━━━━━━━━━━━━━━━━━━━━\u001b[0m\u001b[37m\u001b[0m \u001b[1m82s\u001b[0m 349ms/step - accuracy: 0.8937 - loss: 0.3839 - val_accuracy: 0.8698 - val_loss: 0.5426\n",
            "Epoch 7: early stopping\n",
            "Restoring model weights from the end of the best epoch: 4.\n"
          ]
        },
        {
          "output_type": "display_data",
          "data": {
            "text/plain": [
              "<Figure size 1200x500 with 2 Axes>"
            ],
            "image/png": "[encoded data removed]"
          },
          "metadata": {}
        },
        {
          "output_type": "stream",
          "name": "stderr",
          "text": [
            "WARNING:absl:You are saving your model as an HDF5 file via `model.save()` or `keras.saving.save_model(model)`. This file format is considered legacy. We recommend using instead the native Keras format, e.g. `model.save('my_model.keras')` or `keras.saving.save_model(model, 'my_model.keras')`. \n"
          ]
        },
        {
          "output_type": "stream",
          "name": "stdout",
          "text": [
            "✅ 모델이 다음 경로에 저장되었습니다: /content/drive/MyDrive/MusicMNIST_Project/saved_models/multimodal_xception_audio_model.h5\n"
          ]
        }
      ]
    },
    {
      "cell_type": "code",
      "source": [
        "import os\n",
        "import cv2\n",
        "import numpy as np\n",
        "import librosa\n",
        "import pandas as pd\n",
        "import tensorflow as tf\n",
        "from sklearn.preprocessing import LabelEncoder\n",
        "from tensorflow.keras.models import load_model\n",
        "from tensorflow.keras.utils import to_categorical\n",
        "from sklearn.metrics import accuracy_score\n",
        "\n",
        "# 경로 설정\n",
        "BASE_PATH = \"/content/drive/MyDrive/MusicMNIST_Project\"\n",
        "TEST_AUDIO_DIR = f\"{BASE_PATH}/test\"\n",
        "IMAGE_DIR = f\"{BASE_PATH}/images\"\n",
        "CSV_PATH = f\"{BASE_PATH}/metadata/Annotations_Instruments_Split_Test.csv\"\n",
        "MODEL_PATH = f\"{BASE_PATH}/saved_models/multimodal_xception_audio_model.h5\"\n",
        "\n",
        "# CSV 불러오기\n",
        "df = pd.read_csv(CSV_PATH)\n",
        "\n",
        "# 클래스 라벨 인코딩\n",
        "label_encoder = LabelEncoder()\n",
        "df['label'] = label_encoder.fit_transform(df['class'])\n",
        "df['label_cat'] = to_categorical(df['label'], num_classes=len(label_encoder.classes_)).tolist()\n",
        "\n",
        "# 오디오 → Mel Spectrogram 변환\n",
        "def wav_to_mel(path, sr=22050, n_mels=128, duration=3, fixed_frames=130):\n",
        "    y, _ = librosa.load(path, sr=sr, duration=duration)\n",
        "    mel = librosa.feature.melspectrogram(y=y, sr=sr, n_mels=n_mels)\n",
        "    mel_db = librosa.power_to_db(mel, ref=np.max)\n",
        "\n",
        "    if mel_db.shape[1] < fixed_frames:\n",
        "        pad_width = fixed_frames - mel_db.shape[1]\n",
        "        mel_db = np.pad(mel_db, ((0, 0), (0, pad_width)), mode='constant')\n",
        "    else:\n",
        "        mel_db = mel_db[:, :fixed_frames]\n",
        "\n",
        "    mel_db = mel_db[..., np.newaxis]\n",
        "    return mel_db\n",
        "\n",
        "# 이미지 + 오디오 + 라벨 데이터 로딩\n",
        "X_img, X_mel, y_true = [], [], []\n",
        "\n",
        "for _, row in df.iterrows():\n",
        "    try:\n",
        "        # 이미지\n",
        "        img_path = os.path.join(IMAGE_DIR, row['ground_truth'])\n",
        "        img = cv2.imread(img_path)\n",
        "        img = cv2.resize(img, (299, 299))\n",
        "        img = tf.keras.applications.xception.preprocess_input(img.astype('float32'))\n",
        "        X_img.append(img)\n",
        "\n",
        "        # 오디오\n",
        "        audio_path = os.path.join(TEST_AUDIO_DIR, row['filename'])\n",
        "        mel = wav_to_mel(audio_path)\n",
        "        X_mel.append(mel)\n",
        "\n",
        "        # 라벨\n",
        "        y_true.append(row['label'])\n",
        "\n",
        "    except Exception as e:\n",
        "        print(f\"⚠️ 오류 발생: {row['filename']} - {e}\")\n",
        "        continue\n",
        "\n",
        "X_img = np.array(X_img)\n",
        "X_mel = np.array(X_mel)\n",
        "y_true = np.array(y_true)\n",
        "\n",
        "# 모델 로드 및 예측\n",
        "model = load_model(MODEL_PATH)\n",
        "preds = model.predict({'image_input': X_img, 'audio_input': X_mel})\n",
        "y_pred = np.argmax(preds, axis=1)\n",
        "\n",
        "# 정확도 평가\n",
        "acc = accuracy_score(y_true, y_pred)\n",
        "print(f\"\\n✅ 테스트 정확도: {acc * 100:.2f}%\")\n",
        "\n",
        "# # 예시 출력 (10개)\n",
        "# print(\"\\n🎵 예측 vs 실제 (샘플 10개):\")\n",
        "# for i in range(10):\n",
        "#     pred_label = label_encoder.inverse_transform([y_pred[i]])[0]\n",
        "#     true_label = label_encoder.inverse_transform([y_true[i]])[0]\n",
        "#     print(f\"{i+1:2d}. 예측: {pred_label:5s} | 정답: {true_label:5s}\")\n",
        "\n",
        "# 예측 결과 전체 출력\n",
        "print(\"\\n🎵 예측 vs 실제 (전체 샘플):\")\n",
        "for i in range(len(y_pred)):\n",
        "    pred_label = label_encoder.inverse_transform([y_pred[i]])[0]\n",
        "    true_label = label_encoder.inverse_transform([y_true[i]])[0]\n",
        "    print(f\"{i+1:3d}. 예측: {pred_label:5s} | 정답: {true_label:5s}\")\n"
      ],
      "metadata": {
        "colab": {
          "base_uri": "https://localhost:8080/"
        },
        "id": "oZz1o9ejXnCr",
        "outputId": "db4227e7-bcad-46e1-ecb2-9574569fea4e"
      },
      "execution_count": null,
      "outputs": [
        {
          "output_type": "stream",
          "name": "stderr",
          "text": [
            "WARNING:absl:Compiled the loaded model, but the compiled metrics have yet to be built. `model.compile_metrics` will be empty until you train or evaluate the model.\n"
          ]
        },
        {
          "output_type": "stream",
          "name": "stdout",
          "text": [
            "\u001b[1m17/17\u001b[0m \u001b[32m━━━━━━━━━━━━━━━━━━━━\u001b[0m\u001b[37m\u001b[0m \u001b[1m14s\u001b[0m 629ms/step\n",
            "\n",
            "✅ 테스트 정확도: 89.73%\n",
            "\n",
            "🎵 예측 vs 실제 (전체 샘플):\n",
            "  1. 예측: A6    | 정답: A#-1 \n",
            "  2. 예측: C#0   | 정답: C#0  \n",
            "  3. 예측: D#0   | 정답: D#0  \n",
            "  4. 예측: G#0   | 정답: G#0  \n",
            "  5. 예측: C#1   | 정답: C#1  \n",
            "  6. 예측: E1    | 정답: E1   \n",
            "  7. 예측: F#1   | 정답: F#1  \n",
            "  8. 예측: B1    | 정답: B1   \n",
            "  9. 예측: E2    | 정답: E2   \n",
            " 10. 예측: A2    | 정답: A2   \n",
            " 11. 예측: D3    | 정답: D3   \n",
            " 12. 예측: G3    | 정답: G3   \n",
            " 13. 예측: C4    | 정답: C4   \n",
            " 14. 예측: F4    | 정답: F4   \n",
            " 15. 예측: A#4   | 정답: A#4  \n",
            " 16. 예측: D#5   | 정답: D#5  \n",
            " 17. 예측: G#5   | 정답: G#5  \n",
            " 18. 예측: C#6   | 정답: C#6  \n",
            " 19. 예측: F#6   | 정답: F#6  \n",
            " 20. 예측: B6    | 정답: B6   \n",
            " 21. 예측: A-1   | 정답: A#-1 \n",
            " 22. 예측: C#0   | 정답: C#0  \n",
            " 23. 예측: B-1   | 정답: F#0  \n",
            " 24. 예측: B0    | 정답: B0   \n",
            " 25. 예측: E1    | 정답: E1   \n",
            " 26. 예측: A1    | 정답: A1   \n",
            " 27. 예측: D2    | 정답: D2   \n",
            " 28. 예측: G2    | 정답: G2   \n",
            " 29. 예측: C3    | 정답: C3   \n",
            " 30. 예측: F3    | 정답: F3   \n",
            " 31. 예측: A#3   | 정답: A#3  \n",
            " 32. 예측: D#4   | 정답: D#4  \n",
            " 33. 예측: C#5   | 정답: C#5  \n",
            " 34. 예측: F#5   | 정답: F#5  \n",
            " 35. 예측: B5    | 정답: B5   \n",
            " 36. 예측: E6    | 정답: E6   \n",
            " 37. 예측: A6    | 정답: A6   \n",
            " 38. 예측: B-1   | 정답: B-1  \n",
            " 39. 예측: G0    | 정답: E0   \n",
            " 40. 예측: B0    | 정답: F0   \n",
            " 41. 예측: A0    | 정답: A0   \n",
            " 42. 예측: A#0   | 정답: A#0  \n",
            " 43. 예측: D1    | 정답: D1   \n",
            " 44. 예측: F1    | 정답: F1   \n",
            " 45. 예측: G1    | 정답: G1   \n",
            " 46. 예측: A#2   | 정답: A#2  \n",
            " 47. 예측: D#3   | 정답: D#3  \n",
            " 48. 예측: G#3   | 정답: G#3  \n",
            " 49. 예측: C#4   | 정답: C#4  \n",
            " 50. 예측: F5    | 정답: F5   \n",
            " 51. 예측: A#5   | 정답: A#5  \n",
            " 52. 예측: D#6   | 정답: D#6  \n",
            " 53. 예측: G#6   | 정답: G#6  \n",
            " 54. 예측: A-1   | 정답: A-1  \n",
            " 55. 예측: F#0   | 정답: D0   \n",
            " 56. 예측: G0    | 정답: G0   \n",
            " 57. 예측: C1    | 정답: C1   \n",
            " 58. 예측: F1    | 정답: F1   \n",
            " 59. 예측: A#1   | 정답: A#1  \n",
            " 60. 예측: D#2   | 정답: D#2  \n",
            " 61. 예측: G#2   | 정답: G#2  \n",
            " 62. 예측: C#3   | 정답: C#3  \n",
            " 63. 예측: F#3   | 정답: F#3  \n",
            " 64. 예측: B3    | 정답: B3   \n",
            " 65. 예측: E4    | 정답: E4   \n",
            " 66. 예측: A4    | 정답: A4   \n",
            " 67. 예측: C#5   | 정답: C#5  \n",
            " 68. 예측: D5    | 정답: D5   \n",
            " 69. 예측: D#5   | 정답: D#5  \n",
            " 70. 예측: G5    | 정답: G5   \n",
            " 71. 예측: B5    | 정답: B5   \n",
            " 72. 예측: F6    | 정답: F6   \n",
            " 73. 예측: A6    | 정답: A6   \n",
            " 74. 예측: A#6   | 정답: A#6  \n",
            " 75. 예측: C0    | 정답: C0   \n",
            " 76. 예측: B0    | 정답: F0   \n",
            " 77. 예측: A#0   | 정답: A#0  \n",
            " 78. 예측: D#1   | 정답: D#1  \n",
            " 79. 예측: G#1   | 정답: G#1  \n",
            " 80. 예측: C#2   | 정답: C#2  \n",
            " 81. 예측: F#2   | 정답: F#2  \n",
            " 82. 예측: B2    | 정답: B2   \n",
            " 83. 예측: E3    | 정답: E3   \n",
            " 84. 예측: A3    | 정답: A3   \n",
            " 85. 예측: D4    | 정답: D4   \n",
            " 86. 예측: G4    | 정답: G4   \n",
            " 87. 예측: C5    | 정답: C5   \n",
            " 88. 예측: F5    | 정답: F5   \n",
            " 89. 예측: A#5   | 정답: A#5  \n",
            " 90. 예측: D#6   | 정답: D#6  \n",
            " 91. 예측: G#6   | 정답: G#6  \n",
            " 92. 예측: C7    | 정답: C7   \n",
            " 93. 예측: A#-1  | 정답: A#-1 \n",
            " 94. 예측: G0    | 정답: E0   \n",
            " 95. 예측: F#0   | 정답: F#0  \n",
            " 96. 예측: G1    | 정답: G1   \n",
            " 97. 예측: C2    | 정답: C2   \n",
            " 98. 예측: F2    | 정답: F2   \n",
            " 99. 예측: F#2   | 정답: A#2  \n",
            "100. 예측: B2    | 정답: B2   \n",
            "101. 예측: F4    | 정답: F#4  \n",
            "102. 예측: B4    | 정답: B4   \n",
            "103. 예측: E5    | 정답: E5   \n",
            "104. 예측: D6    | 정답: D6   \n",
            "105. 예측: G6    | 정답: G6   \n",
            "106. 예측: C7    | 정답: C7   \n",
            "107. 예측: A#-1  | 정답: C0   \n",
            "108. 예측: D#1   | 정답: D#0  \n",
            "109. 예측: A0    | 정답: A0   \n",
            "110. 예측: B0    | 정답: B0   \n",
            "111. 예측: F#1   | 정답: F#1  \n",
            "112. 예측: A#1   | 정답: A#1  \n",
            "113. 예측: F2    | 정답: F2   \n",
            "114. 예측: C#3   | 정답: C#3  \n",
            "115. 예측: G#3   | 정답: G#3  \n",
            "116. 예측: A3    | 정답: A3   \n",
            "117. 예측: D#4   | 정답: D#4  \n",
            "118. 예측: G4    | 정답: G4   \n",
            "119. 예측: C#5   | 정답: C#5  \n",
            "120. 예측: D5    | 정답: D5   \n",
            "121. 예측: F#5   | 정답: F#5  \n",
            "122. 예측: F6    | 정답: F6   \n",
            "123. 예측: B6    | 정답: B6   \n",
            "124. 예측: D#1   | 정답: C0   \n",
            "125. 예측: D#1   | 정답: D#0  \n",
            "126. 예측: F0    | 정답: F0   \n",
            "127. 예측: G0    | 정답: G0   \n",
            "128. 예측: A0    | 정답: A0   \n",
            "129. 예측: B0    | 정답: B0   \n",
            "130. 예측: D1    | 정답: D1   \n",
            "131. 예측: F#0   | 정답: D#1  \n",
            "132. 예측: F#1   | 정답: F#1  \n",
            "133. 예측: A#1   | 정답: A#1  \n",
            "134. 예측: D2    | 정답: D2   \n",
            "135. 예측: C4    | 정답: C4   \n",
            "136. 예측: D5    | 정답: D5   \n",
            "137. 예측: F#5   | 정답: F#5  \n",
            "138. 예측: B6    | 정답: B6   \n",
            "139. 예측: A-1   | 정답: A-1  \n",
            "140. 예측: E5    | 정답: D0   \n",
            "141. 예측: A0    | 정답: G0   \n",
            "142. 예측: C1    | 정답: C1   \n",
            "143. 예측: F1    | 정답: F1   \n",
            "144. 예측: D#2   | 정답: D#2  \n",
            "145. 예측: G2    | 정답: G2   \n",
            "146. 예측: G#2   | 정답: G#2  \n",
            "147. 예측: C#3   | 정답: C#3  \n",
            "148. 예측: F#3   | 정답: F#3  \n",
            "149. 예측: G3    | 정답: G3   \n",
            "150. 예측: B3    | 정답: B3   \n",
            "151. 예측: E4    | 정답: E4   \n",
            "152. 예측: A4    | 정답: A4   \n",
            "153. 예측: D5    | 정답: D5   \n",
            "154. 예측: G5    | 정답: G5   \n",
            "155. 예측: C6    | 정답: C6   \n",
            "156. 예측: F6    | 정답: F6   \n",
            "157. 예측: A#6   | 정답: A#6  \n",
            "158. 예측: A-1   | 정답: A-1  \n",
            "159. 예측: F#0   | 정답: D0   \n",
            "160. 예측: A0    | 정답: G0   \n",
            "161. 예측: C1    | 정답: C1   \n",
            "162. 예측: F1    | 정답: F1   \n",
            "163. 예측: F#1   | 정답: F#1  \n",
            "164. 예측: A#1   | 정답: A#1  \n",
            "165. 예측: D#2   | 정답: D#2  \n",
            "166. 예측: G#2   | 정답: G#2  \n",
            "167. 예측: B2    | 정답: B2   \n",
            "168. 예측: F#3   | 정답: F#3  \n",
            "169. 예측: B3    | 정답: B3   \n",
            "170. 예측: A4    | 정답: A4   \n",
            "171. 예측: C#5   | 정답: C#5  \n",
            "172. 예측: G5    | 정답: G5   \n",
            "173. 예측: C6    | 정답: C6   \n",
            "174. 예측: C#6   | 정답: C#6  \n",
            "175. 예측: F6    | 정답: F6   \n",
            "176. 예측: A#6   | 정답: A#6  \n",
            "177. 예측: C#1   | 정답: C#1  \n",
            "178. 예측: C#3   | 정답: C#3  \n",
            "179. 예측: D3    | 정답: D3   \n",
            "180. 예측: E3    | 정답: E3   \n",
            "181. 예측: F3    | 정답: F3   \n",
            "182. 예측: F#3   | 정답: F#3  \n",
            "183. 예측: G3    | 정답: G3   \n",
            "184. 예측: A3    | 정답: A3   \n",
            "185. 예측: A#3   | 정답: A#3  \n",
            "186. 예측: B3    | 정답: B3   \n",
            "187. 예측: C4    | 정답: C4   \n",
            "188. 예측: C#4   | 정답: C#4  \n",
            "189. 예측: D4    | 정답: D4   \n",
            "190. 예측: D#4   | 정답: D#4  \n",
            "191. 예측: E4    | 정답: E4   \n",
            "192. 예측: F4    | 정답: F4   \n",
            "193. 예측: F#4   | 정답: F#4  \n",
            "194. 예측: G4    | 정답: G4   \n",
            "195. 예측: G4    | 정답: G#4  \n",
            "196. 예측: A4    | 정답: A4   \n",
            "197. 예측: A#4   | 정답: A#4  \n",
            "198. 예측: B4    | 정답: B4   \n",
            "199. 예측: A6    | 정답: A6   \n",
            "200. 예측: F#0   | 정답: F#0  \n",
            "201. 예측: B1    | 정답: B1   \n",
            "202. 예측: C3    | 정답: C3   \n",
            "203. 예측: C#3   | 정답: C#3  \n",
            "204. 예측: D3    | 정답: D3   \n",
            "205. 예측: D#3   | 정답: D#3  \n",
            "206. 예측: E3    | 정답: E3   \n",
            "207. 예측: F3    | 정답: F3   \n",
            "208. 예측: G3    | 정답: G3   \n",
            "209. 예측: G#3   | 정답: G#3  \n",
            "210. 예측: A3    | 정답: A3   \n",
            "211. 예측: A#3   | 정답: A#3  \n",
            "212. 예측: C4    | 정답: C4   \n",
            "213. 예측: C#4   | 정답: C#4  \n",
            "214. 예측: D4    | 정답: D4   \n",
            "215. 예측: E5    | 정답: D#4  \n",
            "216. 예측: F4    | 정답: F4   \n",
            "217. 예측: G4    | 정답: G4   \n",
            "218. 예측: B0    | 정답: G#4  \n",
            "219. 예측: A4    | 정답: A4   \n",
            "220. 예측: A#4   | 정답: A#4  \n",
            "221. 예측: D#5   | 정답: D#5  \n",
            "222. 예측: A#5   | 정답: A#5  \n",
            "223. 예측: C0    | 정답: C0   \n",
            "224. 예측: B0    | 정답: E0   \n",
            "225. 예측: G#0   | 정답: G#0  \n",
            "226. 예측: C1    | 정답: C1   \n",
            "227. 예측: E1    | 정답: E1   \n",
            "228. 예측: G#1   | 정답: G#1  \n",
            "229. 예측: C2    | 정답: C2   \n",
            "230. 예측: D#2   | 정답: D#2  \n",
            "231. 예측: E2    | 정답: E2   \n",
            "232. 예측: G#2   | 정답: G#2  \n",
            "233. 예측: A2    | 정답: A2   \n",
            "234. 예측: B2    | 정답: B2   \n",
            "235. 예측: C3    | 정답: C3   \n",
            "236. 예측: E3    | 정답: E3   \n",
            "237. 예측: G#3   | 정답: G#3  \n",
            "238. 예측: C4    | 정답: C4   \n",
            "239. 예측: E4    | 정답: E4   \n",
            "240. 예측: G4    | 정답: G#4  \n",
            "241. 예측: C5    | 정답: C5   \n",
            "242. 예측: G#5   | 정답: G#5  \n",
            "243. 예측: C6    | 정답: C6   \n",
            "244. 예측: C#6   | 정답: C#6  \n",
            "245. 예측: E6    | 정답: E6   \n",
            "246. 예측: G#6   | 정답: G#6  \n",
            "247. 예측: C7    | 정답: C7   \n",
            "248. 예측: C0    | 정답: C0   \n",
            "249. 예측: A0    | 정답: G#0  \n",
            "250. 예측: E1    | 정답: E1   \n",
            "251. 예측: G#1   | 정답: G#1  \n",
            "252. 예측: C2    | 정답: C2   \n",
            "253. 예측: E2    | 정답: E2   \n",
            "254. 예측: F#2   | 정답: F#2  \n",
            "255. 예측: C3    | 정답: C3   \n",
            "256. 예측: E3    | 정답: E3   \n",
            "257. 예측: E4    | 정답: E4   \n",
            "258. 예측: G4    | 정답: G#4  \n",
            "259. 예측: C5    | 정답: C5   \n",
            "260. 예측: E5    | 정답: E5   \n",
            "261. 예측: G#5   | 정답: G#5  \n",
            "262. 예측: C6    | 정답: C6   \n",
            "263. 예측: E6    | 정답: E6   \n",
            "264. 예측: F#6   | 정답: F#6  \n",
            "265. 예측: G#6   | 정답: G#6  \n",
            "266. 예측: A6    | 정답: A6   \n",
            "267. 예측: C7    | 정답: C7   \n",
            "268. 예측: B-1   | 정답: B-1  \n",
            "269. 예측: C#0   | 정답: E0   \n",
            "270. 예측: B0    | 정답: F0   \n",
            "271. 예측: C#1   | 정답: C#1  \n",
            "272. 예측: D1    | 정답: D1   \n",
            "273. 예측: G1    | 정답: G1   \n",
            "274. 예측: D2    | 정답: D2   \n",
            "275. 예측: A#2   | 정답: A#2  \n",
            "276. 예측: C#4   | 정답: C#4  \n",
            "277. 예측: F#4   | 정답: F#4  \n",
            "278. 예측: B4    | 정답: B4   \n",
            "279. 예측: E5    | 정답: E5   \n",
            "280. 예측: F#5   | 정답: F#5  \n",
            "281. 예측: A5    | 정답: A5   \n",
            "282. 예측: D6    | 정답: D6   \n",
            "283. 예측: D#6   | 정답: D#6  \n",
            "284. 예측: G6    | 정답: G6   \n",
            "285. 예측: B-1   | 정답: B-1  \n",
            "286. 예측: C#0   | 정답: C#0  \n",
            "287. 예측: A0    | 정답: A0   \n",
            "288. 예측: A0    | 정답: A#0  \n",
            "289. 예측: D1    | 정답: D1   \n",
            "290. 예측: G1    | 정답: G1   \n",
            "291. 예측: C2    | 정답: C2   \n",
            "292. 예측: F2    | 정답: F2   \n",
            "293. 예측: D#3   | 정답: D#3  \n",
            "294. 예측: G#3   | 정답: G#3  \n",
            "295. 예측: F4    | 정답: F#4  \n",
            "296. 예측: B4    | 정답: B4   \n",
            "297. 예측: C5    | 정답: C5   \n",
            "298. 예측: A5    | 정답: A5   \n",
            "299. 예측: B5    | 정답: B5   \n",
            "300. 예측: D6    | 정답: D6   \n",
            "301. 예측: G#6   | 정답: G6   \n",
            "302. 예측: B6    | 정답: B6   \n",
            "303. 예측: A#-1  | 정답: A#-1 \n",
            "304. 예측: D#0   | 정답: D#0  \n",
            "305. 예측: C#0   | 정답: G#0  \n",
            "306. 예측: E1    | 정답: C#1  \n",
            "307. 예측: F#1   | 정답: F#1  \n",
            "308. 예측: A1    | 정답: A1   \n",
            "309. 예측: B1    | 정답: B1   \n",
            "310. 예측: E2    | 정답: E2   \n",
            "311. 예측: A2    | 정답: A2   \n",
            "312. 예측: D3    | 정답: D3   \n",
            "313. 예측: G3    | 정답: G3   \n",
            "314. 예측: A#3   | 정답: A#3  \n",
            "315. 예측: C4    | 정답: C4   \n",
            "316. 예측: F4    | 정답: F4   \n",
            "317. 예측: A#4   | 정답: A#4  \n",
            "318. 예측: D#5   | 정답: D#5  \n",
            "319. 예측: G#5   | 정답: G#5  \n",
            "320. 예측: C#6   | 정답: C#6  \n",
            "321. 예측: F#6   | 정답: F#6  \n",
            "322. 예측: B6    | 정답: B6   \n",
            "323. 예측: A#-1  | 정답: A#-1 \n",
            "324. 예측: D#0   | 정답: D#0  \n",
            "325. 예측: G#0   | 정답: G#0  \n",
            "326. 예측: E1    | 정답: C#1  \n",
            "327. 예측: D#1   | 정답: D#1  \n",
            "328. 예측: F#1   | 정답: F#1  \n",
            "329. 예측: B1    | 정답: B1   \n",
            "330. 예측: C#2   | 정답: C#2  \n",
            "331. 예측: E2    | 정답: E2   \n",
            "332. 예측: F#2   | 정답: F#2  \n",
            "333. 예측: A2    | 정답: A2   \n",
            "334. 예측: D3    | 정답: D3   \n",
            "335. 예측: G3    | 정답: G3   \n",
            "336. 예측: F4    | 정답: F4   \n",
            "337. 예측: A#4   | 정답: A#4  \n",
            "338. 예측: E5    | 정답: D#5  \n",
            "339. 예측: G#5   | 정답: G#5  \n",
            "340. 예측: C#6   | 정답: C#6  \n",
            "341. 예측: F#6   | 정답: F#6  \n",
            "342. 예측: B6    | 정답: B6   \n",
            "343. 예측: A-1   | 정답: A-1  \n",
            "344. 예측: D0    | 정답: D0   \n",
            "345. 예측: G0    | 정답: G0   \n",
            "346. 예측: C1    | 정답: C1   \n",
            "347. 예측: F1    | 정답: F1   \n",
            "348. 예측: A#1   | 정답: A#1  \n",
            "349. 예측: D#2   | 정답: D#2  \n",
            "350. 예측: G2    | 정답: G2   \n",
            "351. 예측: G#2   | 정답: G#2  \n",
            "352. 예측: F#3   | 정답: F#3  \n",
            "353. 예측: B3    | 정답: B3   \n",
            "354. 예측: D5    | 정답: D5   \n",
            "355. 예측: G5    | 정답: G5   \n",
            "356. 예측: C6    | 정답: C6   \n",
            "357. 예측: F6    | 정답: F6   \n",
            "358. 예측: A#6   | 정답: A#6  \n",
            "359. 예측: A-1   | 정답: A-1  \n",
            "360. 예측: D0    | 정답: D0   \n",
            "361. 예측: G0    | 정답: G0   \n",
            "362. 예측: C1    | 정답: C1   \n",
            "363. 예측: C#1   | 정답: C#1  \n",
            "364. 예측: F1    | 정답: F1   \n",
            "365. 예측: A#1   | 정답: A#1  \n",
            "366. 예측: D2    | 정답: D2   \n",
            "367. 예측: D#2   | 정답: D#2  \n",
            "368. 예측: G#2   | 정답: G#2  \n",
            "369. 예측: A2    | 정답: A2   \n",
            "370. 예측: C#3   | 정답: C#3  \n",
            "371. 예측: F#3   | 정답: F#3  \n",
            "372. 예측: B3    | 정답: B3   \n",
            "373. 예측: E4    | 정답: E4   \n",
            "374. 예측: A4    | 정답: A4   \n",
            "375. 예측: D5    | 정답: D5   \n",
            "376. 예측: G5    | 정답: G5   \n",
            "377. 예측: C6    | 정답: C6   \n",
            "378. 예측: C#6   | 정답: C#6  \n",
            "379. 예측: E6    | 정답: E6   \n",
            "380. 예측: F6    | 정답: F6   \n",
            "381. 예측: A#6   | 정답: A#6  \n",
            "382. 예측: C#0   | 정답: C#0  \n",
            "383. 예측: F#0   | 정답: F#0  \n",
            "384. 예측: B0    | 정답: B0   \n",
            "385. 예측: E1    | 정답: E1   \n",
            "386. 예측: A1    | 정답: A1   \n",
            "387. 예측: C#2   | 정답: C#2  \n",
            "388. 예측: D2    | 정답: D2   \n",
            "389. 예측: G2    | 정답: G2   \n",
            "390. 예측: C3    | 정답: C3   \n",
            "391. 예측: F3    | 정답: F3   \n",
            "392. 예측: A#3   | 정답: A#3  \n",
            "393. 예측: D#4   | 정답: D#4  \n",
            "394. 예측: G4    | 정답: G#4  \n",
            "395. 예측: C#5   | 정답: C#5  \n",
            "396. 예측: F#5   | 정답: F#5  \n",
            "397. 예측: B5    | 정답: B5   \n",
            "398. 예측: E6    | 정답: E6   \n",
            "399. 예측: A6    | 정답: A6   \n",
            "400. 예측: C#0   | 정답: C#0  \n",
            "401. 예측: F#0   | 정답: F#0  \n",
            "402. 예측: G#0   | 정답: G#0  \n",
            "403. 예측: B0    | 정답: B0   \n",
            "404. 예측: E1    | 정답: E1   \n",
            "405. 예측: A1    | 정답: A1   \n",
            "406. 예측: D2    | 정답: D2   \n",
            "407. 예측: G2    | 정답: G2   \n",
            "408. 예측: C3    | 정답: C3   \n",
            "409. 예측: F3    | 정답: F3   \n",
            "410. 예측: A#3   | 정답: A#3  \n",
            "411. 예측: D#4   | 정답: D#4  \n",
            "412. 예측: G4    | 정답: G#4  \n",
            "413. 예측: C#5   | 정답: C#5  \n",
            "414. 예측: F#5   | 정답: F#5  \n",
            "415. 예측: B5    | 정답: B5   \n",
            "416. 예측: D#6   | 정답: D#6  \n",
            "417. 예측: E6    | 정답: E6   \n",
            "418. 예측: A6    | 정답: A6   \n",
            "419. 예측: B-1   | 정답: B-1  \n",
            "420. 예측: F#0   | 정답: F#0  \n",
            "421. 예측: D#1   | 정답: D#1  \n",
            "422. 예측: C2    | 정답: C2   \n",
            "423. 예측: F2    | 정답: F2   \n",
            "424. 예측: F#2   | 정답: F#2  \n",
            "425. 예측: A#2   | 정답: A#2  \n",
            "426. 예측: E5    | 정답: E5   \n",
            "427. 예측: G#5   | 정답: G#5  \n",
            "428. 예측: A5    | 정답: A5   \n",
            "429. 예측: D6    | 정답: D6   \n",
            "430. 예측: G6    | 정답: G6   \n",
            "431. 예측: C7    | 정답: C7   \n",
            "432. 예측: A0    | 정답: A0   \n",
            "433. 예측: A#0   | 정답: A#0  \n",
            "434. 예측: D1    | 정답: D1   \n",
            "435. 예측: G1    | 정답: G1   \n",
            "436. 예측: B1    | 정답: B1   \n",
            "437. 예측: C#2   | 정답: C#2  \n",
            "438. 예측: F2    | 정답: F2   \n",
            "439. 예측: A2    | 정답: A2   \n",
            "440. 예측: A#2   | 정답: A#2  \n",
            "441. 예측: D#3   | 정답: D#3  \n",
            "442. 예측: G#3   | 정답: G#3  \n",
            "443. 예측: C#4   | 정답: C#4  \n",
            "444. 예측: F4    | 정답: F#4  \n",
            "445. 예측: B4    | 정답: B4   \n",
            "446. 예측: E5    | 정답: E5   \n",
            "447. 예측: A5    | 정답: A5   \n",
            "448. 예측: A#5   | 정답: A#5  \n",
            "449. 예측: B5    | 정답: B5   \n",
            "450. 예측: D6    | 정답: D6   \n",
            "451. 예측: C7    | 정답: C7   \n",
            "452. 예측: B0    | 정답: C0   \n",
            "453. 예측: G0    | 정답: F0   \n",
            "454. 예측: B0    | 정답: A#0  \n",
            "455. 예측: D#1   | 정답: D#1  \n",
            "456. 예측: G#1   | 정답: G#1  \n",
            "457. 예측: A1    | 정답: A1   \n",
            "458. 예측: C#2   | 정답: C#2  \n",
            "459. 예측: F#2   | 정답: F#2  \n",
            "460. 예측: B2    | 정답: B2   \n",
            "461. 예측: E3    | 정답: E3   \n",
            "462. 예측: A3    | 정답: A3   \n",
            "463. 예측: D4    | 정답: D4   \n",
            "464. 예측: G4    | 정답: G4   \n",
            "465. 예측: C5    | 정답: C5   \n",
            "466. 예측: F5    | 정답: F5   \n",
            "467. 예측: A#5   | 정답: A#5  \n",
            "468. 예측: D6    | 정답: D#6  \n",
            "469. 예측: F#6   | 정답: F#6  \n",
            "470. 예측: F#5   | 정답: G#6  \n",
            "471. 예측: A#6   | 정답: A#6  \n",
            "472. 예측: A#-1  | 정답: A#-1 \n",
            "473. 예측: A#0   | 정답: F0   \n",
            "474. 예측: A0    | 정답: A#0  \n",
            "475. 예측: D#1   | 정답: D#1  \n",
            "476. 예측: G#1   | 정답: G#1  \n",
            "477. 예측: C#2   | 정답: C#2  \n",
            "478. 예측: F#2   | 정답: F#2  \n",
            "479. 예측: B2    | 정답: B2   \n",
            "480. 예측: A3    | 정답: A3   \n",
            "481. 예측: D4    | 정답: D4   \n",
            "482. 예측: G4    | 정답: G4   \n",
            "483. 예측: C5    | 정답: C5   \n",
            "484. 예측: F5    | 정답: F5   \n",
            "485. 예측: A#5   | 정답: A#5  \n",
            "486. 예측: D#6   | 정답: D#6  \n",
            "487. 예측: G#6   | 정답: G#6  \n",
            "488. 예측: B-1   | 정답: B-1  \n",
            "489. 예측: D#1   | 정답: E0   \n",
            "490. 예측: A0    | 정답: A0   \n",
            "491. 예측: D1    | 정답: D1   \n",
            "492. 예측: G1    | 정답: G1   \n",
            "493. 예측: B1    | 정답: B1   \n",
            "494. 예측: E2    | 정답: E2   \n",
            "495. 예측: F2    | 정답: F2   \n",
            "496. 예측: D#3   | 정답: D#3  \n",
            "497. 예측: B4    | 정답: B4   \n",
            "498. 예측: D#5   | 정답: D#5  \n",
            "499. 예측: A6    | 정답: A5   \n",
            "500. 예측: F6    | 정답: F#6  \n",
            "501. 예측: G#6   | 정답: G6   \n",
            "502. 예측: B-1   | 정답: B-1  \n",
            "503. 예측: C#0   | 정답: C#0  \n",
            "504. 예측: C#0   | 정답: E0   \n",
            "505. 예측: A1    | 정답: A1   \n",
            "506. 예측: C2    | 정답: C2   \n",
            "507. 예측: G2    | 정답: G2   \n",
            "508. 예측: F#2   | 정답: A#2  \n",
            "509. 예측: D#3   | 정답: D#3  \n",
            "510. 예측: A0    | 정답: C#4  \n",
            "511. 예측: D4    | 정답: D4   \n",
            "512. 예측: F#4   | 정답: F#4  \n",
            "513. 예측: E5    | 정답: E5   \n",
            "514. 예측: A5    | 정답: A5   \n",
            "515. 예측: D6    | 정답: D6   \n",
            "516. 예측: G#6   | 정답: G6   \n"
          ]
        }
      ]
    },
    {
      "cell_type": "code",
      "source": [
        "import sys\n",
        "sys.path.append('/content/drive/MyDrive')\n",
        "\n",
        "from ScoreDetection import remove_noise, remove_staves, normalization, object_analysis, object_detection, recognition\n",
        "\n",
        "import cv2\n",
        "from google.colab.patches import cv2_imshow\n",
        "\n",
        "\n",
        "# 이미지 경로\n",
        "image_path = \"/content/drive/MyDrive/상어가족.png\"\n",
        "\n",
        "\n",
        "# OpenCV로 이미지 읽기\n",
        "image = cv2.imread(image_path)\n",
        "\n",
        "\n",
        "image_1 = remove_noise(image)\n",
        "image_2, staves = remove_staves(image_1)\n",
        "image_3, staves = normalization(image_2, staves, 10)\n",
        "image_4, objects = object_detection(image_3, staves)\n",
        "image_5, objects = object_analysis(image_4, objects)\n",
        "image_6, key, beats, pitches = recognition(image_5, staves, objects)\n",
        "\n",
        "\n",
        "cv2_imshow(image_6)\n",
        "k = cv2.waitKey(0)\n",
        "if k == 27:\n",
        "    cv2.destroyAllWindows()\n"
      ],
      "metadata": {
        "colab": {
          "base_uri": "https://localhost:8080/",
          "height": 341
        },
        "id": "Xr12T9RGw5dW",
        "outputId": "17d2b2f7-9642-4be7-897f-13127b5f3266"
      },
      "execution_count": null,
      "outputs": [
        {
          "output_type": "error",
          "ename": "ZeroDivisionError",
          "evalue": "float division by zero",
          "traceback": [
            "\u001b[0;31m---------------------------------------------------------------------------\u001b[0m",
            "\u001b[0;31mZeroDivisionError\u001b[0m                         Traceback (most recent call last)",
            "\u001b[0;32m<ipython-input-8-32594a7712e8>\u001b[0m in \u001b[0;36m<cell line: 0>\u001b[0;34m()\u001b[0m\n\u001b[1;32m     18\u001b[0m \u001b[0mimage_1\u001b[0m \u001b[0;34m=\u001b[0m \u001b[0mremove_noise\u001b[0m\u001b[0;34m(\u001b[0m\u001b[0mimage\u001b[0m\u001b[0;34m)\u001b[0m\u001b[0;34m\u001b[0m\u001b[0;34m\u001b[0m\u001b[0m\n\u001b[1;32m     19\u001b[0m \u001b[0mimage_2\u001b[0m\u001b[0;34m,\u001b[0m \u001b[0mstaves\u001b[0m \u001b[0;34m=\u001b[0m \u001b[0mremove_staves\u001b[0m\u001b[0;34m(\u001b[0m\u001b[0mimage_1\u001b[0m\u001b[0;34m)\u001b[0m\u001b[0;34m\u001b[0m\u001b[0;34m\u001b[0m\u001b[0m\n\u001b[0;32m---> 20\u001b[0;31m \u001b[0mimage_3\u001b[0m\u001b[0;34m,\u001b[0m \u001b[0mstaves\u001b[0m \u001b[0;34m=\u001b[0m \u001b[0mnormalization\u001b[0m\u001b[0;34m(\u001b[0m\u001b[0mimage_2\u001b[0m\u001b[0;34m,\u001b[0m \u001b[0mstaves\u001b[0m\u001b[0;34m,\u001b[0m \u001b[0;36m10\u001b[0m\u001b[0;34m)\u001b[0m\u001b[0;34m\u001b[0m\u001b[0;34m\u001b[0m\u001b[0m\n\u001b[0m\u001b[1;32m     21\u001b[0m \u001b[0mimage_4\u001b[0m\u001b[0;34m,\u001b[0m \u001b[0mobjects\u001b[0m \u001b[0;34m=\u001b[0m \u001b[0mobject_detection\u001b[0m\u001b[0;34m(\u001b[0m\u001b[0mimage_3\u001b[0m\u001b[0;34m,\u001b[0m \u001b[0mstaves\u001b[0m\u001b[0;34m)\u001b[0m\u001b[0;34m\u001b[0m\u001b[0;34m\u001b[0m\u001b[0m\n\u001b[1;32m     22\u001b[0m \u001b[0mimage_5\u001b[0m\u001b[0;34m,\u001b[0m \u001b[0mobjects\u001b[0m \u001b[0;34m=\u001b[0m \u001b[0mobject_analysis\u001b[0m\u001b[0;34m(\u001b[0m\u001b[0mimage_4\u001b[0m\u001b[0;34m,\u001b[0m \u001b[0mobjects\u001b[0m\u001b[0;34m)\u001b[0m\u001b[0;34m\u001b[0m\u001b[0;34m\u001b[0m\u001b[0m\n",
            "\u001b[0;32m/content/drive/MyDrive/ScoreDetection.py\u001b[0m in \u001b[0;36mnormalization\u001b[0;34m(image, staves, standard)\u001b[0m\n\u001b[1;32m     63\u001b[0m \u001b[0;34m\u001b[0m\u001b[0m\n\u001b[1;32m     64\u001b[0m     \u001b[0mheight\u001b[0m\u001b[0;34m,\u001b[0m \u001b[0mwidth\u001b[0m \u001b[0;34m=\u001b[0m \u001b[0mimage\u001b[0m\u001b[0;34m.\u001b[0m\u001b[0mshape\u001b[0m  \u001b[0;31m# 이미지의 높이와 넓이\u001b[0m\u001b[0;34m\u001b[0m\u001b[0;34m\u001b[0m\u001b[0m\n\u001b[0;32m---> 65\u001b[0;31m     \u001b[0mweight\u001b[0m \u001b[0;34m=\u001b[0m \u001b[0mstandard\u001b[0m \u001b[0;34m/\u001b[0m \u001b[0mavg_distance\u001b[0m  \u001b[0;31m# 기준으로 정한 오선 간격을 이용해 가중치를 구함\u001b[0m\u001b[0;34m\u001b[0m\u001b[0;34m\u001b[0m\u001b[0m\n\u001b[0m\u001b[1;32m     66\u001b[0m     \u001b[0mnew_width\u001b[0m \u001b[0;34m=\u001b[0m \u001b[0mint\u001b[0m\u001b[0;34m(\u001b[0m\u001b[0mwidth\u001b[0m \u001b[0;34m*\u001b[0m \u001b[0mweight\u001b[0m\u001b[0;34m)\u001b[0m  \u001b[0;31m# 이미지의 넓이에 가중치를 곱해줌\u001b[0m\u001b[0;34m\u001b[0m\u001b[0;34m\u001b[0m\u001b[0m\n\u001b[1;32m     67\u001b[0m     \u001b[0mnew_height\u001b[0m \u001b[0;34m=\u001b[0m \u001b[0mint\u001b[0m\u001b[0;34m(\u001b[0m\u001b[0mheight\u001b[0m \u001b[0;34m*\u001b[0m \u001b[0mweight\u001b[0m\u001b[0;34m)\u001b[0m  \u001b[0;31m# 이미지의 높이에 가중치를 곱해줌\u001b[0m\u001b[0;34m\u001b[0m\u001b[0;34m\u001b[0m\u001b[0m\n",
            "\u001b[0;31mZeroDivisionError\u001b[0m: float division by zero"
          ]
        }
      ]
    },
    {
      "cell_type": "code",
      "source": [
        "import os\n",
        "import cv2\n",
        "import numpy as np\n",
        "import librosa\n",
        "import pandas as pd\n",
        "import tensorflow as tf\n",
        "from tensorflow.keras.models import load_model\n",
        "from tensorflow.keras.utils import to_categorical\n",
        "from sklearn.preprocessing import LabelEncoder\n",
        "from google.colab.patches import cv2_imshow\n",
        "\n",
        "from ScoreDetection import remove_noise, remove_staves, normalization, object_analysis, object_detection, recognition\n",
        "\n",
        "# ====== 설정 ======\n",
        "BASE_PATH = '/content/drive/MyDrive/MusicMNIST_Project'\n",
        "sheet_path = '/content/drive/MyDrive/애국가_악보.jpg'\n",
        "audio_path = '/content/drive/MyDrive/애국가1절.wav'\n",
        "model_path = f'{BASE_PATH}/saved_models/multimodal_xception_audio_model.h5'\n",
        "CSV_PATH = f\"{BASE_PATH}/metadata/Annotations_Instruments_Split_Test.csv\"\n",
        "\n",
        "# ====== 슬라이딩 없이 객체 기반 음표 crop ======\n",
        "def prepare_model_inputs(image, objects, input_size=(299, 299)):\n",
        "    note_images = []\n",
        "    bboxes = []\n",
        "\n",
        "    for i, obj in enumerate(objects):\n",
        "        stats = obj[1]\n",
        "        (x, y, w, h, _) = stats\n",
        "        cropped = image[y:y+h, x:x+w]\n",
        "        try:\n",
        "            resized = cv2.resize(cropped, input_size)\n",
        "            if len(resized.shape) == 2:\n",
        "                resized = cv2.cvtColor(resized, cv2.COLOR_GRAY2RGB)\n",
        "            else:\n",
        "                resized = cv2.cvtColor(resized, cv2.COLOR_BGR2RGB)\n",
        "            normalized = tf.keras.applications.xception.preprocess_input(resized.astype(np.float32))\n",
        "            note_images.append(normalized)\n",
        "            bboxes.append((x, y, w, h))\n",
        "        except:\n",
        "            continue\n",
        "\n",
        "    return np.array(note_images, dtype=np.float32), bboxes\n",
        "\n",
        "# ====== 오디오 분할 ======\n",
        "def extract_audio_segments(audio_path, num_segments):\n",
        "    y, sr = librosa.load(audio_path, sr=22050)\n",
        "    segment_len = int(len(y) / num_segments)\n",
        "\n",
        "    segments = []\n",
        "    for i in range(num_segments):\n",
        "        start = i * segment_len\n",
        "        end = start + segment_len\n",
        "        y_segment = y[start:end]\n",
        "\n",
        "        mel = librosa.feature.melspectrogram(y=y_segment, sr=sr, n_mels=128)\n",
        "        mel_db = librosa.power_to_db(mel, ref=np.max)\n",
        "\n",
        "        if mel_db.shape[1] < 130:\n",
        "            pad = 130 - mel_db.shape[1]\n",
        "            mel_db = np.pad(mel_db, ((0, 0), (0, pad)), mode='constant')\n",
        "        else:\n",
        "            mel_db = mel_db[:, :130]\n",
        "\n",
        "        mel_db = mel_db[..., np.newaxis]  # (128, 130, 1)\n",
        "        segments.append(mel_db)\n",
        "\n",
        "    return np.array(segments, dtype=np.float32)\n",
        "\n",
        "# ====== 전처리 및 인식 ======\n",
        "image = cv2.imread(sheet_path)\n",
        "image_1 = remove_noise(image)\n",
        "image_2, staves = remove_staves(image_1)\n",
        "image_3, staves = normalization(image_2, staves, 10)\n",
        "image_4, objects = object_detection(image_3, staves)\n",
        "image_5, objects = object_analysis(image_4, objects)\n",
        "image_6, key, beats, pitches = recognition(image_5, staves, objects)\n",
        "\n",
        "# ====== 모델 및 레이블 로딩 ======\n",
        "model = load_model(model_path)\n",
        "\n",
        "# CSV 불러오기\n",
        "df = pd.read_csv(CSV_PATH)\n",
        "\n",
        "# 클래스 라벨 인코딩\n",
        "label_encoder = LabelEncoder()\n",
        "df['label'] = label_encoder.fit_transform(df['class'])\n",
        "df['label_cat'] = to_categorical(df['label'], num_classes=len(label_encoder.classes_)).tolist()\n",
        "\n",
        "# ====== 모델 입력 준비 ======\n",
        "X_img, bboxes = prepare_model_inputs(image_3, objects)\n",
        "X_mel = extract_audio_segments(audio_path, num_segments=len(X_img))\n",
        "\n",
        "# ====== 예측 ======\n",
        "preds = model.predict({'image_input': X_img, 'audio_input': X_mel}, verbose=1)\n",
        "classes = np.argmax(preds, axis=1)\n",
        "note_names = label_encoder.inverse_transform(classes)\n",
        "\n",
        "# ====== 예측 결과 시각화 ======\n",
        "for (x, y, w, h), name in zip(bboxes, note_names):\n",
        "    cv2.rectangle(image_3, (x, y), (x+w, y+h), (255, 0, 0), 1)\n",
        "    cv2.putText(image_3, str(name), (x, y - 10),\n",
        "                cv2.FONT_HERSHEY_SIMPLEX, 0.6, (0, 0, 255), 2)\n",
        "\n",
        "# ====== 출력 ======\n",
        "print(f\"\\n🎶 예측된 음표 리스트 ({len(note_names)}개):\")\n",
        "for idx, name in enumerate(note_names, 1):\n",
        "    print(f\"{idx:3d}: {name}\")\n",
        "\n",
        "cv2_imshow(image_3)\n"
      ],
      "metadata": {
        "colab": {
          "base_uri": "https://localhost:8080/",
          "height": 1000
        },
        "id": "PEp2L_0SF_yJ",
        "outputId": "cdccc294-e441-4000-f641-b1f53f3e0402"
      },
      "execution_count": null,
      "outputs": [
        {
          "output_type": "stream",
          "name": "stderr",
          "text": [
            "WARNING:absl:Compiled the loaded model, but the compiled metrics have yet to be built. `model.compile_metrics` will be empty until you train or evaluate the model.\n"
          ]
        },
        {
          "output_type": "stream",
          "name": "stdout",
          "text": [
            "\u001b[1m3/3\u001b[0m \u001b[32m━━━━━━━━━━━━━━━━━━━━\u001b[0m\u001b[37m\u001b[0m \u001b[1m21s\u001b[0m 3s/step\n",
            "\n",
            "🎶 예측된 음표 리스트 (72개):\n",
            "  1: A0\n",
            "  2: A5\n",
            "  3: A0\n",
            "  4: A0\n",
            "  5: A#0\n",
            "  6: A0\n",
            "  7: A#0\n",
            "  8: A0\n",
            "  9: A#0\n",
            " 10: A0\n",
            " 11: A0\n",
            " 12: A5\n",
            " 13: E2\n",
            " 14: A#0\n",
            " 15: G2\n",
            " 16: G2\n",
            " 17: A0\n",
            " 18: A3\n",
            " 19: A0\n",
            " 20: A0\n",
            " 21: A0\n",
            " 22: G2\n",
            " 23: A0\n",
            " 24: A0\n",
            " 25: A0\n",
            " 26: A0\n",
            " 27: A0\n",
            " 28: A0\n",
            " 29: A4\n",
            " 30: A#0\n",
            " 31: A0\n",
            " 32: A0\n",
            " 33: A0\n",
            " 34: A0\n",
            " 35: A5\n",
            " 36: A0\n",
            " 37: A0\n",
            " 38: A0\n",
            " 39: A0\n",
            " 40: A0\n",
            " 41: A0\n",
            " 42: A0\n",
            " 43: G2\n",
            " 44: A0\n",
            " 45: A0\n",
            " 46: A0\n",
            " 47: A0\n",
            " 48: C5\n",
            " 49: A#0\n",
            " 50: A1\n",
            " 51: B0\n",
            " 52: A0\n",
            " 53: B0\n",
            " 54: A0\n",
            " 55: A3\n",
            " 56: A0\n",
            " 57: A5\n",
            " 58: A#0\n",
            " 59: A0\n",
            " 60: B0\n",
            " 61: A0\n",
            " 62: A0\n",
            " 63: A0\n",
            " 64: B0\n",
            " 65: A0\n",
            " 66: A0\n",
            " 67: B0\n",
            " 68: A0\n",
            " 69: A0\n",
            " 70: A0\n",
            " 71: D0\n",
            " 72: F#4\n"
          ]
        },
        {
          "output_type": "display_data",
          "data": {
            "text/plain": [
              "<PIL.Image.Image image mode=L size=716x881>"
            ],
            "image/png": "[encoded data removed]",
            "image/jpeg": "[encoded data removed]"
          },
          "metadata": {}
        }
      ]
    },
    {
      "cell_type": "code",
      "source": [
        "def extract_note_objects(objects):\n",
        "    \"\"\"\n",
        "    객체 중에서 진짜 '음표' 조건을 만족하는 것만 추출.\n",
        "    모델 예측 대상과 정확히 1:1 매칭하기 위해 필요.\n",
        "    \"\"\"\n",
        "    note_objs = []\n",
        "    for obj in objects:\n",
        "        stats = obj[1]\n",
        "        stems = obj[2]\n",
        "        direction = obj[3]\n",
        "        (x, y, w, h, area) = stats\n",
        "        # 음표 조건과 비슷한 기준 (너가 ScoreDetection.py에서 쓴 조건과 일치시킴)\n",
        "        if (\n",
        "            len(stems) and\n",
        "            w >= 10 and\n",
        "            h >= 35 and\n",
        "            area >= 95\n",
        "        ):\n",
        "            note_objs.append(obj)\n",
        "    return note_objs\n",
        "\n",
        "# 1. 객체 중 음표만 골라냄\n",
        "note_objects = extract_note_objects(objects)\n",
        "\n",
        "# 2. 이미지 crop + 모델 입력\n",
        "X_img, bboxes = prepare_model_inputs(image_3, note_objects)\n",
        "X_mel = extract_audio_segments(audio_path, num_segments=len(X_img))\n",
        "\n",
        "# 3. 모델 예측\n",
        "preds = model.predict({'image_input': X_img, 'audio_input': X_mel}, verbose=1)\n",
        "classes = np.argmax(preds, axis=1)\n",
        "note_names = label_encoder.inverse_transform(classes)\n",
        "\n",
        "# 4. image_6에 예측된 결과를 1:1 매핑해서 표시\n",
        "for obj, name in zip(note_objects, note_names):\n",
        "    stats = obj[1]\n",
        "    (x, y, w, h, _) = stats\n",
        "    cv2.rectangle(image_6, (x, y), (x+w, y+h), (0, 255, 0), 1)\n",
        "    cv2.putText(image_6, str(name), (x, y - 10),\n",
        "                cv2.FONT_HERSHEY_SIMPLEX, 0.6, (0, 255, 0), 2)\n",
        "\n",
        "# 5. 결과 출력\n",
        "print(f\"\\n🎯 모델 예측 결과 ({len(note_names)}개):\")\n",
        "for idx, name in enumerate(note_names, 1):\n",
        "    print(f\"{idx:3d}: {name}\")\n",
        "\n",
        "cv2_imshow(image_6)\n"
      ],
      "metadata": {
        "colab": {
          "base_uri": "https://localhost:8080/",
          "height": 1000
        },
        "id": "q8eH37NE4_AV",
        "outputId": "eabb8807-7c4a-4136-f0c3-a0508905e32e"
      },
      "execution_count": null,
      "outputs": [
        {
          "output_type": "stream",
          "name": "stdout",
          "text": [
            "\u001b[1m2/2\u001b[0m \u001b[32m━━━━━━━━━━━━━━━━━━━━\u001b[0m\u001b[37m\u001b[0m \u001b[1m10s\u001b[0m 10s/step\n",
            "\n",
            "🎯 모델 예측 결과 (56개):\n",
            "  1: B0\n",
            "  2: A#0\n",
            "  3: A0\n",
            "  4: B0\n",
            "  5: A0\n",
            "  6: A#0\n",
            "  7: A#0\n",
            "  8: A#0\n",
            "  9: G2\n",
            " 10: A#0\n",
            " 11: A#0\n",
            " 12: B0\n",
            " 13: G2\n",
            " 14: A0\n",
            " 15: A#0\n",
            " 16: A0\n",
            " 17: A#0\n",
            " 18: A0\n",
            " 19: A0\n",
            " 20: A0\n",
            " 21: B0\n",
            " 22: A0\n",
            " 23: A0\n",
            " 24: B0\n",
            " 25: A0\n",
            " 26: A0\n",
            " 27: A0\n",
            " 28: A0\n",
            " 29: A0\n",
            " 30: A0\n",
            " 31: A0\n",
            " 32: A0\n",
            " 33: A0\n",
            " 34: G2\n",
            " 35: A0\n",
            " 36: A0\n",
            " 37: B0\n",
            " 38: B0\n",
            " 39: A1\n",
            " 40: B0\n",
            " 41: A0\n",
            " 42: A0\n",
            " 43: A0\n",
            " 44: B0\n",
            " 45: A#0\n",
            " 46: B0\n",
            " 47: B0\n",
            " 48: A0\n",
            " 49: A#0\n",
            " 50: B0\n",
            " 51: A#0\n",
            " 52: A#0\n",
            " 53: A0\n",
            " 54: A0\n",
            " 55: A0\n",
            " 56: D0\n"
          ]
        },
        {
          "output_type": "display_data",
          "data": {
            "text/plain": [
              "<PIL.Image.Image image mode=L size=716x881>"
            ],
            "image/png": "[encoded data removed]",
            "image/jpeg": "[encoded data removed]"
          },
          "metadata": {}
        }
      ]
    },
    {
      "cell_type": "code",
      "source": [
        "def get_note_sequence_from_prediction(predictions):\n",
        "    \"\"\"\n",
        "    모델의 softmax 출력 결과를 받아 가장 높은 확률의 인덱스를\n",
        "    MIDI note number로 변환해주는 함수\n",
        "    \"\"\"\n",
        "    note_sequence = []\n",
        "    for pred in predictions:\n",
        "        class_idx = np.argmax(pred)           # 확률이 가장 높은 클래스 선택\n",
        "        midi_note = 21 + class_idx            # 21 ~ 108 사이로 매핑\n",
        "        note_sequence.append(midi_note)\n",
        "    return note_sequence\n"
      ],
      "metadata": {
        "id": "7ss1z4EH6xtG"
      },
      "execution_count": null,
      "outputs": []
    },
    {
      "cell_type": "code",
      "source": [
        "note_sequences = []\n",
        "for x_batch, _ in train_dataset:  # 이미지 + 오디오 배치\n",
        "    preds = multi_input_model.predict(x_batch)  # shape: (batch_size, 88)\n",
        "    note_seq = get_note_sequence_from_prediction(preds)\n",
        "    note_sequences.extend(note_seq)\n",
        "    break  # 예시니까 한 배치만 실행\n"
      ],
      "metadata": {
        "id": "iXWEkWae6zm5"
      },
      "execution_count": null,
      "outputs": []
    },
    {
      "cell_type": "code",
      "source": [
        "class MusicTransformer(tf.keras.Model):\n",
        "    def __init__(self, vocab_size=88, maxlen=100, embed_dim=128, num_heads=4, ff_dim=256, num_layers=2):\n",
        "        super(MusicTransformer, self).__init__()\n",
        "        self.embedding = tf.keras.layers.Embedding(input_dim=vocab_size, output_dim=embed_dim)\n",
        "        self.pos_embedding = tf.keras.layers.Embedding(input_dim=maxlen, output_dim=embed_dim)\n",
        "\n",
        "        self.transformer_blocks = [\n",
        "            TransformerBlock(embed_dim, num_heads, ff_dim)\n",
        "            for _ in range(num_layers)\n",
        "        ]\n",
        "\n",
        "        self.flatten = tf.keras.layers.Flatten()\n",
        "        self.dropout = tf.keras.layers.Dropout(0.1)\n",
        "        self.out = tf.keras.layers.Dense(vocab_size, activation=\"softmax\")\n",
        "\n",
        "    def call(self, inputs):\n",
        "        positions = tf.range(start=0, limit=tf.shape(inputs)[-1], delta=1)\n",
        "        x = self.embedding(inputs) + self.pos_embedding(positions)\n",
        "        for block in self.transformer_blocks:\n",
        "            x = block(x)\n",
        "        x = self.dropout(x)\n",
        "        return self.out(x)\n"
      ],
      "metadata": {
        "id": "DBHvn6op0m9S"
      },
      "execution_count": null,
      "outputs": []
    },
    {
      "cell_type": "code",
      "execution_count": null,
      "metadata": {
        "id": "SvtJBoXeyoek"
      },
      "outputs": [],
      "source": [
        "def get_note_sequence_from_prediction(pred_vector, threshold=0.1):\n",
        "    \"\"\" 88차원 softmax 결과를 계이름 인덱스 시퀀스로 변환 \"\"\"\n",
        "    note_indices = np.where(pred_vector > threshold)[0]\n",
        "    return note_indices if len(note_indices) > 0 else [np.argmax(pred_vector)]\n"
      ]
    },
    {
      "cell_type": "code",
      "execution_count": null,
      "metadata": {
        "colab": {
          "base_uri": "https://localhost:8080/",
          "height": 1000
        },
        "id": "-n-219km0Hbx",
        "outputId": "110cac03-695f-49bb-cf6d-6151efd57100"
      },
      "outputs": [
        {
          "output_type": "stream",
          "name": "stdout",
          "text": [
            "\u001b[1m1/1\u001b[0m \u001b[32m━━━━━━━━━━━━━━━━━━━━\u001b[0m\u001b[37m\u001b[0m \u001b[1m0s\u001b[0m 445ms/step\n",
            "\u001b[1m1/1\u001b[0m \u001b[32m━━━━━━━━━━━━━━━━━━━━\u001b[0m\u001b[37m\u001b[0m \u001b[1m0s\u001b[0m 215ms/step\n",
            "\u001b[1m1/1\u001b[0m \u001b[32m━━━━━━━━━━━━━━━━━━━━\u001b[0m\u001b[37m\u001b[0m \u001b[1m0s\u001b[0m 179ms/step\n",
            "\u001b[1m1/1\u001b[0m \u001b[32m━━━━━━━━━━━━━━━━━━━━\u001b[0m\u001b[37m\u001b[0m \u001b[1m0s\u001b[0m 194ms/step\n",
            "\u001b[1m1/1\u001b[0m \u001b[32m━━━━━━━━━━━━━━━━━━━━\u001b[0m\u001b[37m\u001b[0m \u001b[1m0s\u001b[0m 203ms/step\n",
            "\u001b[1m1/1\u001b[0m \u001b[32m━━━━━━━━━━━━━━━━━━━━\u001b[0m\u001b[37m\u001b[0m \u001b[1m0s\u001b[0m 188ms/step\n",
            "\u001b[1m1/1\u001b[0m \u001b[32m━━━━━━━━━━━━━━━━━━━━\u001b[0m\u001b[37m\u001b[0m \u001b[1m0s\u001b[0m 184ms/step\n",
            "\u001b[1m1/1\u001b[0m \u001b[32m━━━━━━━━━━━━━━━━━━━━\u001b[0m\u001b[37m\u001b[0m \u001b[1m0s\u001b[0m 208ms/step\n",
            "\u001b[1m1/1\u001b[0m \u001b[32m━━━━━━━━━━━━━━━━━━━━\u001b[0m\u001b[37m\u001b[0m \u001b[1m0s\u001b[0m 269ms/step\n",
            "\u001b[1m1/1\u001b[0m \u001b[32m━━━━━━━━━━━━━━━━━━━━\u001b[0m\u001b[37m\u001b[0m \u001b[1m0s\u001b[0m 250ms/step\n",
            "\u001b[1m1/1\u001b[0m \u001b[32m━━━━━━━━━━━━━━━━━━━━\u001b[0m\u001b[37m\u001b[0m \u001b[1m0s\u001b[0m 276ms/step\n",
            "\u001b[1m1/1\u001b[0m \u001b[32m━━━━━━━━━━━━━━━━━━━━\u001b[0m\u001b[37m\u001b[0m \u001b[1m0s\u001b[0m 193ms/step\n",
            "\u001b[1m1/1\u001b[0m \u001b[32m━━━━━━━━━━━━━━━━━━━━\u001b[0m\u001b[37m\u001b[0m \u001b[1m0s\u001b[0m 181ms/step\n",
            "\u001b[1m1/1\u001b[0m \u001b[32m━━━━━━━━━━━━━━━━━━━━\u001b[0m\u001b[37m\u001b[0m \u001b[1m0s\u001b[0m 180ms/step\n",
            "\u001b[1m1/1\u001b[0m \u001b[32m━━━━━━━━━━━━━━━━━━━━\u001b[0m\u001b[37m\u001b[0m \u001b[1m0s\u001b[0m 194ms/step\n",
            "\u001b[1m1/1\u001b[0m \u001b[32m━━━━━━━━━━━━━━━━━━━━\u001b[0m\u001b[37m\u001b[0m \u001b[1m0s\u001b[0m 185ms/step\n",
            "\u001b[1m1/1\u001b[0m \u001b[32m━━━━━━━━━━━━━━━━━━━━\u001b[0m\u001b[37m\u001b[0m \u001b[1m0s\u001b[0m 190ms/step\n",
            "\u001b[1m1/1\u001b[0m \u001b[32m━━━━━━━━━━━━━━━━━━━━\u001b[0m\u001b[37m\u001b[0m \u001b[1m0s\u001b[0m 181ms/step\n",
            "\u001b[1m1/1\u001b[0m \u001b[32m━━━━━━━━━━━━━━━━━━━━\u001b[0m\u001b[37m\u001b[0m \u001b[1m0s\u001b[0m 181ms/step\n",
            "\u001b[1m1/1\u001b[0m \u001b[32m━━━━━━━━━━━━━━━━━━━━\u001b[0m\u001b[37m\u001b[0m \u001b[1m1s\u001b[0m 502ms/step\n",
            "\u001b[1m1/1\u001b[0m \u001b[32m━━━━━━━━━━━━━━━━━━━━\u001b[0m\u001b[37m\u001b[0m \u001b[1m0s\u001b[0m 204ms/step\n",
            "\u001b[1m1/1\u001b[0m \u001b[32m━━━━━━━━━━━━━━━━━━━━\u001b[0m\u001b[37m\u001b[0m \u001b[1m0s\u001b[0m 202ms/step\n",
            "\u001b[1m1/1\u001b[0m \u001b[32m━━━━━━━━━━━━━━━━━━━━\u001b[0m\u001b[37m\u001b[0m \u001b[1m0s\u001b[0m 266ms/step\n",
            "\u001b[1m1/1\u001b[0m \u001b[32m━━━━━━━━━━━━━━━━━━━━\u001b[0m\u001b[37m\u001b[0m \u001b[1m0s\u001b[0m 273ms/step\n",
            "\u001b[1m1/1\u001b[0m \u001b[32m━━━━━━━━━━━━━━━━━━━━\u001b[0m\u001b[37m\u001b[0m \u001b[1m0s\u001b[0m 192ms/step\n",
            "\u001b[1m1/1\u001b[0m \u001b[32m━━━━━━━━━━━━━━━━━━━━\u001b[0m\u001b[37m\u001b[0m \u001b[1m0s\u001b[0m 336ms/step\n",
            "\u001b[1m1/1\u001b[0m \u001b[32m━━━━━━━━━━━━━━━━━━━━\u001b[0m\u001b[37m\u001b[0m \u001b[1m0s\u001b[0m 181ms/step\n",
            "\u001b[1m1/1\u001b[0m \u001b[32m━━━━━━━━━━━━━━━━━━━━\u001b[0m\u001b[37m\u001b[0m \u001b[1m0s\u001b[0m 180ms/step\n",
            "\u001b[1m1/1\u001b[0m \u001b[32m━━━━━━━━━━━━━━━━━━━━\u001b[0m\u001b[37m\u001b[0m \u001b[1m0s\u001b[0m 188ms/step\n",
            "\u001b[1m1/1\u001b[0m \u001b[32m━━━━━━━━━━━━━━━━━━━━\u001b[0m\u001b[37m\u001b[0m \u001b[1m0s\u001b[0m 187ms/step\n",
            "\u001b[1m1/1\u001b[0m \u001b[32m━━━━━━━━━━━━━━━━━━━━\u001b[0m\u001b[37m\u001b[0m \u001b[1m0s\u001b[0m 191ms/step\n",
            "\u001b[1m1/1\u001b[0m \u001b[32m━━━━━━━━━━━━━━━━━━━━\u001b[0m\u001b[37m\u001b[0m \u001b[1m0s\u001b[0m 181ms/step\n",
            "\u001b[1m1/1\u001b[0m \u001b[32m━━━━━━━━━━━━━━━━━━━━\u001b[0m\u001b[37m\u001b[0m \u001b[1m0s\u001b[0m 194ms/step\n",
            "\u001b[1m1/1\u001b[0m \u001b[32m━━━━━━━━━━━━━━━━━━━━\u001b[0m\u001b[37m\u001b[0m \u001b[1m0s\u001b[0m 196ms/step\n",
            "\u001b[1m1/1\u001b[0m \u001b[32m━━━━━━━━━━━━━━━━━━━━\u001b[0m\u001b[37m\u001b[0m \u001b[1m0s\u001b[0m 211ms/step\n",
            "\u001b[1m1/1\u001b[0m \u001b[32m━━━━━━━━━━━━━━━━━━━━\u001b[0m\u001b[37m\u001b[0m \u001b[1m0s\u001b[0m 283ms/step\n",
            "\u001b[1m1/1\u001b[0m \u001b[32m━━━━━━━━━━━━━━━━━━━━\u001b[0m\u001b[37m\u001b[0m \u001b[1m0s\u001b[0m 348ms/step\n",
            "\u001b[1m1/1\u001b[0m \u001b[32m━━━━━━━━━━━━━━━━━━━━\u001b[0m\u001b[37m\u001b[0m \u001b[1m0s\u001b[0m 189ms/step\n",
            "\u001b[1m1/1\u001b[0m \u001b[32m━━━━━━━━━━━━━━━━━━━━\u001b[0m\u001b[37m\u001b[0m \u001b[1m0s\u001b[0m 202ms/step\n",
            "\u001b[1m1/1\u001b[0m \u001b[32m━━━━━━━━━━━━━━━━━━━━\u001b[0m\u001b[37m\u001b[0m \u001b[1m0s\u001b[0m 183ms/step\n",
            "\u001b[1m1/1\u001b[0m \u001b[32m━━━━━━━━━━━━━━━━━━━━\u001b[0m\u001b[37m\u001b[0m \u001b[1m0s\u001b[0m 192ms/step\n",
            "\u001b[1m1/1\u001b[0m \u001b[32m━━━━━━━━━━━━━━━━━━━━\u001b[0m\u001b[37m\u001b[0m \u001b[1m0s\u001b[0m 201ms/step\n",
            "\u001b[1m1/1\u001b[0m \u001b[32m━━━━━━━━━━━━━━━━━━━━\u001b[0m\u001b[37m\u001b[0m \u001b[1m0s\u001b[0m 181ms/step\n",
            "\u001b[1m1/1\u001b[0m \u001b[32m━━━━━━━━━━━━━━━━━━━━\u001b[0m\u001b[37m\u001b[0m \u001b[1m0s\u001b[0m 275ms/step\n",
            "\u001b[1m1/1\u001b[0m \u001b[32m━━━━━━━━━━━━━━━━━━━━\u001b[0m\u001b[37m\u001b[0m \u001b[1m0s\u001b[0m 463ms/step\n",
            "\u001b[1m1/1\u001b[0m \u001b[32m━━━━━━━━━━━━━━━━━━━━\u001b[0m\u001b[37m\u001b[0m \u001b[1m0s\u001b[0m 387ms/step\n",
            "\u001b[1m1/1\u001b[0m \u001b[32m━━━━━━━━━━━━━━━━━━━━\u001b[0m\u001b[37m\u001b[0m \u001b[1m0s\u001b[0m 262ms/step\n",
            "\u001b[1m1/1\u001b[0m \u001b[32m━━━━━━━━━━━━━━━━━━━━\u001b[0m\u001b[37m\u001b[0m \u001b[1m0s\u001b[0m 225ms/step\n",
            "\u001b[1m1/1\u001b[0m \u001b[32m━━━━━━━━━━━━━━━━━━━━\u001b[0m\u001b[37m\u001b[0m \u001b[1m0s\u001b[0m 196ms/step\n",
            "\u001b[1m1/1\u001b[0m \u001b[32m━━━━━━━━━━━━━━━━━━━━\u001b[0m\u001b[37m\u001b[0m \u001b[1m0s\u001b[0m 198ms/step\n",
            "\u001b[1m1/1\u001b[0m \u001b[32m━━━━━━━━━━━━━━━━━━━━\u001b[0m\u001b[37m\u001b[0m \u001b[1m0s\u001b[0m 180ms/step\n",
            "\u001b[1m1/1\u001b[0m \u001b[32m━━━━━━━━━━━━━━━━━━━━\u001b[0m\u001b[37m\u001b[0m \u001b[1m0s\u001b[0m 194ms/step\n",
            "\u001b[1m1/1\u001b[0m \u001b[32m━━━━━━━━━━━━━━━━━━━━\u001b[0m\u001b[37m\u001b[0m \u001b[1m0s\u001b[0m 199ms/step\n",
            "\u001b[1m1/1\u001b[0m \u001b[32m━━━━━━━━━━━━━━━━━━━━\u001b[0m\u001b[37m\u001b[0m \u001b[1m0s\u001b[0m 188ms/step\n",
            "\u001b[1m1/1\u001b[0m \u001b[32m━━━━━━━━━━━━━━━━━━━━\u001b[0m\u001b[37m\u001b[0m \u001b[1m0s\u001b[0m 185ms/step\n",
            "\u001b[1m1/1\u001b[0m \u001b[32m━━━━━━━━━━━━━━━━━━━━\u001b[0m\u001b[37m\u001b[0m \u001b[1m0s\u001b[0m 189ms/step\n",
            "\u001b[1m1/1\u001b[0m \u001b[32m━━━━━━━━━━━━━━━━━━━━\u001b[0m\u001b[37m\u001b[0m \u001b[1m0s\u001b[0m 179ms/step\n",
            "\u001b[1m1/1\u001b[0m \u001b[32m━━━━━━━━━━━━━━━━━━━━\u001b[0m\u001b[37m\u001b[0m \u001b[1m0s\u001b[0m 179ms/step\n",
            "\u001b[1m1/1\u001b[0m \u001b[32m━━━━━━━━━━━━━━━━━━━━\u001b[0m\u001b[37m\u001b[0m \u001b[1m0s\u001b[0m 180ms/step\n",
            "\u001b[1m1/1\u001b[0m \u001b[32m━━━━━━━━━━━━━━━━━━━━\u001b[0m\u001b[37m\u001b[0m \u001b[1m0s\u001b[0m 187ms/step\n",
            "\u001b[1m1/1\u001b[0m \u001b[32m━━━━━━━━━━━━━━━━━━━━\u001b[0m\u001b[37m\u001b[0m \u001b[1m0s\u001b[0m 184ms/step\n",
            "\u001b[1m1/1\u001b[0m \u001b[32m━━━━━━━━━━━━━━━━━━━━\u001b[0m\u001b[37m\u001b[0m \u001b[1m0s\u001b[0m 266ms/step\n",
            "\u001b[1m1/1\u001b[0m \u001b[32m━━━━━━━━━━━━━━━━━━━━\u001b[0m\u001b[37m\u001b[0m \u001b[1m0s\u001b[0m 265ms/step\n",
            "\u001b[1m1/1\u001b[0m \u001b[32m━━━━━━━━━━━━━━━━━━━━\u001b[0m\u001b[37m\u001b[0m \u001b[1m0s\u001b[0m 180ms/step\n",
            "\u001b[1m1/1\u001b[0m \u001b[32m━━━━━━━━━━━━━━━━━━━━\u001b[0m\u001b[37m\u001b[0m \u001b[1m0s\u001b[0m 181ms/step\n",
            "\u001b[1m1/1\u001b[0m \u001b[32m━━━━━━━━━━━━━━━━━━━━\u001b[0m\u001b[37m\u001b[0m \u001b[1m0s\u001b[0m 199ms/step\n",
            "\u001b[1m1/1\u001b[0m \u001b[32m━━━━━━━━━━━━━━━━━━━━\u001b[0m\u001b[37m\u001b[0m \u001b[1m0s\u001b[0m 193ms/step\n",
            "\u001b[1m1/1\u001b[0m \u001b[32m━━━━━━━━━━━━━━━━━━━━\u001b[0m\u001b[37m\u001b[0m \u001b[1m0s\u001b[0m 179ms/step\n",
            "\u001b[1m1/1\u001b[0m \u001b[32m━━━━━━━━━━━━━━━━━━━━\u001b[0m\u001b[37m\u001b[0m \u001b[1m0s\u001b[0m 182ms/step\n",
            "\u001b[1m1/1\u001b[0m \u001b[32m━━━━━━━━━━━━━━━━━━━━\u001b[0m\u001b[37m\u001b[0m \u001b[1m0s\u001b[0m 195ms/step\n",
            "\u001b[1m1/1\u001b[0m \u001b[32m━━━━━━━━━━━━━━━━━━━━\u001b[0m\u001b[37m\u001b[0m \u001b[1m0s\u001b[0m 191ms/step\n",
            "\u001b[1m1/1\u001b[0m \u001b[32m━━━━━━━━━━━━━━━━━━━━\u001b[0m\u001b[37m\u001b[0m \u001b[1m0s\u001b[0m 192ms/step\n",
            "\u001b[1m1/1\u001b[0m \u001b[32m━━━━━━━━━━━━━━━━━━━━\u001b[0m\u001b[37m\u001b[0m \u001b[1m0s\u001b[0m 198ms/step\n",
            "\u001b[1m1/1\u001b[0m \u001b[32m━━━━━━━━━━━━━━━━━━━━\u001b[0m\u001b[37m\u001b[0m \u001b[1m0s\u001b[0m 218ms/step\n",
            "\u001b[1m1/1\u001b[0m \u001b[32m━━━━━━━━━━━━━━━━━━━━\u001b[0m\u001b[37m\u001b[0m \u001b[1m0s\u001b[0m 189ms/step\n",
            "\u001b[1m1/1\u001b[0m \u001b[32m━━━━━━━━━━━━━━━━━━━━\u001b[0m\u001b[37m\u001b[0m \u001b[1m0s\u001b[0m 200ms/step\n",
            "\u001b[1m1/1\u001b[0m \u001b[32m━━━━━━━━━━━━━━━━━━━━\u001b[0m\u001b[37m\u001b[0m \u001b[1m0s\u001b[0m 263ms/step\n",
            "\u001b[1m1/1\u001b[0m \u001b[32m━━━━━━━━━━━━━━━━━━━━\u001b[0m\u001b[37m\u001b[0m \u001b[1m0s\u001b[0m 270ms/step\n",
            "\u001b[1m1/1\u001b[0m \u001b[32m━━━━━━━━━━━━━━━━━━━━\u001b[0m\u001b[37m\u001b[0m \u001b[1m0s\u001b[0m 186ms/step\n",
            "\u001b[1m1/1\u001b[0m \u001b[32m━━━━━━━━━━━━━━━━━━━━\u001b[0m\u001b[37m\u001b[0m \u001b[1m0s\u001b[0m 186ms/step\n",
            "\u001b[1m1/1\u001b[0m \u001b[32m━━━━━━━━━━━━━━━━━━━━\u001b[0m\u001b[37m\u001b[0m \u001b[1m0s\u001b[0m 184ms/step\n",
            "\u001b[1m1/1\u001b[0m \u001b[32m━━━━━━━━━━━━━━━━━━━━\u001b[0m\u001b[37m\u001b[0m \u001b[1m0s\u001b[0m 187ms/step\n",
            "\u001b[1m1/1\u001b[0m \u001b[32m━━━━━━━━━━━━━━━━━━━━\u001b[0m\u001b[37m\u001b[0m \u001b[1m0s\u001b[0m 204ms/step\n",
            "\u001b[1m1/1\u001b[0m \u001b[32m━━━━━━━━━━━━━━━━━━━━\u001b[0m\u001b[37m\u001b[0m \u001b[1m0s\u001b[0m 182ms/step\n",
            "\u001b[1m1/1\u001b[0m \u001b[32m━━━━━━━━━━━━━━━━━━━━\u001b[0m\u001b[37m\u001b[0m \u001b[1m0s\u001b[0m 214ms/step\n",
            "\u001b[1m1/1\u001b[0m \u001b[32m━━━━━━━━━━━━━━━━━━━━\u001b[0m\u001b[37m\u001b[0m \u001b[1m0s\u001b[0m 188ms/step\n",
            "\u001b[1m1/1\u001b[0m \u001b[32m━━━━━━━━━━━━━━━━━━━━\u001b[0m\u001b[37m\u001b[0m \u001b[1m0s\u001b[0m 213ms/step\n",
            "\u001b[1m1/1\u001b[0m \u001b[32m━━━━━━━━━━━━━━━━━━━━\u001b[0m\u001b[37m\u001b[0m \u001b[1m0s\u001b[0m 207ms/step\n",
            "\u001b[1m1/1\u001b[0m \u001b[32m━━━━━━━━━━━━━━━━━━━━\u001b[0m\u001b[37m\u001b[0m \u001b[1m0s\u001b[0m 192ms/step\n",
            "\u001b[1m1/1\u001b[0m \u001b[32m━━━━━━━━━━━━━━━━━━━━\u001b[0m\u001b[37m\u001b[0m \u001b[1m0s\u001b[0m 186ms/step\n",
            "\u001b[1m1/1\u001b[0m \u001b[32m━━━━━━━━━━━━━━━━━━━━\u001b[0m\u001b[37m\u001b[0m \u001b[1m0s\u001b[0m 274ms/step\n",
            "\u001b[1m1/1\u001b[0m \u001b[32m━━━━━━━━━━━━━━━━━━━━\u001b[0m\u001b[37m\u001b[0m \u001b[1m0s\u001b[0m 222ms/step\n",
            "\u001b[1m1/1\u001b[0m \u001b[32m━━━━━━━━━━━━━━━━━━━━\u001b[0m\u001b[37m\u001b[0m \u001b[1m0s\u001b[0m 224ms/step\n",
            "\u001b[1m1/1\u001b[0m \u001b[32m━━━━━━━━━━━━━━━━━━━━\u001b[0m\u001b[37m\u001b[0m \u001b[1m0s\u001b[0m 189ms/step\n",
            "\u001b[1m1/1\u001b[0m \u001b[32m━━━━━━━━━━━━━━━━━━━━\u001b[0m\u001b[37m\u001b[0m \u001b[1m0s\u001b[0m 200ms/step\n",
            "\u001b[1m1/1\u001b[0m \u001b[32m━━━━━━━━━━━━━━━━━━━━\u001b[0m\u001b[37m\u001b[0m \u001b[1m0s\u001b[0m 215ms/step\n",
            "\u001b[1m1/1\u001b[0m \u001b[32m━━━━━━━━━━━━━━━━━━━━\u001b[0m\u001b[37m\u001b[0m \u001b[1m0s\u001b[0m 185ms/step\n",
            "\u001b[1m1/1\u001b[0m \u001b[32m━━━━━━━━━━━━━━━━━━━━\u001b[0m\u001b[37m\u001b[0m \u001b[1m1s\u001b[0m 514ms/step\n"
          ]
        },
        {
          "output_type": "stream",
          "name": "stderr",
          "text": [
            "/usr/local/lib/python3.11/dist-packages/keras/src/trainers/epoch_iterator.py:151: UserWarning: Your input ran out of data; interrupting training. Make sure that your dataset or generator can generate at least `steps_per_epoch * epochs` batches. You may need to use the `.repeat()` function when building your dataset.\n",
            "  self._interrupted_warning()\n"
          ]
        },
        {
          "output_type": "error",
          "ename": "ValueError",
          "evalue": "math domain error",
          "traceback": [
            "\u001b[0;31m---------------------------------------------------------------------------\u001b[0m",
            "\u001b[0;31mValueError\u001b[0m                                Traceback (most recent call last)",
            "\u001b[0;32m<ipython-input-84-8e2b966c6f29>\u001b[0m in \u001b[0;36m<cell line: 0>\u001b[0;34m()\u001b[0m\n\u001b[1;32m      5\u001b[0m \u001b[0;34m\u001b[0m\u001b[0m\n\u001b[1;32m      6\u001b[0m \u001b[0;32mfor\u001b[0m \u001b[0mx\u001b[0m\u001b[0;34m,\u001b[0m \u001b[0my\u001b[0m \u001b[0;32min\u001b[0m \u001b[0mtrain_dataset\u001b[0m\u001b[0;34m:\u001b[0m  \u001b[0;31m# 이미지, 오디오 기반 멀티모달 모델\u001b[0m\u001b[0;34m\u001b[0m\u001b[0;34m\u001b[0m\u001b[0m\n\u001b[0;32m----> 7\u001b[0;31m     \u001b[0mpreds\u001b[0m \u001b[0;34m=\u001b[0m \u001b[0mmulti_input_model\u001b[0m\u001b[0;34m.\u001b[0m\u001b[0mpredict\u001b[0m\u001b[0;34m(\u001b[0m\u001b[0mx\u001b[0m\u001b[0;34m)\u001b[0m\u001b[0;34m\u001b[0m\u001b[0;34m\u001b[0m\u001b[0m\n\u001b[0m\u001b[1;32m      8\u001b[0m     \u001b[0;32mfor\u001b[0m \u001b[0mpred\u001b[0m \u001b[0;32min\u001b[0m \u001b[0mpreds\u001b[0m\u001b[0;34m:\u001b[0m\u001b[0;34m\u001b[0m\u001b[0;34m\u001b[0m\u001b[0m\n\u001b[1;32m      9\u001b[0m         \u001b[0mnote_seq\u001b[0m \u001b[0;34m=\u001b[0m \u001b[0mget_note_sequence_from_prediction\u001b[0m\u001b[0;34m(\u001b[0m\u001b[0mpred\u001b[0m\u001b[0;34m)\u001b[0m\u001b[0;34m\u001b[0m\u001b[0;34m\u001b[0m\u001b[0m\n",
            "\u001b[0;32m/usr/local/lib/python3.11/dist-packages/keras/src/utils/traceback_utils.py\u001b[0m in \u001b[0;36merror_handler\u001b[0;34m(*args, **kwargs)\u001b[0m\n\u001b[1;32m    120\u001b[0m             \u001b[0;31m# To get the full stack trace, call:\u001b[0m\u001b[0;34m\u001b[0m\u001b[0;34m\u001b[0m\u001b[0m\n\u001b[1;32m    121\u001b[0m             \u001b[0;31m# `keras.config.disable_traceback_filtering()`\u001b[0m\u001b[0;34m\u001b[0m\u001b[0;34m\u001b[0m\u001b[0m\n\u001b[0;32m--> 122\u001b[0;31m             \u001b[0;32mraise\u001b[0m \u001b[0me\u001b[0m\u001b[0;34m.\u001b[0m\u001b[0mwith_traceback\u001b[0m\u001b[0;34m(\u001b[0m\u001b[0mfiltered_tb\u001b[0m\u001b[0;34m)\u001b[0m \u001b[0;32mfrom\u001b[0m \u001b[0;32mNone\u001b[0m\u001b[0;34m\u001b[0m\u001b[0;34m\u001b[0m\u001b[0m\n\u001b[0m\u001b[1;32m    123\u001b[0m         \u001b[0;32mfinally\u001b[0m\u001b[0;34m:\u001b[0m\u001b[0;34m\u001b[0m\u001b[0;34m\u001b[0m\u001b[0m\n\u001b[1;32m    124\u001b[0m             \u001b[0;32mdel\u001b[0m \u001b[0mfiltered_tb\u001b[0m\u001b[0;34m\u001b[0m\u001b[0;34m\u001b[0m\u001b[0m\n",
            "\u001b[0;32m/usr/local/lib/python3.11/dist-packages/keras/src/utils/progbar.py\u001b[0m in \u001b[0;36mupdate\u001b[0;34m(self, current, values, finalize)\u001b[0m\n\u001b[1;32m    117\u001b[0m \u001b[0;34m\u001b[0m\u001b[0m\n\u001b[1;32m    118\u001b[0m             \u001b[0;32mif\u001b[0m \u001b[0mself\u001b[0m\u001b[0;34m.\u001b[0m\u001b[0mtarget\u001b[0m \u001b[0;32mis\u001b[0m \u001b[0;32mnot\u001b[0m \u001b[0;32mNone\u001b[0m\u001b[0;34m:\u001b[0m\u001b[0;34m\u001b[0m\u001b[0;34m\u001b[0m\u001b[0m\n\u001b[0;32m--> 119\u001b[0;31m                 \u001b[0mnumdigits\u001b[0m \u001b[0;34m=\u001b[0m \u001b[0mint\u001b[0m\u001b[0;34m(\u001b[0m\u001b[0mmath\u001b[0m\u001b[0;34m.\u001b[0m\u001b[0mlog10\u001b[0m\u001b[0;34m(\u001b[0m\u001b[0mself\u001b[0m\u001b[0;34m.\u001b[0m\u001b[0mtarget\u001b[0m\u001b[0;34m)\u001b[0m\u001b[0;34m)\u001b[0m \u001b[0;34m+\u001b[0m \u001b[0;36m1\u001b[0m\u001b[0;34m\u001b[0m\u001b[0;34m\u001b[0m\u001b[0m\n\u001b[0m\u001b[1;32m    120\u001b[0m                 \u001b[0mbar\u001b[0m \u001b[0;34m=\u001b[0m \u001b[0;34m(\u001b[0m\u001b[0;34m\"%\"\u001b[0m \u001b[0;34m+\u001b[0m \u001b[0mstr\u001b[0m\u001b[0;34m(\u001b[0m\u001b[0mnumdigits\u001b[0m\u001b[0;34m)\u001b[0m \u001b[0;34m+\u001b[0m \u001b[0;34m\"d/%d\"\u001b[0m\u001b[0;34m)\u001b[0m \u001b[0;34m%\u001b[0m \u001b[0;34m(\u001b[0m\u001b[0mcurrent\u001b[0m\u001b[0;34m,\u001b[0m \u001b[0mself\u001b[0m\u001b[0;34m.\u001b[0m\u001b[0mtarget\u001b[0m\u001b[0;34m)\u001b[0m\u001b[0;34m\u001b[0m\u001b[0;34m\u001b[0m\u001b[0m\n\u001b[1;32m    121\u001b[0m                 \u001b[0mbar\u001b[0m \u001b[0;34m=\u001b[0m \u001b[0;34mf\"\\x1b[1m{bar}\\x1b[0m \"\u001b[0m\u001b[0;34m\u001b[0m\u001b[0;34m\u001b[0m\u001b[0m\n",
            "\u001b[0;31mValueError\u001b[0m: math domain error"
          ]
        }
      ],
      "source": [
        "# 예시: 멀티모달 모델 예측값\n",
        "from tensorflow.keras.preprocessing.sequence import pad_sequences\n",
        "\n",
        "note_sequences = []\n",
        "\n",
        "for x, y in train_dataset:  # 이미지, 오디오 기반 멀티모달 모델\n",
        "    preds = multi_input_model.predict(x)\n",
        "    for pred in preds:\n",
        "        note_seq = get_note_sequence_from_prediction(pred)\n",
        "        note_sequences.append(note_seq)\n",
        "\n",
        "# Transformer 입력용 시퀀스 정리\n",
        "X_train = pad_sequences(note_sequences, maxlen=100, padding='pre')\n",
        "y_train = pad_sequences(note_sequences, maxlen=100, padding='post')\n"
      ]
    },
    {
      "cell_type": "code",
      "source": [
        "transformer_model = MusicTransformer()\n",
        "transformer_model.compile(optimizer='adam', loss='sparse_categorical_crossentropy', metrics=['accuracy'])\n",
        "\n",
        "transformer_model.fit(X_train, y_train, epochs=20, batch_size=16)\n"
      ],
      "metadata": {
        "id": "NRGkdWio1Ors"
      },
      "execution_count": null,
      "outputs": []
    },
    {
      "cell_type": "code",
      "execution_count": null,
      "metadata": {
        "id": "_6kc7YM63R7f",
        "colab": {
          "base_uri": "https://localhost:8080/",
          "height": 1000
        },
        "outputId": "a6c0e1c1-597a-4b0b-e133-013fff23259c"
      },
      "outputs": [
        {
          "output_type": "stream",
          "name": "stdout",
          "text": [
            "\u001b[1m1/1\u001b[0m \u001b[32m━━━━━━━━━━━━━━━━━━━━\u001b[0m\u001b[37m\u001b[0m \u001b[1m0s\u001b[0m 152ms/step\n"
          ]
        },
        {
          "output_type": "stream",
          "name": "stderr",
          "text": [
            "/usr/local/lib/python3.11/dist-packages/tensorflow/python/data/ops/structured_function.py:258: UserWarning: Even though the `tf.config.experimental_run_functions_eagerly` option is set, this option does not apply to tf.data functions. To force eager execution of tf.data functions, please use `tf.data.experimental.enable_debug_mode()`.\n",
            "  warnings.warn(\n",
            "/usr/local/lib/python3.11/dist-packages/tensorflow/python/data/ops/structured_function.py:258: UserWarning: Even though the `tf.config.experimental_run_functions_eagerly` option is set, this option does not apply to tf.data functions. To force eager execution of tf.data functions, please use `tf.data.experimental.enable_debug_mode()`.\n",
            "  warnings.warn(\n"
          ]
        },
        {
          "output_type": "stream",
          "name": "stdout",
          "text": [
            "\u001b[1m1/1\u001b[0m \u001b[32m━━━━━━━━━━━━━━━━━━━━\u001b[0m\u001b[37m\u001b[0m \u001b[1m0s\u001b[0m 209ms/step\n",
            "\u001b[1m1/1\u001b[0m \u001b[32m━━━━━━━━━━━━━━━━━━━━\u001b[0m\u001b[37m\u001b[0m \u001b[1m0s\u001b[0m 152ms/step\n"
          ]
        },
        {
          "output_type": "stream",
          "name": "stderr",
          "text": [
            "/usr/local/lib/python3.11/dist-packages/tensorflow/python/data/ops/structured_function.py:258: UserWarning: Even though the `tf.config.experimental_run_functions_eagerly` option is set, this option does not apply to tf.data functions. To force eager execution of tf.data functions, please use `tf.data.experimental.enable_debug_mode()`.\n",
            "  warnings.warn(\n",
            "/usr/local/lib/python3.11/dist-packages/tensorflow/python/data/ops/structured_function.py:258: UserWarning: Even though the `tf.config.experimental_run_functions_eagerly` option is set, this option does not apply to tf.data functions. To force eager execution of tf.data functions, please use `tf.data.experimental.enable_debug_mode()`.\n",
            "  warnings.warn(\n"
          ]
        },
        {
          "output_type": "stream",
          "name": "stdout",
          "text": [
            "\u001b[1m1/1\u001b[0m \u001b[32m━━━━━━━━━━━━━━━━━━━━\u001b[0m\u001b[37m\u001b[0m \u001b[1m0s\u001b[0m 147ms/step\n",
            "\u001b[1m1/1\u001b[0m \u001b[32m━━━━━━━━━━━━━━━━━━━━\u001b[0m\u001b[37m\u001b[0m \u001b[1m0s\u001b[0m 152ms/step\n"
          ]
        },
        {
          "output_type": "stream",
          "name": "stderr",
          "text": [
            "/usr/local/lib/python3.11/dist-packages/tensorflow/python/data/ops/structured_function.py:258: UserWarning: Even though the `tf.config.experimental_run_functions_eagerly` option is set, this option does not apply to tf.data functions. To force eager execution of tf.data functions, please use `tf.data.experimental.enable_debug_mode()`.\n",
            "  warnings.warn(\n",
            "/usr/local/lib/python3.11/dist-packages/tensorflow/python/data/ops/structured_function.py:258: UserWarning: Even though the `tf.config.experimental_run_functions_eagerly` option is set, this option does not apply to tf.data functions. To force eager execution of tf.data functions, please use `tf.data.experimental.enable_debug_mode()`.\n",
            "  warnings.warn(\n"
          ]
        },
        {
          "output_type": "stream",
          "name": "stdout",
          "text": [
            "\u001b[1m1/1\u001b[0m \u001b[32m━━━━━━━━━━━━━━━━━━━━\u001b[0m\u001b[37m\u001b[0m \u001b[1m0s\u001b[0m 146ms/step\n",
            "\u001b[1m1/1\u001b[0m \u001b[32m━━━━━━━━━━━━━━━━━━━━\u001b[0m\u001b[37m\u001b[0m \u001b[1m0s\u001b[0m 154ms/step\n"
          ]
        },
        {
          "output_type": "stream",
          "name": "stderr",
          "text": [
            "/usr/local/lib/python3.11/dist-packages/tensorflow/python/data/ops/structured_function.py:258: UserWarning: Even though the `tf.config.experimental_run_functions_eagerly` option is set, this option does not apply to tf.data functions. To force eager execution of tf.data functions, please use `tf.data.experimental.enable_debug_mode()`.\n",
            "  warnings.warn(\n",
            "/usr/local/lib/python3.11/dist-packages/tensorflow/python/data/ops/structured_function.py:258: UserWarning: Even though the `tf.config.experimental_run_functions_eagerly` option is set, this option does not apply to tf.data functions. To force eager execution of tf.data functions, please use `tf.data.experimental.enable_debug_mode()`.\n",
            "  warnings.warn(\n"
          ]
        },
        {
          "output_type": "stream",
          "name": "stdout",
          "text": [
            "\u001b[1m1/1\u001b[0m \u001b[32m━━━━━━━━━━━━━━━━━━━━\u001b[0m\u001b[37m\u001b[0m \u001b[1m0s\u001b[0m 156ms/step\n",
            "\u001b[1m1/1\u001b[0m \u001b[32m━━━━━━━━━━━━━━━━━━━━\u001b[0m\u001b[37m\u001b[0m \u001b[1m0s\u001b[0m 154ms/step\n"
          ]
        },
        {
          "output_type": "stream",
          "name": "stderr",
          "text": [
            "/usr/local/lib/python3.11/dist-packages/tensorflow/python/data/ops/structured_function.py:258: UserWarning: Even though the `tf.config.experimental_run_functions_eagerly` option is set, this option does not apply to tf.data functions. To force eager execution of tf.data functions, please use `tf.data.experimental.enable_debug_mode()`.\n",
            "  warnings.warn(\n"
          ]
        },
        {
          "output_type": "stream",
          "name": "stdout",
          "text": [
            "\u001b[1m1/1\u001b[0m \u001b[32m━━━━━━━━━━━━━━━━━━━━\u001b[0m\u001b[37m\u001b[0m \u001b[1m0s\u001b[0m 146ms/step\n"
          ]
        },
        {
          "output_type": "stream",
          "name": "stderr",
          "text": [
            "/usr/local/lib/python3.11/dist-packages/tensorflow/python/data/ops/structured_function.py:258: UserWarning: Even though the `tf.config.experimental_run_functions_eagerly` option is set, this option does not apply to tf.data functions. To force eager execution of tf.data functions, please use `tf.data.experimental.enable_debug_mode()`.\n",
            "  warnings.warn(\n",
            "/usr/local/lib/python3.11/dist-packages/tensorflow/python/data/ops/structured_function.py:258: UserWarning: Even though the `tf.config.experimental_run_functions_eagerly` option is set, this option does not apply to tf.data functions. To force eager execution of tf.data functions, please use `tf.data.experimental.enable_debug_mode()`.\n",
            "  warnings.warn(\n"
          ]
        },
        {
          "output_type": "stream",
          "name": "stdout",
          "text": [
            "\u001b[1m1/1\u001b[0m \u001b[32m━━━━━━━━━━━━━━━━━━━━\u001b[0m\u001b[37m\u001b[0m \u001b[1m0s\u001b[0m 152ms/step\n",
            "\u001b[1m1/1\u001b[0m \u001b[32m━━━━━━━━━━━━━━━━━━━━\u001b[0m\u001b[37m\u001b[0m \u001b[1m0s\u001b[0m 145ms/step\n"
          ]
        },
        {
          "output_type": "stream",
          "name": "stderr",
          "text": [
            "/usr/local/lib/python3.11/dist-packages/tensorflow/python/data/ops/structured_function.py:258: UserWarning: Even though the `tf.config.experimental_run_functions_eagerly` option is set, this option does not apply to tf.data functions. To force eager execution of tf.data functions, please use `tf.data.experimental.enable_debug_mode()`.\n",
            "  warnings.warn(\n",
            "/usr/local/lib/python3.11/dist-packages/tensorflow/python/data/ops/structured_function.py:258: UserWarning: Even though the `tf.config.experimental_run_functions_eagerly` option is set, this option does not apply to tf.data functions. To force eager execution of tf.data functions, please use `tf.data.experimental.enable_debug_mode()`.\n",
            "  warnings.warn(\n"
          ]
        },
        {
          "output_type": "stream",
          "name": "stdout",
          "text": [
            "\u001b[1m1/1\u001b[0m \u001b[32m━━━━━━━━━━━━━━━━━━━━\u001b[0m\u001b[37m\u001b[0m \u001b[1m0s\u001b[0m 159ms/step\n",
            "\u001b[1m1/1\u001b[0m \u001b[32m━━━━━━━━━━━━━━━━━━━━\u001b[0m\u001b[37m\u001b[0m \u001b[1m0s\u001b[0m 157ms/step\n"
          ]
        },
        {
          "output_type": "stream",
          "name": "stderr",
          "text": [
            "/usr/local/lib/python3.11/dist-packages/tensorflow/python/data/ops/structured_function.py:258: UserWarning: Even though the `tf.config.experimental_run_functions_eagerly` option is set, this option does not apply to tf.data functions. To force eager execution of tf.data functions, please use `tf.data.experimental.enable_debug_mode()`.\n",
            "  warnings.warn(\n"
          ]
        },
        {
          "output_type": "stream",
          "name": "stdout",
          "text": [
            "\u001b[1m1/1\u001b[0m \u001b[32m━━━━━━━━━━━━━━━━━━━━\u001b[0m\u001b[37m\u001b[0m \u001b[1m0s\u001b[0m 148ms/step\n"
          ]
        },
        {
          "output_type": "stream",
          "name": "stderr",
          "text": [
            "/usr/local/lib/python3.11/dist-packages/tensorflow/python/data/ops/structured_function.py:258: UserWarning: Even though the `tf.config.experimental_run_functions_eagerly` option is set, this option does not apply to tf.data functions. To force eager execution of tf.data functions, please use `tf.data.experimental.enable_debug_mode()`.\n",
            "  warnings.warn(\n",
            "/usr/local/lib/python3.11/dist-packages/tensorflow/python/data/ops/structured_function.py:258: UserWarning: Even though the `tf.config.experimental_run_functions_eagerly` option is set, this option does not apply to tf.data functions. To force eager execution of tf.data functions, please use `tf.data.experimental.enable_debug_mode()`.\n",
            "  warnings.warn(\n"
          ]
        },
        {
          "output_type": "stream",
          "name": "stdout",
          "text": [
            "\u001b[1m1/1\u001b[0m \u001b[32m━━━━━━━━━━━━━━━━━━━━\u001b[0m\u001b[37m\u001b[0m \u001b[1m0s\u001b[0m 148ms/step\n",
            "\u001b[1m1/1\u001b[0m \u001b[32m━━━━━━━━━━━━━━━━━━━━\u001b[0m\u001b[37m\u001b[0m \u001b[1m0s\u001b[0m 151ms/step\n"
          ]
        },
        {
          "output_type": "stream",
          "name": "stderr",
          "text": [
            "/usr/local/lib/python3.11/dist-packages/tensorflow/python/data/ops/structured_function.py:258: UserWarning: Even though the `tf.config.experimental_run_functions_eagerly` option is set, this option does not apply to tf.data functions. To force eager execution of tf.data functions, please use `tf.data.experimental.enable_debug_mode()`.\n",
            "  warnings.warn(\n",
            "/usr/local/lib/python3.11/dist-packages/tensorflow/python/data/ops/structured_function.py:258: UserWarning: Even though the `tf.config.experimental_run_functions_eagerly` option is set, this option does not apply to tf.data functions. To force eager execution of tf.data functions, please use `tf.data.experimental.enable_debug_mode()`.\n",
            "  warnings.warn(\n"
          ]
        },
        {
          "output_type": "stream",
          "name": "stdout",
          "text": [
            "\u001b[1m1/1\u001b[0m \u001b[32m━━━━━━━━━━━━━━━━━━━━\u001b[0m\u001b[37m\u001b[0m \u001b[1m0s\u001b[0m 176ms/step\n",
            "\u001b[1m1/1\u001b[0m \u001b[32m━━━━━━━━━━━━━━━━━━━━\u001b[0m\u001b[37m\u001b[0m \u001b[1m0s\u001b[0m 153ms/step\n"
          ]
        },
        {
          "output_type": "stream",
          "name": "stderr",
          "text": [
            "/usr/local/lib/python3.11/dist-packages/tensorflow/python/data/ops/structured_function.py:258: UserWarning: Even though the `tf.config.experimental_run_functions_eagerly` option is set, this option does not apply to tf.data functions. To force eager execution of tf.data functions, please use `tf.data.experimental.enable_debug_mode()`.\n",
            "  warnings.warn(\n",
            "/usr/local/lib/python3.11/dist-packages/tensorflow/python/data/ops/structured_function.py:258: UserWarning: Even though the `tf.config.experimental_run_functions_eagerly` option is set, this option does not apply to tf.data functions. To force eager execution of tf.data functions, please use `tf.data.experimental.enable_debug_mode()`.\n",
            "  warnings.warn(\n"
          ]
        },
        {
          "output_type": "stream",
          "name": "stdout",
          "text": [
            "\u001b[1m1/1\u001b[0m \u001b[32m━━━━━━━━━━━━━━━━━━━━\u001b[0m\u001b[37m\u001b[0m \u001b[1m0s\u001b[0m 147ms/step\n",
            "\u001b[1m1/1\u001b[0m \u001b[32m━━━━━━━━━━━━━━━━━━━━\u001b[0m\u001b[37m\u001b[0m \u001b[1m0s\u001b[0m 154ms/step\n"
          ]
        },
        {
          "output_type": "stream",
          "name": "stderr",
          "text": [
            "/usr/local/lib/python3.11/dist-packages/tensorflow/python/data/ops/structured_function.py:258: UserWarning: Even though the `tf.config.experimental_run_functions_eagerly` option is set, this option does not apply to tf.data functions. To force eager execution of tf.data functions, please use `tf.data.experimental.enable_debug_mode()`.\n",
            "  warnings.warn(\n",
            "/usr/local/lib/python3.11/dist-packages/tensorflow/python/data/ops/structured_function.py:258: UserWarning: Even though the `tf.config.experimental_run_functions_eagerly` option is set, this option does not apply to tf.data functions. To force eager execution of tf.data functions, please use `tf.data.experimental.enable_debug_mode()`.\n",
            "  warnings.warn(\n"
          ]
        },
        {
          "output_type": "stream",
          "name": "stdout",
          "text": [
            "\u001b[1m1/1\u001b[0m \u001b[32m━━━━━━━━━━━━━━━━━━━━\u001b[0m\u001b[37m\u001b[0m \u001b[1m0s\u001b[0m 250ms/step\n"
          ]
        },
        {
          "output_type": "stream",
          "name": "stderr",
          "text": [
            "/usr/local/lib/python3.11/dist-packages/tensorflow/python/data/ops/structured_function.py:258: UserWarning: Even though the `tf.config.experimental_run_functions_eagerly` option is set, this option does not apply to tf.data functions. To force eager execution of tf.data functions, please use `tf.data.experimental.enable_debug_mode()`.\n",
            "  warnings.warn(\n"
          ]
        },
        {
          "output_type": "stream",
          "name": "stdout",
          "text": [
            "\u001b[1m1/1\u001b[0m \u001b[32m━━━━━━━━━━━━━━━━━━━━\u001b[0m\u001b[37m\u001b[0m \u001b[1m0s\u001b[0m 209ms/step\n"
          ]
        },
        {
          "output_type": "stream",
          "name": "stderr",
          "text": [
            "/usr/local/lib/python3.11/dist-packages/tensorflow/python/data/ops/structured_function.py:258: UserWarning: Even though the `tf.config.experimental_run_functions_eagerly` option is set, this option does not apply to tf.data functions. To force eager execution of tf.data functions, please use `tf.data.experimental.enable_debug_mode()`.\n",
            "  warnings.warn(\n"
          ]
        },
        {
          "output_type": "stream",
          "name": "stdout",
          "text": [
            "\u001b[1m1/1\u001b[0m \u001b[32m━━━━━━━━━━━━━━━━━━━━\u001b[0m\u001b[37m\u001b[0m \u001b[1m0s\u001b[0m 209ms/step\n"
          ]
        },
        {
          "output_type": "stream",
          "name": "stderr",
          "text": [
            "/usr/local/lib/python3.11/dist-packages/tensorflow/python/data/ops/structured_function.py:258: UserWarning: Even though the `tf.config.experimental_run_functions_eagerly` option is set, this option does not apply to tf.data functions. To force eager execution of tf.data functions, please use `tf.data.experimental.enable_debug_mode()`.\n",
            "  warnings.warn(\n"
          ]
        },
        {
          "output_type": "stream",
          "name": "stdout",
          "text": [
            "\u001b[1m1/1\u001b[0m \u001b[32m━━━━━━━━━━━━━━━━━━━━\u001b[0m\u001b[37m\u001b[0m \u001b[1m0s\u001b[0m 223ms/step\n"
          ]
        },
        {
          "output_type": "stream",
          "name": "stderr",
          "text": [
            "/usr/local/lib/python3.11/dist-packages/tensorflow/python/data/ops/structured_function.py:258: UserWarning: Even though the `tf.config.experimental_run_functions_eagerly` option is set, this option does not apply to tf.data functions. To force eager execution of tf.data functions, please use `tf.data.experimental.enable_debug_mode()`.\n",
            "  warnings.warn(\n"
          ]
        },
        {
          "output_type": "stream",
          "name": "stdout",
          "text": [
            "\u001b[1m1/1\u001b[0m \u001b[32m━━━━━━━━━━━━━━━━━━━━\u001b[0m\u001b[37m\u001b[0m \u001b[1m0s\u001b[0m 209ms/step\n"
          ]
        },
        {
          "output_type": "stream",
          "name": "stderr",
          "text": [
            "/usr/local/lib/python3.11/dist-packages/tensorflow/python/data/ops/structured_function.py:258: UserWarning: Even though the `tf.config.experimental_run_functions_eagerly` option is set, this option does not apply to tf.data functions. To force eager execution of tf.data functions, please use `tf.data.experimental.enable_debug_mode()`.\n",
            "  warnings.warn(\n"
          ]
        },
        {
          "output_type": "stream",
          "name": "stdout",
          "text": [
            "\u001b[1m1/1\u001b[0m \u001b[32m━━━━━━━━━━━━━━━━━━━━\u001b[0m\u001b[37m\u001b[0m \u001b[1m0s\u001b[0m 202ms/step\n"
          ]
        },
        {
          "output_type": "stream",
          "name": "stderr",
          "text": [
            "/usr/local/lib/python3.11/dist-packages/tensorflow/python/data/ops/structured_function.py:258: UserWarning: Even though the `tf.config.experimental_run_functions_eagerly` option is set, this option does not apply to tf.data functions. To force eager execution of tf.data functions, please use `tf.data.experimental.enable_debug_mode()`.\n",
            "  warnings.warn(\n"
          ]
        },
        {
          "output_type": "stream",
          "name": "stdout",
          "text": [
            "\u001b[1m1/1\u001b[0m \u001b[32m━━━━━━━━━━━━━━━━━━━━\u001b[0m\u001b[37m\u001b[0m \u001b[1m0s\u001b[0m 238ms/step\n"
          ]
        },
        {
          "output_type": "stream",
          "name": "stderr",
          "text": [
            "/usr/local/lib/python3.11/dist-packages/tensorflow/python/data/ops/structured_function.py:258: UserWarning: Even though the `tf.config.experimental_run_functions_eagerly` option is set, this option does not apply to tf.data functions. To force eager execution of tf.data functions, please use `tf.data.experimental.enable_debug_mode()`.\n",
            "  warnings.warn(\n"
          ]
        },
        {
          "output_type": "stream",
          "name": "stdout",
          "text": [
            "\u001b[1m1/1\u001b[0m \u001b[32m━━━━━━━━━━━━━━━━━━━━\u001b[0m\u001b[37m\u001b[0m \u001b[1m0s\u001b[0m 183ms/step\n",
            "\u001b[1m1/1\u001b[0m \u001b[32m━━━━━━━━━━━━━━━━━━━━\u001b[0m\u001b[37m\u001b[0m \u001b[1m0s\u001b[0m 150ms/step\n"
          ]
        },
        {
          "output_type": "stream",
          "name": "stderr",
          "text": [
            "/usr/local/lib/python3.11/dist-packages/tensorflow/python/data/ops/structured_function.py:258: UserWarning: Even though the `tf.config.experimental_run_functions_eagerly` option is set, this option does not apply to tf.data functions. To force eager execution of tf.data functions, please use `tf.data.experimental.enable_debug_mode()`.\n",
            "  warnings.warn(\n",
            "/usr/local/lib/python3.11/dist-packages/tensorflow/python/data/ops/structured_function.py:258: UserWarning: Even though the `tf.config.experimental_run_functions_eagerly` option is set, this option does not apply to tf.data functions. To force eager execution of tf.data functions, please use `tf.data.experimental.enable_debug_mode()`.\n",
            "  warnings.warn(\n"
          ]
        },
        {
          "output_type": "stream",
          "name": "stdout",
          "text": [
            "\u001b[1m1/1\u001b[0m \u001b[32m━━━━━━━━━━━━━━━━━━━━\u001b[0m\u001b[37m\u001b[0m \u001b[1m0s\u001b[0m 173ms/step\n",
            "\u001b[1m1/1\u001b[0m \u001b[32m━━━━━━━━━━━━━━━━━━━━\u001b[0m\u001b[37m\u001b[0m \u001b[1m0s\u001b[0m 150ms/step\n"
          ]
        },
        {
          "output_type": "stream",
          "name": "stderr",
          "text": [
            "/usr/local/lib/python3.11/dist-packages/tensorflow/python/data/ops/structured_function.py:258: UserWarning: Even though the `tf.config.experimental_run_functions_eagerly` option is set, this option does not apply to tf.data functions. To force eager execution of tf.data functions, please use `tf.data.experimental.enable_debug_mode()`.\n",
            "  warnings.warn(\n",
            "/usr/local/lib/python3.11/dist-packages/tensorflow/python/data/ops/structured_function.py:258: UserWarning: Even though the `tf.config.experimental_run_functions_eagerly` option is set, this option does not apply to tf.data functions. To force eager execution of tf.data functions, please use `tf.data.experimental.enable_debug_mode()`.\n",
            "  warnings.warn(\n"
          ]
        },
        {
          "output_type": "stream",
          "name": "stdout",
          "text": [
            "\u001b[1m1/1\u001b[0m \u001b[32m━━━━━━━━━━━━━━━━━━━━\u001b[0m\u001b[37m\u001b[0m \u001b[1m0s\u001b[0m 153ms/step\n",
            "\u001b[1m1/1\u001b[0m \u001b[32m━━━━━━━━━━━━━━━━━━━━\u001b[0m\u001b[37m\u001b[0m \u001b[1m0s\u001b[0m 155ms/step\n"
          ]
        },
        {
          "output_type": "stream",
          "name": "stderr",
          "text": [
            "/usr/local/lib/python3.11/dist-packages/tensorflow/python/data/ops/structured_function.py:258: UserWarning: Even though the `tf.config.experimental_run_functions_eagerly` option is set, this option does not apply to tf.data functions. To force eager execution of tf.data functions, please use `tf.data.experimental.enable_debug_mode()`.\n",
            "  warnings.warn(\n"
          ]
        },
        {
          "output_type": "stream",
          "name": "stdout",
          "text": [
            "\r\u001b[1m1/1\u001b[0m \u001b[32m━━━━━━━━━━━━━━━━━━━━\u001b[0m\u001b[37m\u001b[0m \u001b[1m0s\u001b[0m 147ms/step"
          ]
        },
        {
          "output_type": "stream",
          "name": "stderr",
          "text": [
            "/usr/local/lib/python3.11/dist-packages/tensorflow/python/data/ops/structured_function.py:258: UserWarning: Even though the `tf.config.experimental_run_functions_eagerly` option is set, this option does not apply to tf.data functions. To force eager execution of tf.data functions, please use `tf.data.experimental.enable_debug_mode()`.\n",
            "  warnings.warn(\n"
          ]
        },
        {
          "output_type": "stream",
          "name": "stdout",
          "text": [
            "\u001b[1m1/1\u001b[0m \u001b[32m━━━━━━━━━━━━━━━━━━━━\u001b[0m\u001b[37m\u001b[0m \u001b[1m0s\u001b[0m 173ms/step\n",
            "\u001b[1m1/1\u001b[0m \u001b[32m━━━━━━━━━━━━━━━━━━━━\u001b[0m\u001b[37m\u001b[0m \u001b[1m0s\u001b[0m 145ms/step\n"
          ]
        },
        {
          "output_type": "stream",
          "name": "stderr",
          "text": [
            "/usr/local/lib/python3.11/dist-packages/tensorflow/python/data/ops/structured_function.py:258: UserWarning: Even though the `tf.config.experimental_run_functions_eagerly` option is set, this option does not apply to tf.data functions. To force eager execution of tf.data functions, please use `tf.data.experimental.enable_debug_mode()`.\n",
            "  warnings.warn(\n",
            "/usr/local/lib/python3.11/dist-packages/tensorflow/python/data/ops/structured_function.py:258: UserWarning: Even though the `tf.config.experimental_run_functions_eagerly` option is set, this option does not apply to tf.data functions. To force eager execution of tf.data functions, please use `tf.data.experimental.enable_debug_mode()`.\n",
            "  warnings.warn(\n"
          ]
        },
        {
          "output_type": "stream",
          "name": "stdout",
          "text": [
            "\u001b[1m1/1\u001b[0m \u001b[32m━━━━━━━━━━━━━━━━━━━━\u001b[0m\u001b[37m\u001b[0m \u001b[1m0s\u001b[0m 148ms/step\n",
            "\u001b[1m1/1\u001b[0m \u001b[32m━━━━━━━━━━━━━━━━━━━━\u001b[0m\u001b[37m\u001b[0m \u001b[1m0s\u001b[0m 149ms/step\n"
          ]
        },
        {
          "output_type": "stream",
          "name": "stderr",
          "text": [
            "/usr/local/lib/python3.11/dist-packages/tensorflow/python/data/ops/structured_function.py:258: UserWarning: Even though the `tf.config.experimental_run_functions_eagerly` option is set, this option does not apply to tf.data functions. To force eager execution of tf.data functions, please use `tf.data.experimental.enable_debug_mode()`.\n",
            "  warnings.warn(\n",
            "/usr/local/lib/python3.11/dist-packages/tensorflow/python/data/ops/structured_function.py:258: UserWarning: Even though the `tf.config.experimental_run_functions_eagerly` option is set, this option does not apply to tf.data functions. To force eager execution of tf.data functions, please use `tf.data.experimental.enable_debug_mode()`.\n",
            "  warnings.warn(\n"
          ]
        },
        {
          "output_type": "stream",
          "name": "stdout",
          "text": [
            "\u001b[1m1/1\u001b[0m \u001b[32m━━━━━━━━━━━━━━━━━━━━\u001b[0m\u001b[37m\u001b[0m \u001b[1m0s\u001b[0m 150ms/step\n",
            "\u001b[1m1/1\u001b[0m \u001b[32m━━━━━━━━━━━━━━━━━━━━\u001b[0m\u001b[37m\u001b[0m \u001b[1m0s\u001b[0m 161ms/step\n"
          ]
        },
        {
          "output_type": "stream",
          "name": "stderr",
          "text": [
            "/usr/local/lib/python3.11/dist-packages/tensorflow/python/data/ops/structured_function.py:258: UserWarning: Even though the `tf.config.experimental_run_functions_eagerly` option is set, this option does not apply to tf.data functions. To force eager execution of tf.data functions, please use `tf.data.experimental.enable_debug_mode()`.\n",
            "  warnings.warn(\n"
          ]
        },
        {
          "output_type": "stream",
          "name": "stdout",
          "text": [
            "\u001b[1m1/1\u001b[0m \u001b[32m━━━━━━━━━━━━━━━━━━━━\u001b[0m\u001b[37m\u001b[0m \u001b[1m0s\u001b[0m 156ms/step\n"
          ]
        },
        {
          "output_type": "stream",
          "name": "stderr",
          "text": [
            "/usr/local/lib/python3.11/dist-packages/tensorflow/python/data/ops/structured_function.py:258: UserWarning: Even though the `tf.config.experimental_run_functions_eagerly` option is set, this option does not apply to tf.data functions. To force eager execution of tf.data functions, please use `tf.data.experimental.enable_debug_mode()`.\n",
            "  warnings.warn(\n"
          ]
        },
        {
          "output_type": "stream",
          "name": "stdout",
          "text": [
            "\u001b[1m1/1\u001b[0m \u001b[32m━━━━━━━━━━━━━━━━━━━━\u001b[0m\u001b[37m\u001b[0m \u001b[1m0s\u001b[0m 150ms/step\n"
          ]
        },
        {
          "output_type": "stream",
          "name": "stderr",
          "text": [
            "/usr/local/lib/python3.11/dist-packages/tensorflow/python/data/ops/structured_function.py:258: UserWarning: Even though the `tf.config.experimental_run_functions_eagerly` option is set, this option does not apply to tf.data functions. To force eager execution of tf.data functions, please use `tf.data.experimental.enable_debug_mode()`.\n",
            "  warnings.warn(\n",
            "/usr/local/lib/python3.11/dist-packages/tensorflow/python/data/ops/structured_function.py:258: UserWarning: Even though the `tf.config.experimental_run_functions_eagerly` option is set, this option does not apply to tf.data functions. To force eager execution of tf.data functions, please use `tf.data.experimental.enable_debug_mode()`.\n",
            "  warnings.warn(\n"
          ]
        },
        {
          "output_type": "stream",
          "name": "stdout",
          "text": [
            "\u001b[1m1/1\u001b[0m \u001b[32m━━━━━━━━━━━━━━━━━━━━\u001b[0m\u001b[37m\u001b[0m \u001b[1m0s\u001b[0m 157ms/step\n",
            "\u001b[1m1/1\u001b[0m \u001b[32m━━━━━━━━━━━━━━━━━━━━\u001b[0m\u001b[37m\u001b[0m \u001b[1m0s\u001b[0m 166ms/step\n"
          ]
        },
        {
          "output_type": "stream",
          "name": "stderr",
          "text": [
            "/usr/local/lib/python3.11/dist-packages/tensorflow/python/data/ops/structured_function.py:258: UserWarning: Even though the `tf.config.experimental_run_functions_eagerly` option is set, this option does not apply to tf.data functions. To force eager execution of tf.data functions, please use `tf.data.experimental.enable_debug_mode()`.\n",
            "  warnings.warn(\n"
          ]
        },
        {
          "output_type": "stream",
          "name": "stdout",
          "text": [
            "\u001b[1m1/1\u001b[0m \u001b[32m━━━━━━━━━━━━━━━━━━━━\u001b[0m\u001b[37m\u001b[0m \u001b[1m0s\u001b[0m 151ms/step\n"
          ]
        },
        {
          "output_type": "stream",
          "name": "stderr",
          "text": [
            "/usr/local/lib/python3.11/dist-packages/tensorflow/python/data/ops/structured_function.py:258: UserWarning: Even though the `tf.config.experimental_run_functions_eagerly` option is set, this option does not apply to tf.data functions. To force eager execution of tf.data functions, please use `tf.data.experimental.enable_debug_mode()`.\n",
            "  warnings.warn(\n",
            "/usr/local/lib/python3.11/dist-packages/tensorflow/python/data/ops/structured_function.py:258: UserWarning: Even though the `tf.config.experimental_run_functions_eagerly` option is set, this option does not apply to tf.data functions. To force eager execution of tf.data functions, please use `tf.data.experimental.enable_debug_mode()`.\n",
            "  warnings.warn(\n"
          ]
        },
        {
          "output_type": "stream",
          "name": "stdout",
          "text": [
            "\u001b[1m1/1\u001b[0m \u001b[32m━━━━━━━━━━━━━━━━━━━━\u001b[0m\u001b[37m\u001b[0m \u001b[1m0s\u001b[0m 156ms/step\n",
            "\u001b[1m1/1\u001b[0m \u001b[32m━━━━━━━━━━━━━━━━━━━━\u001b[0m\u001b[37m\u001b[0m \u001b[1m0s\u001b[0m 152ms/step\n"
          ]
        },
        {
          "output_type": "stream",
          "name": "stderr",
          "text": [
            "/usr/local/lib/python3.11/dist-packages/tensorflow/python/data/ops/structured_function.py:258: UserWarning: Even though the `tf.config.experimental_run_functions_eagerly` option is set, this option does not apply to tf.data functions. To force eager execution of tf.data functions, please use `tf.data.experimental.enable_debug_mode()`.\n",
            "  warnings.warn(\n"
          ]
        },
        {
          "output_type": "stream",
          "name": "stdout",
          "text": [
            "\u001b[1m1/1\u001b[0m \u001b[32m━━━━━━━━━━━━━━━━━━━━\u001b[0m\u001b[37m\u001b[0m \u001b[1m0s\u001b[0m 147ms/step\n"
          ]
        },
        {
          "output_type": "stream",
          "name": "stderr",
          "text": [
            "/usr/local/lib/python3.11/dist-packages/tensorflow/python/data/ops/structured_function.py:258: UserWarning: Even though the `tf.config.experimental_run_functions_eagerly` option is set, this option does not apply to tf.data functions. To force eager execution of tf.data functions, please use `tf.data.experimental.enable_debug_mode()`.\n",
            "  warnings.warn(\n"
          ]
        },
        {
          "output_type": "stream",
          "name": "stdout",
          "text": [
            "\u001b[1m1/1\u001b[0m \u001b[32m━━━━━━━━━━━━━━━━━━━━\u001b[0m\u001b[37m\u001b[0m \u001b[1m0s\u001b[0m 146ms/step\n"
          ]
        },
        {
          "output_type": "stream",
          "name": "stderr",
          "text": [
            "/usr/local/lib/python3.11/dist-packages/tensorflow/python/data/ops/structured_function.py:258: UserWarning: Even though the `tf.config.experimental_run_functions_eagerly` option is set, this option does not apply to tf.data functions. To force eager execution of tf.data functions, please use `tf.data.experimental.enable_debug_mode()`.\n",
            "  warnings.warn(\n",
            "/usr/local/lib/python3.11/dist-packages/tensorflow/python/data/ops/structured_function.py:258: UserWarning: Even though the `tf.config.experimental_run_functions_eagerly` option is set, this option does not apply to tf.data functions. To force eager execution of tf.data functions, please use `tf.data.experimental.enable_debug_mode()`.\n",
            "  warnings.warn(\n"
          ]
        },
        {
          "output_type": "stream",
          "name": "stdout",
          "text": [
            "\u001b[1m1/1\u001b[0m \u001b[32m━━━━━━━━━━━━━━━━━━━━\u001b[0m\u001b[37m\u001b[0m \u001b[1m0s\u001b[0m 160ms/step\n",
            "\u001b[1m1/1\u001b[0m \u001b[32m━━━━━━━━━━━━━━━━━━━━\u001b[0m\u001b[37m\u001b[0m \u001b[1m0s\u001b[0m 156ms/step\n"
          ]
        },
        {
          "output_type": "stream",
          "name": "stderr",
          "text": [
            "/usr/local/lib/python3.11/dist-packages/tensorflow/python/data/ops/structured_function.py:258: UserWarning: Even though the `tf.config.experimental_run_functions_eagerly` option is set, this option does not apply to tf.data functions. To force eager execution of tf.data functions, please use `tf.data.experimental.enable_debug_mode()`.\n",
            "  warnings.warn(\n"
          ]
        },
        {
          "output_type": "stream",
          "name": "stdout",
          "text": [
            "\u001b[1m1/1\u001b[0m \u001b[32m━━━━━━━━━━━━━━━━━━━━\u001b[0m\u001b[37m\u001b[0m \u001b[1m0s\u001b[0m 151ms/step\n"
          ]
        },
        {
          "output_type": "stream",
          "name": "stderr",
          "text": [
            "/usr/local/lib/python3.11/dist-packages/tensorflow/python/data/ops/structured_function.py:258: UserWarning: Even though the `tf.config.experimental_run_functions_eagerly` option is set, this option does not apply to tf.data functions. To force eager execution of tf.data functions, please use `tf.data.experimental.enable_debug_mode()`.\n",
            "  warnings.warn(\n",
            "/usr/local/lib/python3.11/dist-packages/tensorflow/python/data/ops/structured_function.py:258: UserWarning: Even though the `tf.config.experimental_run_functions_eagerly` option is set, this option does not apply to tf.data functions. To force eager execution of tf.data functions, please use `tf.data.experimental.enable_debug_mode()`.\n",
            "  warnings.warn(\n"
          ]
        },
        {
          "output_type": "stream",
          "name": "stdout",
          "text": [
            "\u001b[1m1/1\u001b[0m \u001b[32m━━━━━━━━━━━━━━━━━━━━\u001b[0m\u001b[37m\u001b[0m \u001b[1m0s\u001b[0m 153ms/step\n",
            "\u001b[1m1/1\u001b[0m \u001b[32m━━━━━━━━━━━━━━━━━━━━\u001b[0m\u001b[37m\u001b[0m \u001b[1m0s\u001b[0m 147ms/step"
          ]
        },
        {
          "output_type": "stream",
          "name": "stderr",
          "text": [
            "/usr/local/lib/python3.11/dist-packages/tensorflow/python/data/ops/structured_function.py:258: UserWarning: Even though the `tf.config.experimental_run_functions_eagerly` option is set, this option does not apply to tf.data functions. To force eager execution of tf.data functions, please use `tf.data.experimental.enable_debug_mode()`.\n",
            "  warnings.warn(\n"
          ]
        },
        {
          "output_type": "stream",
          "name": "stdout",
          "text": [
            "\u001b[1m1/1\u001b[0m \u001b[32m━━━━━━━━━━━━━━━━━━━━\u001b[0m\u001b[37m\u001b[0m \u001b[1m0s\u001b[0m 169ms/step\n",
            "\u001b[1m1/1\u001b[0m \u001b[32m━━━━━━━━━━━━━━━━━━━━\u001b[0m\u001b[37m\u001b[0m \u001b[1m0s\u001b[0m 155ms/step\n"
          ]
        },
        {
          "output_type": "stream",
          "name": "stderr",
          "text": [
            "/usr/local/lib/python3.11/dist-packages/tensorflow/python/data/ops/structured_function.py:258: UserWarning: Even though the `tf.config.experimental_run_functions_eagerly` option is set, this option does not apply to tf.data functions. To force eager execution of tf.data functions, please use `tf.data.experimental.enable_debug_mode()`.\n",
            "  warnings.warn(\n"
          ]
        },
        {
          "output_type": "stream",
          "name": "stdout",
          "text": [
            "\u001b[1m1/1\u001b[0m \u001b[32m━━━━━━━━━━━━━━━━━━━━\u001b[0m\u001b[37m\u001b[0m \u001b[1m0s\u001b[0m 155ms/step\n"
          ]
        },
        {
          "output_type": "stream",
          "name": "stderr",
          "text": [
            "/usr/local/lib/python3.11/dist-packages/tensorflow/python/data/ops/structured_function.py:258: UserWarning: Even though the `tf.config.experimental_run_functions_eagerly` option is set, this option does not apply to tf.data functions. To force eager execution of tf.data functions, please use `tf.data.experimental.enable_debug_mode()`.\n",
            "  warnings.warn(\n"
          ]
        },
        {
          "output_type": "stream",
          "name": "stdout",
          "text": [
            "\u001b[1m1/1\u001b[0m \u001b[32m━━━━━━━━━━━━━━━━━━━━\u001b[0m\u001b[37m\u001b[0m \u001b[1m0s\u001b[0m 160ms/step\n"
          ]
        },
        {
          "output_type": "stream",
          "name": "stderr",
          "text": [
            "/usr/local/lib/python3.11/dist-packages/tensorflow/python/data/ops/structured_function.py:258: UserWarning: Even though the `tf.config.experimental_run_functions_eagerly` option is set, this option does not apply to tf.data functions. To force eager execution of tf.data functions, please use `tf.data.experimental.enable_debug_mode()`.\n",
            "  warnings.warn(\n"
          ]
        },
        {
          "output_type": "stream",
          "name": "stdout",
          "text": [
            "\u001b[1m1/1\u001b[0m \u001b[32m━━━━━━━━━━━━━━━━━━━━\u001b[0m\u001b[37m\u001b[0m \u001b[1m0s\u001b[0m 161ms/step\n"
          ]
        },
        {
          "output_type": "stream",
          "name": "stderr",
          "text": [
            "/usr/local/lib/python3.11/dist-packages/tensorflow/python/data/ops/structured_function.py:258: UserWarning: Even though the `tf.config.experimental_run_functions_eagerly` option is set, this option does not apply to tf.data functions. To force eager execution of tf.data functions, please use `tf.data.experimental.enable_debug_mode()`.\n",
            "  warnings.warn(\n"
          ]
        },
        {
          "output_type": "stream",
          "name": "stdout",
          "text": [
            "\u001b[1m1/1\u001b[0m \u001b[32m━━━━━━━━━━━━━━━━━━━━\u001b[0m\u001b[37m\u001b[0m \u001b[1m0s\u001b[0m 148ms/step\n"
          ]
        },
        {
          "output_type": "stream",
          "name": "stderr",
          "text": [
            "/usr/local/lib/python3.11/dist-packages/tensorflow/python/data/ops/structured_function.py:258: UserWarning: Even though the `tf.config.experimental_run_functions_eagerly` option is set, this option does not apply to tf.data functions. To force eager execution of tf.data functions, please use `tf.data.experimental.enable_debug_mode()`.\n",
            "  warnings.warn(\n",
            "/usr/local/lib/python3.11/dist-packages/tensorflow/python/data/ops/structured_function.py:258: UserWarning: Even though the `tf.config.experimental_run_functions_eagerly` option is set, this option does not apply to tf.data functions. To force eager execution of tf.data functions, please use `tf.data.experimental.enable_debug_mode()`.\n",
            "  warnings.warn(\n"
          ]
        },
        {
          "output_type": "stream",
          "name": "stdout",
          "text": [
            "\u001b[1m1/1\u001b[0m \u001b[32m━━━━━━━━━━━━━━━━━━━━\u001b[0m\u001b[37m\u001b[0m \u001b[1m0s\u001b[0m 148ms/step\n",
            "\u001b[1m1/1\u001b[0m \u001b[32m━━━━━━━━━━━━━━━━━━━━\u001b[0m\u001b[37m\u001b[0m \u001b[1m0s\u001b[0m 152ms/step\n"
          ]
        },
        {
          "output_type": "stream",
          "name": "stderr",
          "text": [
            "/usr/local/lib/python3.11/dist-packages/tensorflow/python/data/ops/structured_function.py:258: UserWarning: Even though the `tf.config.experimental_run_functions_eagerly` option is set, this option does not apply to tf.data functions. To force eager execution of tf.data functions, please use `tf.data.experimental.enable_debug_mode()`.\n",
            "  warnings.warn(\n",
            "/usr/local/lib/python3.11/dist-packages/tensorflow/python/data/ops/structured_function.py:258: UserWarning: Even though the `tf.config.experimental_run_functions_eagerly` option is set, this option does not apply to tf.data functions. To force eager execution of tf.data functions, please use `tf.data.experimental.enable_debug_mode()`.\n",
            "  warnings.warn(\n"
          ]
        },
        {
          "output_type": "stream",
          "name": "stdout",
          "text": [
            "\u001b[1m1/1\u001b[0m \u001b[32m━━━━━━━━━━━━━━━━━━━━\u001b[0m\u001b[37m\u001b[0m \u001b[1m0s\u001b[0m 149ms/step\n",
            "\u001b[1m1/1\u001b[0m \u001b[32m━━━━━━━━━━━━━━━━━━━━\u001b[0m\u001b[37m\u001b[0m \u001b[1m0s\u001b[0m 152ms/step\n"
          ]
        },
        {
          "output_type": "stream",
          "name": "stderr",
          "text": [
            "/usr/local/lib/python3.11/dist-packages/tensorflow/python/data/ops/structured_function.py:258: UserWarning: Even though the `tf.config.experimental_run_functions_eagerly` option is set, this option does not apply to tf.data functions. To force eager execution of tf.data functions, please use `tf.data.experimental.enable_debug_mode()`.\n",
            "  warnings.warn(\n",
            "/usr/local/lib/python3.11/dist-packages/tensorflow/python/data/ops/structured_function.py:258: UserWarning: Even though the `tf.config.experimental_run_functions_eagerly` option is set, this option does not apply to tf.data functions. To force eager execution of tf.data functions, please use `tf.data.experimental.enable_debug_mode()`.\n",
            "  warnings.warn(\n"
          ]
        },
        {
          "output_type": "stream",
          "name": "stdout",
          "text": [
            "\u001b[1m1/1\u001b[0m \u001b[32m━━━━━━━━━━━━━━━━━━━━\u001b[0m\u001b[37m\u001b[0m \u001b[1m0s\u001b[0m 162ms/step\n",
            "\u001b[1m1/1\u001b[0m \u001b[32m━━━━━━━━━━━━━━━━━━━━\u001b[0m\u001b[37m\u001b[0m \u001b[1m0s\u001b[0m 159ms/step\n"
          ]
        },
        {
          "output_type": "stream",
          "name": "stderr",
          "text": [
            "/usr/local/lib/python3.11/dist-packages/tensorflow/python/data/ops/structured_function.py:258: UserWarning: Even though the `tf.config.experimental_run_functions_eagerly` option is set, this option does not apply to tf.data functions. To force eager execution of tf.data functions, please use `tf.data.experimental.enable_debug_mode()`.\n",
            "  warnings.warn(\n"
          ]
        },
        {
          "output_type": "stream",
          "name": "stdout",
          "text": [
            "\u001b[1m1/1\u001b[0m \u001b[32m━━━━━━━━━━━━━━━━━━━━\u001b[0m\u001b[37m\u001b[0m \u001b[1m0s\u001b[0m 153ms/step\n"
          ]
        },
        {
          "output_type": "stream",
          "name": "stderr",
          "text": [
            "/usr/local/lib/python3.11/dist-packages/tensorflow/python/data/ops/structured_function.py:258: UserWarning: Even though the `tf.config.experimental_run_functions_eagerly` option is set, this option does not apply to tf.data functions. To force eager execution of tf.data functions, please use `tf.data.experimental.enable_debug_mode()`.\n",
            "  warnings.warn(\n"
          ]
        },
        {
          "output_type": "stream",
          "name": "stdout",
          "text": [
            "\u001b[1m1/1\u001b[0m \u001b[32m━━━━━━━━━━━━━━━━━━━━\u001b[0m\u001b[37m\u001b[0m \u001b[1m0s\u001b[0m 158ms/step\n"
          ]
        },
        {
          "output_type": "stream",
          "name": "stderr",
          "text": [
            "/usr/local/lib/python3.11/dist-packages/tensorflow/python/data/ops/structured_function.py:258: UserWarning: Even though the `tf.config.experimental_run_functions_eagerly` option is set, this option does not apply to tf.data functions. To force eager execution of tf.data functions, please use `tf.data.experimental.enable_debug_mode()`.\n",
            "  warnings.warn(\n"
          ]
        },
        {
          "output_type": "stream",
          "name": "stdout",
          "text": [
            "\r\u001b[1m1/1\u001b[0m \u001b[32m━━━━━━━━━━━━━━━━━━━━\u001b[0m\u001b[37m\u001b[0m \u001b[1m0s\u001b[0m 151ms/step"
          ]
        },
        {
          "output_type": "stream",
          "name": "stderr",
          "text": [
            "/usr/local/lib/python3.11/dist-packages/tensorflow/python/data/ops/structured_function.py:258: UserWarning: Even though the `tf.config.experimental_run_functions_eagerly` option is set, this option does not apply to tf.data functions. To force eager execution of tf.data functions, please use `tf.data.experimental.enable_debug_mode()`.\n",
            "  warnings.warn(\n"
          ]
        },
        {
          "output_type": "stream",
          "name": "stdout",
          "text": [
            "\b\b\b\b\b\b\b\b\b\b\b\b\b\b\b\b\b\b\b\b\b\b\b\b\b\b\b\b\b\b\b\b\b\b\b\b\b\b\r\u001b[1m1/1\u001b[0m \u001b[32m━━━━━━━━━━━━━━━━━━━━\u001b[0m\u001b[37m\u001b[0m \u001b[1m0s\u001b[0m 171ms/step\n"
          ]
        },
        {
          "output_type": "stream",
          "name": "stderr",
          "text": [
            "/usr/local/lib/python3.11/dist-packages/tensorflow/python/data/ops/structured_function.py:258: UserWarning: Even though the `tf.config.experimental_run_functions_eagerly` option is set, this option does not apply to tf.data functions. To force eager execution of tf.data functions, please use `tf.data.experimental.enable_debug_mode()`.\n",
            "  warnings.warn(\n"
          ]
        },
        {
          "output_type": "stream",
          "name": "stdout",
          "text": [
            "\u001b[1m1/1\u001b[0m \u001b[32m━━━━━━━━━━━━━━━━━━━━\u001b[0m\u001b[37m\u001b[0m \u001b[1m0s\u001b[0m 231ms/step\n"
          ]
        },
        {
          "output_type": "stream",
          "name": "stderr",
          "text": [
            "/usr/local/lib/python3.11/dist-packages/tensorflow/python/data/ops/structured_function.py:258: UserWarning: Even though the `tf.config.experimental_run_functions_eagerly` option is set, this option does not apply to tf.data functions. To force eager execution of tf.data functions, please use `tf.data.experimental.enable_debug_mode()`.\n",
            "  warnings.warn(\n"
          ]
        },
        {
          "output_type": "stream",
          "name": "stdout",
          "text": [
            "\u001b[1m1/1\u001b[0m \u001b[32m━━━━━━━━━━━━━━━━━━━━\u001b[0m\u001b[37m\u001b[0m \u001b[1m0s\u001b[0m 215ms/step\n"
          ]
        },
        {
          "output_type": "stream",
          "name": "stderr",
          "text": [
            "/usr/local/lib/python3.11/dist-packages/tensorflow/python/data/ops/structured_function.py:258: UserWarning: Even though the `tf.config.experimental_run_functions_eagerly` option is set, this option does not apply to tf.data functions. To force eager execution of tf.data functions, please use `tf.data.experimental.enable_debug_mode()`.\n",
            "  warnings.warn(\n"
          ]
        },
        {
          "output_type": "stream",
          "name": "stdout",
          "text": [
            "\u001b[1m1/1\u001b[0m \u001b[32m━━━━━━━━━━━━━━━━━━━━\u001b[0m\u001b[37m\u001b[0m \u001b[1m0s\u001b[0m 266ms/step\n"
          ]
        },
        {
          "output_type": "stream",
          "name": "stderr",
          "text": [
            "/usr/local/lib/python3.11/dist-packages/tensorflow/python/data/ops/structured_function.py:258: UserWarning: Even though the `tf.config.experimental_run_functions_eagerly` option is set, this option does not apply to tf.data functions. To force eager execution of tf.data functions, please use `tf.data.experimental.enable_debug_mode()`.\n",
            "  warnings.warn(\n"
          ]
        },
        {
          "output_type": "stream",
          "name": "stdout",
          "text": [
            "\u001b[1m1/1\u001b[0m \u001b[32m━━━━━━━━━━━━━━━━━━━━\u001b[0m\u001b[37m\u001b[0m \u001b[1m0s\u001b[0m 213ms/step\n"
          ]
        },
        {
          "output_type": "stream",
          "name": "stderr",
          "text": [
            "/usr/local/lib/python3.11/dist-packages/tensorflow/python/data/ops/structured_function.py:258: UserWarning: Even though the `tf.config.experimental_run_functions_eagerly` option is set, this option does not apply to tf.data functions. To force eager execution of tf.data functions, please use `tf.data.experimental.enable_debug_mode()`.\n",
            "  warnings.warn(\n"
          ]
        },
        {
          "output_type": "stream",
          "name": "stdout",
          "text": [
            "\u001b[1m1/1\u001b[0m \u001b[32m━━━━━━━━━━━━━━━━━━━━\u001b[0m\u001b[37m\u001b[0m \u001b[1m0s\u001b[0m 230ms/step\n"
          ]
        },
        {
          "output_type": "stream",
          "name": "stderr",
          "text": [
            "/usr/local/lib/python3.11/dist-packages/tensorflow/python/data/ops/structured_function.py:258: UserWarning: Even though the `tf.config.experimental_run_functions_eagerly` option is set, this option does not apply to tf.data functions. To force eager execution of tf.data functions, please use `tf.data.experimental.enable_debug_mode()`.\n",
            "  warnings.warn(\n"
          ]
        },
        {
          "output_type": "stream",
          "name": "stdout",
          "text": [
            "\u001b[1m1/1\u001b[0m \u001b[32m━━━━━━━━━━━━━━━━━━━━\u001b[0m\u001b[37m\u001b[0m \u001b[1m0s\u001b[0m 223ms/step\n"
          ]
        },
        {
          "output_type": "stream",
          "name": "stderr",
          "text": [
            "/usr/local/lib/python3.11/dist-packages/tensorflow/python/data/ops/structured_function.py:258: UserWarning: Even though the `tf.config.experimental_run_functions_eagerly` option is set, this option does not apply to tf.data functions. To force eager execution of tf.data functions, please use `tf.data.experimental.enable_debug_mode()`.\n",
            "  warnings.warn(\n"
          ]
        },
        {
          "output_type": "stream",
          "name": "stdout",
          "text": [
            "\u001b[1m1/1\u001b[0m \u001b[32m━━━━━━━━━━━━━━━━━━━━\u001b[0m\u001b[37m\u001b[0m \u001b[1m0s\u001b[0m 246ms/step\n"
          ]
        },
        {
          "output_type": "stream",
          "name": "stderr",
          "text": [
            "/usr/local/lib/python3.11/dist-packages/tensorflow/python/data/ops/structured_function.py:258: UserWarning: Even though the `tf.config.experimental_run_functions_eagerly` option is set, this option does not apply to tf.data functions. To force eager execution of tf.data functions, please use `tf.data.experimental.enable_debug_mode()`.\n",
            "  warnings.warn(\n"
          ]
        },
        {
          "output_type": "stream",
          "name": "stdout",
          "text": [
            "\u001b[1m1/1\u001b[0m \u001b[32m━━━━━━━━━━━━━━━━━━━━\u001b[0m\u001b[37m\u001b[0m \u001b[1m0s\u001b[0m 239ms/step\n",
            "\u001b[1m1/1\u001b[0m \u001b[32m━━━━━━━━━━━━━━━━━━━━\u001b[0m\u001b[37m\u001b[0m \u001b[1m0s\u001b[0m 150ms/step\n"
          ]
        },
        {
          "output_type": "stream",
          "name": "stderr",
          "text": [
            "/usr/local/lib/python3.11/dist-packages/tensorflow/python/data/ops/structured_function.py:258: UserWarning: Even though the `tf.config.experimental_run_functions_eagerly` option is set, this option does not apply to tf.data functions. To force eager execution of tf.data functions, please use `tf.data.experimental.enable_debug_mode()`.\n",
            "  warnings.warn(\n",
            "/usr/local/lib/python3.11/dist-packages/tensorflow/python/data/ops/structured_function.py:258: UserWarning: Even though the `tf.config.experimental_run_functions_eagerly` option is set, this option does not apply to tf.data functions. To force eager execution of tf.data functions, please use `tf.data.experimental.enable_debug_mode()`.\n",
            "  warnings.warn(\n"
          ]
        },
        {
          "output_type": "stream",
          "name": "stdout",
          "text": [
            "\u001b[1m1/1\u001b[0m \u001b[32m━━━━━━━━━━━━━━━━━━━━\u001b[0m\u001b[37m\u001b[0m \u001b[1m0s\u001b[0m 145ms/step\n",
            "\u001b[1m1/1\u001b[0m \u001b[32m━━━━━━━━━━━━━━━━━━━━\u001b[0m\u001b[37m\u001b[0m \u001b[1m0s\u001b[0m 150ms/step"
          ]
        },
        {
          "output_type": "stream",
          "name": "stderr",
          "text": [
            "/usr/local/lib/python3.11/dist-packages/tensorflow/python/data/ops/structured_function.py:258: UserWarning: Even though the `tf.config.experimental_run_functions_eagerly` option is set, this option does not apply to tf.data functions. To force eager execution of tf.data functions, please use `tf.data.experimental.enable_debug_mode()`.\n",
            "  warnings.warn(\n"
          ]
        },
        {
          "output_type": "stream",
          "name": "stdout",
          "text": [
            "\u001b[1m1/1\u001b[0m \u001b[32m━━━━━━━━━━━━━━━━━━━━\u001b[0m\u001b[37m\u001b[0m \u001b[1m0s\u001b[0m 171ms/step\n",
            "\u001b[1m1/1\u001b[0m \u001b[32m━━━━━━━━━━━━━━━━━━━━\u001b[0m\u001b[37m\u001b[0m \u001b[1m0s\u001b[0m 150ms/step\n"
          ]
        },
        {
          "output_type": "stream",
          "name": "stderr",
          "text": [
            "/usr/local/lib/python3.11/dist-packages/tensorflow/python/data/ops/structured_function.py:258: UserWarning: Even though the `tf.config.experimental_run_functions_eagerly` option is set, this option does not apply to tf.data functions. To force eager execution of tf.data functions, please use `tf.data.experimental.enable_debug_mode()`.\n",
            "  warnings.warn(\n",
            "/usr/local/lib/python3.11/dist-packages/tensorflow/python/data/ops/structured_function.py:258: UserWarning: Even though the `tf.config.experimental_run_functions_eagerly` option is set, this option does not apply to tf.data functions. To force eager execution of tf.data functions, please use `tf.data.experimental.enable_debug_mode()`.\n",
            "  warnings.warn(\n"
          ]
        },
        {
          "output_type": "stream",
          "name": "stdout",
          "text": [
            "\u001b[1m1/1\u001b[0m \u001b[32m━━━━━━━━━━━━━━━━━━━━\u001b[0m\u001b[37m\u001b[0m \u001b[1m0s\u001b[0m 151ms/step\n",
            "\u001b[1m1/1\u001b[0m \u001b[32m━━━━━━━━━━━━━━━━━━━━\u001b[0m\u001b[37m\u001b[0m \u001b[1m0s\u001b[0m 152ms/step"
          ]
        },
        {
          "output_type": "stream",
          "name": "stderr",
          "text": [
            "/usr/local/lib/python3.11/dist-packages/tensorflow/python/data/ops/structured_function.py:258: UserWarning: Even though the `tf.config.experimental_run_functions_eagerly` option is set, this option does not apply to tf.data functions. To force eager execution of tf.data functions, please use `tf.data.experimental.enable_debug_mode()`.\n",
            "  warnings.warn(\n"
          ]
        },
        {
          "output_type": "stream",
          "name": "stdout",
          "text": [
            "\u001b[1m1/1\u001b[0m \u001b[32m━━━━━━━━━━━━━━━━━━━━\u001b[0m\u001b[37m\u001b[0m \u001b[1m0s\u001b[0m 171ms/step\n",
            "\u001b[1m1/1\u001b[0m \u001b[32m━━━━━━━━━━━━━━━━━━━━\u001b[0m\u001b[37m\u001b[0m \u001b[1m0s\u001b[0m 156ms/step\n"
          ]
        },
        {
          "output_type": "stream",
          "name": "stderr",
          "text": [
            "/usr/local/lib/python3.11/dist-packages/tensorflow/python/data/ops/structured_function.py:258: UserWarning: Even though the `tf.config.experimental_run_functions_eagerly` option is set, this option does not apply to tf.data functions. To force eager execution of tf.data functions, please use `tf.data.experimental.enable_debug_mode()`.\n",
            "  warnings.warn(\n"
          ]
        },
        {
          "output_type": "stream",
          "name": "stdout",
          "text": [
            "\u001b[1m1/1\u001b[0m \u001b[32m━━━━━━━━━━━━━━━━━━━━\u001b[0m\u001b[37m\u001b[0m \u001b[1m0s\u001b[0m 150ms/step\n"
          ]
        },
        {
          "output_type": "stream",
          "name": "stderr",
          "text": [
            "/usr/local/lib/python3.11/dist-packages/tensorflow/python/data/ops/structured_function.py:258: UserWarning: Even though the `tf.config.experimental_run_functions_eagerly` option is set, this option does not apply to tf.data functions. To force eager execution of tf.data functions, please use `tf.data.experimental.enable_debug_mode()`.\n",
            "  warnings.warn(\n",
            "/usr/local/lib/python3.11/dist-packages/tensorflow/python/data/ops/structured_function.py:258: UserWarning: Even though the `tf.config.experimental_run_functions_eagerly` option is set, this option does not apply to tf.data functions. To force eager execution of tf.data functions, please use `tf.data.experimental.enable_debug_mode()`.\n",
            "  warnings.warn(\n"
          ]
        },
        {
          "output_type": "stream",
          "name": "stdout",
          "text": [
            "\u001b[1m1/1\u001b[0m \u001b[32m━━━━━━━━━━━━━━━━━━━━\u001b[0m\u001b[37m\u001b[0m \u001b[1m0s\u001b[0m 149ms/step\n",
            "\u001b[1m1/1\u001b[0m \u001b[32m━━━━━━━━━━━━━━━━━━━━\u001b[0m\u001b[37m\u001b[0m \u001b[1m0s\u001b[0m 163ms/step\n"
          ]
        },
        {
          "output_type": "stream",
          "name": "stderr",
          "text": [
            "/usr/local/lib/python3.11/dist-packages/tensorflow/python/data/ops/structured_function.py:258: UserWarning: Even though the `tf.config.experimental_run_functions_eagerly` option is set, this option does not apply to tf.data functions. To force eager execution of tf.data functions, please use `tf.data.experimental.enable_debug_mode()`.\n",
            "  warnings.warn(\n"
          ]
        },
        {
          "output_type": "stream",
          "name": "stdout",
          "text": [
            "\u001b[1m1/1\u001b[0m \u001b[32m━━━━━━━━━━━━━━━━━━━━\u001b[0m\u001b[37m\u001b[0m \u001b[1m0s\u001b[0m 153ms/step\n"
          ]
        },
        {
          "output_type": "stream",
          "name": "stderr",
          "text": [
            "/usr/local/lib/python3.11/dist-packages/tensorflow/python/data/ops/structured_function.py:258: UserWarning: Even though the `tf.config.experimental_run_functions_eagerly` option is set, this option does not apply to tf.data functions. To force eager execution of tf.data functions, please use `tf.data.experimental.enable_debug_mode()`.\n",
            "  warnings.warn(\n",
            "/usr/local/lib/python3.11/dist-packages/tensorflow/python/data/ops/structured_function.py:258: UserWarning: Even though the `tf.config.experimental_run_functions_eagerly` option is set, this option does not apply to tf.data functions. To force eager execution of tf.data functions, please use `tf.data.experimental.enable_debug_mode()`.\n",
            "  warnings.warn(\n"
          ]
        },
        {
          "output_type": "stream",
          "name": "stdout",
          "text": [
            "\u001b[1m1/1\u001b[0m \u001b[32m━━━━━━━━━━━━━━━━━━━━\u001b[0m\u001b[37m\u001b[0m \u001b[1m0s\u001b[0m 188ms/step\n",
            "Epoch 1/20\n"
          ]
        },
        {
          "output_type": "stream",
          "name": "stderr",
          "text": [
            "/usr/local/lib/python3.11/dist-packages/tensorflow/python/data/ops/structured_function.py:258: UserWarning: Even though the `tf.config.experimental_run_functions_eagerly` option is set, this option does not apply to tf.data functions. To force eager execution of tf.data functions, please use `tf.data.experimental.enable_debug_mode()`.\n",
            "  warnings.warn(\n"
          ]
        },
        {
          "output_type": "error",
          "ename": "InvalidArgumentError",
          "evalue": "Exception encountered when calling MusicTransformer.call().\n\n\u001b[1m{{function_node __wrapped__AddV2_device_/job:localhost/replica:0/task:0/device:GPU:0}} required broadcastable shapes [Op:AddV2] name: \u001b[0m\n\nArguments received by MusicTransformer.call():\n  • x=tf.Tensor(shape=(1, 500), dtype=int32)",
          "traceback": [
            "\u001b[0;31m---------------------------------------------------------------------------\u001b[0m",
            "\u001b[0;31mInvalidArgumentError\u001b[0m                      Traceback (most recent call last)",
            "\u001b[0;32m<ipython-input-78-9eb552e3f6bf>\u001b[0m in \u001b[0;36m<cell line: 0>\u001b[0;34m()\u001b[0m\n\u001b[1;32m     10\u001b[0m \u001b[0mmodel\u001b[0m \u001b[0;34m=\u001b[0m \u001b[0mMusicTransformer\u001b[0m\u001b[0;34m(\u001b[0m\u001b[0;34m)\u001b[0m\u001b[0;34m\u001b[0m\u001b[0;34m\u001b[0m\u001b[0m\n\u001b[1;32m     11\u001b[0m \u001b[0mmodel\u001b[0m\u001b[0;34m.\u001b[0m\u001b[0mcompile\u001b[0m\u001b[0;34m(\u001b[0m\u001b[0moptimizer\u001b[0m\u001b[0;34m=\u001b[0m\u001b[0;34m'adam'\u001b[0m\u001b[0;34m,\u001b[0m \u001b[0mloss\u001b[0m\u001b[0;34m=\u001b[0m\u001b[0;34m'sparse_categorical_crossentropy'\u001b[0m\u001b[0;34m,\u001b[0m \u001b[0mmetrics\u001b[0m\u001b[0;34m=\u001b[0m\u001b[0;34m[\u001b[0m\u001b[0;34m'accuracy'\u001b[0m\u001b[0;34m]\u001b[0m\u001b[0;34m)\u001b[0m\u001b[0;34m\u001b[0m\u001b[0;34m\u001b[0m\u001b[0m\n\u001b[0;32m---> 12\u001b[0;31m \u001b[0mmodel\u001b[0m\u001b[0;34m.\u001b[0m\u001b[0mfit\u001b[0m\u001b[0;34m(\u001b[0m\u001b[0mX_train\u001b[0m\u001b[0;34m,\u001b[0m \u001b[0my_train\u001b[0m\u001b[0;34m,\u001b[0m \u001b[0mepochs\u001b[0m\u001b[0;34m=\u001b[0m\u001b[0;36m20\u001b[0m\u001b[0;34m)\u001b[0m\u001b[0;34m\u001b[0m\u001b[0;34m\u001b[0m\u001b[0m\n\u001b[0m",
            "\u001b[0;32m/usr/local/lib/python3.11/dist-packages/keras/src/utils/traceback_utils.py\u001b[0m in \u001b[0;36merror_handler\u001b[0;34m(*args, **kwargs)\u001b[0m\n\u001b[1;32m    120\u001b[0m             \u001b[0;31m# To get the full stack trace, call:\u001b[0m\u001b[0;34m\u001b[0m\u001b[0;34m\u001b[0m\u001b[0m\n\u001b[1;32m    121\u001b[0m             \u001b[0;31m# `keras.config.disable_traceback_filtering()`\u001b[0m\u001b[0;34m\u001b[0m\u001b[0;34m\u001b[0m\u001b[0m\n\u001b[0;32m--> 122\u001b[0;31m             \u001b[0;32mraise\u001b[0m \u001b[0me\u001b[0m\u001b[0;34m.\u001b[0m\u001b[0mwith_traceback\u001b[0m\u001b[0;34m(\u001b[0m\u001b[0mfiltered_tb\u001b[0m\u001b[0;34m)\u001b[0m \u001b[0;32mfrom\u001b[0m \u001b[0;32mNone\u001b[0m\u001b[0;34m\u001b[0m\u001b[0;34m\u001b[0m\u001b[0m\n\u001b[0m\u001b[1;32m    123\u001b[0m         \u001b[0;32mfinally\u001b[0m\u001b[0;34m:\u001b[0m\u001b[0;34m\u001b[0m\u001b[0;34m\u001b[0m\u001b[0m\n\u001b[1;32m    124\u001b[0m             \u001b[0;32mdel\u001b[0m \u001b[0mfiltered_tb\u001b[0m\u001b[0;34m\u001b[0m\u001b[0;34m\u001b[0m\u001b[0m\n",
            "\u001b[0;32m<ipython-input-74-c28f8fb4a3a3>\u001b[0m in \u001b[0;36mcall\u001b[0;34m(self, x)\u001b[0m\n\u001b[1;32m     19\u001b[0m         \u001b[0mseq_len\u001b[0m \u001b[0;34m=\u001b[0m \u001b[0mtf\u001b[0m\u001b[0;34m.\u001b[0m\u001b[0mshape\u001b[0m\u001b[0;34m(\u001b[0m\u001b[0mx\u001b[0m\u001b[0;34m)\u001b[0m\u001b[0;34m[\u001b[0m\u001b[0;36m1\u001b[0m\u001b[0;34m]\u001b[0m\u001b[0;34m\u001b[0m\u001b[0;34m\u001b[0m\u001b[0m\n\u001b[1;32m     20\u001b[0m         \u001b[0mx\u001b[0m \u001b[0;34m=\u001b[0m \u001b[0mself\u001b[0m\u001b[0;34m.\u001b[0m\u001b[0membedding\u001b[0m\u001b[0;34m(\u001b[0m\u001b[0mx\u001b[0m\u001b[0;34m)\u001b[0m\u001b[0;34m\u001b[0m\u001b[0;34m\u001b[0m\u001b[0m\n\u001b[0;32m---> 21\u001b[0;31m         \u001b[0mx\u001b[0m \u001b[0;34m+=\u001b[0m \u001b[0mself\u001b[0m\u001b[0;34m.\u001b[0m\u001b[0mpos_encoding\u001b[0m\u001b[0;34m[\u001b[0m\u001b[0;34m:\u001b[0m\u001b[0;34m,\u001b[0m \u001b[0;34m:\u001b[0m\u001b[0mseq_len\u001b[0m\u001b[0;34m,\u001b[0m \u001b[0;34m:\u001b[0m\u001b[0;34m]\u001b[0m\u001b[0;34m\u001b[0m\u001b[0;34m\u001b[0m\u001b[0m\n\u001b[0m\u001b[1;32m     22\u001b[0m \u001b[0;34m\u001b[0m\u001b[0m\n\u001b[1;32m     23\u001b[0m         \u001b[0;32mfor\u001b[0m \u001b[0mblock\u001b[0m \u001b[0;32min\u001b[0m \u001b[0mself\u001b[0m\u001b[0;34m.\u001b[0m\u001b[0mtransformer_blocks\u001b[0m\u001b[0;34m:\u001b[0m\u001b[0;34m\u001b[0m\u001b[0;34m\u001b[0m\u001b[0m\n",
            "\u001b[0;31mInvalidArgumentError\u001b[0m: Exception encountered when calling MusicTransformer.call().\n\n\u001b[1m{{function_node __wrapped__AddV2_device_/job:localhost/replica:0/task:0/device:GPU:0}} required broadcastable shapes [Op:AddV2] name: \u001b[0m\n\nArguments received by MusicTransformer.call():\n  • x=tf.Tensor(shape=(1, 500), dtype=int32)"
          ]
        }
      ],
      "source": [
        "import pretty_midi\n",
        "\n",
        "def generate_music_from_transformer(start_seq, model, length=32):\n",
        "    output = start_seq.copy()\n",
        "    for _ in range(length):\n",
        "        inp = pad_sequences([output], maxlen=100, padding='pre')\n",
        "        pred = model.predict(inp)[0][-1]\n",
        "        next_note = np.argmax(pred)\n",
        "        output.append(next_note)\n",
        "    return output\n",
        "\n",
        "def save_midi(note_seq, filename=\"output.mid\"):\n",
        "    midi = pretty_midi.PrettyMIDI()\n",
        "    piano = pretty_midi.Instrument(program=0)\n",
        "    start = 0\n",
        "    for note in note_seq:\n",
        "        pitch = note + 21  # MIDI pitch range 보정\n",
        "        note = pretty_midi.Note(velocity=100, pitch=pitch, start=start, end=start + 0.5)\n",
        "        piano.notes.append(note)\n",
        "        start += 0.5\n",
        "    midi.instruments.append(piano)\n",
        "    midi.write(filename)\n"
      ]
    },
    {
      "cell_type": "code",
      "source": [
        "generated_seq = generate_music_from_transformer(start_seq=[60, 62, 64], model=transformer_model)\n",
        "save_midi(generated_seq, filename=\"generated_music.mid\")\n"
      ],
      "metadata": {
        "id": "-C-gJ1Ep0cfm"
      },
      "execution_count": null,
      "outputs": []
    },
    {
      "cell_type": "code",
      "source": [
        "sequence_to_midi(generated_sequence, filename=\"generated_from_musicmnist.mid\")\n"
      ],
      "metadata": {
        "id": "y5Y3S4eS0c90"
      },
      "execution_count": null,
      "outputs": []
    },
    {
      "cell_type": "code",
      "source": [
        "import pretty_midi\n",
        "import numpy as np\n",
        "\n",
        "def prediction_to_midi(pred_seq, filename=\"output.mid\", velocity=100, duration=0.5):\n",
        "    \"\"\"\n",
        "    예측된 음표 시퀀스를 MIDI 파일로 저장\n",
        "    :param pred_seq: (seq_len,) 정수 인덱스 시퀀스 (0~127 범위)\n",
        "    :param filename: 저장할 MIDI 파일명\n",
        "    :param velocity: 음표 세기 (0~127)\n",
        "    :param duration: 각 음표 길이 (초 단위)\n",
        "    \"\"\"\n",
        "    midi = pretty_midi.PrettyMIDI()\n",
        "    piano = pretty_midi.Instrument(program=0)  # Acoustic Grand Piano\n",
        "\n",
        "    current_time = 0.0\n",
        "    for pitch in pred_seq:\n",
        "        if pitch < 0 or pitch > 127: continue  # MIDI pitch 범위 제한\n",
        "        note = pretty_midi.Note(velocity=velocity, pitch=int(pitch),\n",
        "                                start=current_time, end=current_time + duration)\n",
        "        piano.notes.append(note)\n",
        "        current_time += duration\n",
        "\n",
        "    midi.instruments.append(piano)\n",
        "    midi.write(filename)\n",
        "    print(f\"✅ MIDI saved to: {filename}\")\n"
      ],
      "metadata": {
        "id": "X_6KOj0QUXYI"
      },
      "execution_count": null,
      "outputs": []
    },
    {
      "cell_type": "code",
      "source": [
        "import subprocess\n",
        "\n",
        "def convert_midi_to_mp3(midi_path='output.mid', sf2_path='FluidR3_GM.sf2'):\n",
        "    wav_path = midi_path.replace('.mid', '.wav')\n",
        "    mp3_path = midi_path.replace('.mid', '.mp3')\n",
        "\n",
        "    subprocess.run(['fluidsynth', '-ni', sf2_path, midi_path, '-F', wav_path, '-r', '44100'], check=True)\n",
        "    subprocess.run(['ffmpeg', '-y', '-i', wav_path, mp3_path], check=True)\n",
        "    print(f\"✅ MP3 saved to: {mp3_path}\")"
      ],
      "metadata": {
        "id": "WjHMiAknUg6i"
      },
      "execution_count": null,
      "outputs": []
    },
    {
      "cell_type": "code",
      "execution_count": null,
      "metadata": {
        "colab": {
          "base_uri": "https://localhost:8080/"
        },
        "id": "3AsI-LC56_v-",
        "outputId": "03193d47-cd18-4163-eedf-bf727c375db4"
      },
      "outputs": [
        {
          "output_type": "stream",
          "name": "stdout",
          "text": [
            "                filename  classID class    set         ground_truth\n",
            "0  A-1_German_Studio.wav        0   A-1  train  A-1_Sheet_Music.jpg\n",
            "1  B-1_German_Studio.wav        2   B-1  train  B-1_Sheet_Music.jpg\n",
            "2   C0_German_Studio.wav        3    C0  train   C0_Sheet_Music.jpg\n",
            "3   D0_German_Studio.wav        5    D0  train   D0_Sheet_Music.jpg\n",
            "4   E0_German_Studio.wav        7    E0  train   E0_Sheet_Music.jpg\n"
          ]
        }
      ],
      "source": [
        "import pandas as pd\n",
        "\n",
        "meta_df = pd.read_csv(CSV_PATH)\n",
        "print(meta_df.head())  # 확인용\n"
      ]
    },
    {
      "cell_type": "code",
      "execution_count": null,
      "metadata": {
        "id": "v9Z6t6oW7BSB"
      },
      "outputs": [],
      "source": [
        "import numpy as np\n",
        "from PIL import Image\n",
        "import tensorflow as tf\n",
        "import os\n",
        "\n",
        "NUM_CLASSES = 88\n",
        "SEQ_LEN = 1  # 단일 음표\n",
        "\n",
        "def load_img_label(image_filename, label):\n",
        "    img_path = os.path.join(IMAGE_DIR, image_filename)\n",
        "    image = Image.open(img_path).convert(\"RGB\").resize((299, 299))\n",
        "    image = np.array(image).astype(\"float32\") / 255.0\n",
        "\n",
        "    # label one-hot encoding\n",
        "    label_onehot = tf.keras.utils.to_categorical(label, num_classes=NUM_CLASSES)\n",
        "    return image, label_onehot\n"
      ]
    },
    {
      "cell_type": "code",
      "execution_count": null,
      "metadata": {
        "id": "Dw_1_4747DQL"
      },
      "outputs": [],
      "source": [
        "def make_music_dataset(meta_df, batch_size=32):\n",
        "    images = []\n",
        "    decoder_inputs = []\n",
        "    labels = []\n",
        "\n",
        "    for _, row in meta_df.iterrows():\n",
        "        img, label = load_img_label(row[\"ground_truth\"], row[\"classID\"])\n",
        "        images.append(img)\n",
        "        labels.append(label)\n",
        "\n",
        "        # decoder input: zero 초기화 (shape: SEQ_LEN x emb_dim)\n",
        "        dec_input = np.zeros((SEQ_LEN, 512))  # emb_dim=512로 맞춤\n",
        "        decoder_inputs.append(dec_input)\n",
        "\n",
        "    # 배열 변환\n",
        "    images = np.array(images)\n",
        "    decoder_inputs = np.array(decoder_inputs)\n",
        "    labels = np.array(labels)\n",
        "    labels = np.reshape(labels, (labels.shape[0], SEQ_LEN, NUM_CLASSES))  # (batch, seq_len, class)\n",
        "\n",
        "    # ✅ 두 개의 입력을 tuple로 전달\n",
        "    return tf.data.Dataset.from_tensor_slices(((images, decoder_inputs), labels)).shuffle(500).batch(batch_size)\n"
      ]
    },
    {
      "cell_type": "markdown",
      "source": [
        "해당 아래 절대로 지우지마 우진아 제발 부탁이다"
      ],
      "metadata": {
        "id": "rIIZyEjn-ACY"
      }
    },
    {
      "cell_type": "code",
      "source": [
        "import os\n",
        "import cv2\n",
        "import numpy as np\n",
        "import tensorflow as tf\n",
        "from matplotlib import pyplot as plt\n",
        "\n",
        "# ====== Xception 모델 로드 ======\n",
        "MODEL_PATH = '/content/drive/MyDrive/MusicMNIST_Project/saved_models/multimodal_xception_audio_model.h5'\n",
        "xception_model = tf.keras.models.load_model(MODEL_PATH)\n",
        "\n",
        "# ====== 악보 이미지 전처리 함수 ======\n",
        "def preprocess_sheet(image_path):\n",
        "    img = cv2.imread(image_path, cv2.IMREAD_GRAYSCALE)\n",
        "    _, thresh = cv2.threshold(img, 127, 255, cv2.THRESH_BINARY_INV)\n",
        "    return thresh\n",
        "\n",
        "# ====== 줄 별 음표 자르기 함수 ======\n",
        "def extract_note_patches(thresh_img, original_img, patch_size=(299, 299), min_area=30):\n",
        "    contours, _ = cv2.findContours(thresh_img, cv2.RETR_EXTERNAL, cv2.CHAIN_APPROX_SIMPLE)\n",
        "    note_regions = []\n",
        "\n",
        "    for cnt in contours:\n",
        "        x, y, w, h = cv2.boundingRect(cnt)\n",
        "        if w * h > min_area:  # 너무 작은 점 등은 제외\n",
        "            note = original_img[y:y+h, x:x+w]\n",
        "            note = cv2.resize(note, patch_size)\n",
        "            note = tf.keras.applications.xception.preprocess_input(note.astype('float32'))\n",
        "            note_regions.append(((x, y), note))\n",
        "\n",
        "    # 줄별 정렬: 위→아래 줄 순서, 각 줄은 좌→우\n",
        "    def line_sort_key(pos):\n",
        "        return (pos[0][1] // 50, pos[0][0])  # y좌표 → 줄, x좌표 → 순서\n",
        "\n",
        "    note_regions.sort(key=line_sort_key)\n",
        "    return [patch for _, patch in note_regions]\n",
        "\n",
        "# ====== 예측 함수 ======\n",
        "def predict_midi_sequence(note_images):\n",
        "    input_batch = np.stack(note_images, axis=0)\n",
        "    preds = xception_model.predict(input_batch)\n",
        "    midi_sequence = np.argmax(preds, axis=1)\n",
        "    return midi_sequence.tolist()\n",
        "\n",
        "# ====== 실행 파이프라인 함수 ======\n",
        "def sheet_to_midi_sequence(image_path):\n",
        "    print(f\"🎼 Processing: {image_path}\")\n",
        "    original_img = cv2.imread(image_path)\n",
        "    thresh_img = preprocess_sheet(image_path)\n",
        "    note_patches = extract_note_patches(thresh_img, original_img)\n",
        "\n",
        "    if not note_patches:\n",
        "        print(\"⚠️ 음표를 찾을 수 없습니다.\")\n",
        "        return []\n",
        "\n",
        "    midi_sequence = predict_midi_sequence(note_patches)\n",
        "    print(f\"🎵 MIDI 시퀀스 예측 결과: {midi_sequence}\")\n",
        "    return midi_sequence\n"
      ],
      "metadata": {
        "id": "C3qBqVhc9_kQ"
      },
      "execution_count": null,
      "outputs": []
    }
  ],
  "metadata": {
    "accelerator": "GPU",
    "colab": {
      "gpuType": "T4",
      "provenance": []
    },
    "kernelspec": {
      "display_name": "Python 3",
      "name": "python3"
    },
    "language_info": {
      "name": "python"
    }
  },
  "nbformat": 4,
  "nbformat_minor": 0
}